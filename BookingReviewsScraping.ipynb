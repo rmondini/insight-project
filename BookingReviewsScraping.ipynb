{
 "cells": [
  {
   "cell_type": "markdown",
   "metadata": {},
   "source": [
    "### Import libraries"
   ]
  },
  {
   "cell_type": "code",
   "execution_count": 2,
   "metadata": {},
   "outputs": [],
   "source": [
    "import pandas as pd\n",
    "import numpy as np\n",
    "import requests\n",
    "import lxml.html as lh\n",
    "import csv\n",
    "from bs4 import BeautifulSoup"
   ]
  },
  {
   "cell_type": "markdown",
   "metadata": {},
   "source": [
    "### Define useful functions"
   ]
  },
  {
   "cell_type": "code",
   "execution_count": 207,
   "metadata": {},
   "outputs": [],
   "source": [
    "def extract_review_body(review_query):\n",
    "    if review_query != None:\n",
    "        return review_query.find(\"span\", itemprop=\"reviewBody\").get_text()\n",
    "    else:\n",
    "        return None\n",
    "\n",
    "def extract_review_staydate(review_query):\n",
    "    if review_query != None:\n",
    "        return review_query.get_text().strip('\\n').strip('Stayed in ')\n",
    "    else:\n",
    "        return None\n",
    "    \n",
    "def de_emojify(inputString):\n",
    "    if inputString!=None:\n",
    "        return inputString.encode('ascii', 'ignore').decode('ascii')\n",
    "    else:\n",
    "        return inputString"
   ]
  },
  {
   "cell_type": "markdown",
   "metadata": {},
   "source": [
    "### Specify user agent"
   ]
  },
  {
   "cell_type": "code",
   "execution_count": 4,
   "metadata": {},
   "outputs": [],
   "source": [
    "headers = {'User-Agent': 'Mozilla/5.0 (X11; Linux x86_64) AppleWebKit/537.36 (KHTML, like Gecko) Chrome/80.0.3987.149 Safari/537.36'}"
   ]
  },
  {
   "cell_type": "markdown",
   "metadata": {},
   "source": [
    "### Get names and urls of hotels in NYS"
   ]
  },
  {
   "cell_type": "code",
   "execution_count": 5,
   "metadata": {},
   "outputs": [],
   "source": [
    "next_page=True\n",
    "ip=1\n",
    "hotel_results_offset=0\n",
    "hotel_info_list = []\n",
    "while next_page:    \n",
    "    url= 'http://www.booking.com/reviews/region/new-york-state.html?offset='+str(hotel_results_offset)+'&'\n",
    "    response = requests.get(url,headers=headers)\n",
    "    hotel_info = BeautifulSoup(response.text, 'html.parser')\n",
    "    hotel_info_page = hotel_info.find_all(class_=['rlp-main-hotel','li'])\n",
    "    hotel_info_list.extend(hotel_info_page)\n",
    "    ip+=1\n",
    "    hotel_results_offset+=30\n",
    "    if hotel_info_page==[]:\n",
    "        next_page=False"
   ]
  },
  {
   "cell_type": "code",
   "execution_count": 36,
   "metadata": {},
   "outputs": [],
   "source": [
    "#hotel_url_list = []\n",
    "#hotel_name_list = []\n",
    "nys_hotel_info_list_csvname = './datasets/nys_hotel_info_list.csv'\n",
    "\n",
    "with open(nys_hotel_info_list_csvname, 'w', newline='', encoding=\"UTF-8\") as f:\n",
    "    writer = csv.writer(f)\n",
    "    writer.writerow(['hotel_name','hotel_url'])\n",
    "    \n",
    "    for hotel_info_item in hotel_info_list:   \n",
    "        hotel_name = hotel_info_item.find(class_ = 'rlp-main-hotel__hotel-name-link').get_text()\n",
    "        hotel_url = hotel_info_item.find(class_ = 'rlp-main-hotel__hotel-name-link')['href'].split('.html?')[0]\n",
    "\n",
    "        #hotel_name_list.append(hotel_name)\n",
    "        #hotel_url_list.append(hotel_url)\n",
    "        writer.writerow([hotel_name,hotel_url])"
   ]
  },
  {
   "cell_type": "markdown",
   "metadata": {},
   "source": [
    "### Get names and urls of hotels in Arizona"
   ]
  },
  {
   "cell_type": "code",
   "execution_count": 62,
   "metadata": {},
   "outputs": [],
   "source": [
    "next_page=True\n",
    "ip=1\n",
    "hotel_results_offset=0\n",
    "hotel_info_list = []\n",
    "while next_page:    \n",
    "    url= 'http://www.booking.com/reviews/region/arizona.html?offset='+str(hotel_results_offset)+'&'\n",
    "    response = requests.get(url,headers=headers)\n",
    "    hotel_info = BeautifulSoup(response.text, 'html.parser')\n",
    "    hotel_info_page = hotel_info.find_all(class_=['rlp-main-hotel','li'])\n",
    "    hotel_info_list.extend(hotel_info_page)\n",
    "    ip+=1\n",
    "    hotel_results_offset+=30\n",
    "    if hotel_info_page==[]:\n",
    "        next_page=False"
   ]
  },
  {
   "cell_type": "code",
   "execution_count": 63,
   "metadata": {},
   "outputs": [],
   "source": [
    "#hotel_url_list = []\n",
    "#hotel_name_list = []\n",
    "arizona_hotel_info_list_csvname = './datasets/arizona_hotel_info_list.csv'\n",
    "\n",
    "with open(arizona_hotel_info_list_csvname, 'w', newline='', encoding=\"UTF-8\") as f:\n",
    "    writer = csv.writer(f)\n",
    "    writer.writerow(['hotel_name','hotel_url'])\n",
    "    \n",
    "    for hotel_info_item in hotel_info_list:   \n",
    "        hotel_name = hotel_info_item.find(class_ = 'rlp-main-hotel__hotel-name-link').get_text()\n",
    "        hotel_url = hotel_info_item.find(class_ = 'rlp-main-hotel__hotel-name-link')['href'].split('.html?')[0]\n",
    "\n",
    "        #hotel_name_list.append(hotel_name)\n",
    "        #hotel_url_list.append(hotel_url)\n",
    "        writer.writerow([hotel_name,hotel_url])"
   ]
  },
  {
   "cell_type": "markdown",
   "metadata": {},
   "source": [
    "### Get reviews of hotels in NYS"
   ]
  },
  {
   "cell_type": "code",
   "execution_count": 233,
   "metadata": {
    "scrolled": true
   },
   "outputs": [],
   "source": [
    "nys_hotel_info_list_csvname = './datasets/nys_hotel_info_list.csv'\n",
    "df_nys_hotel_info_list = pd.read_csv(nys_hotel_info_list_csvname)"
   ]
  },
  {
   "cell_type": "code",
   "execution_count": 234,
   "metadata": {},
   "outputs": [],
   "source": [
    "nys_hotel_reviews_list_csvname = './datasets/sample3_nys_hotel_reviews_list.csv'\n",
    "\n",
    "with open(nys_hotel_reviews_list_csvname, 'w', newline='', encoding=\"UTF-8\") as f:\n",
    "    writer = csv.writer(f)\n",
    "    writer.writerow(['hotel_name','review_date','review_item_user_review_count',\n",
    "                     'review_score_badge','review_item_header_content','review_info_tag','review_staydate',\n",
    "                     'review_pos','review_neg'])\n",
    "    \n",
    "    for idx,hotel_url_item in enumerate(df_nys_hotel_info_list['hotel_url'][:1000]):\n",
    "\n",
    "        next_page=True\n",
    "        ip=1\n",
    "        hotel_reviews_list = []\n",
    "        while next_page:\n",
    "            url= 'http://www.booking.com/reviews/us/hotel/'+hotel_url_item.split('/hotel/us/')[1]+'.html?page='+str(ip)+';r_lang=en'\n",
    "            response = requests.get(url,headers=headers)\n",
    "            hotel_reviews = BeautifulSoup(response.text, 'html.parser')\n",
    "            hotel_reviews_page = hotel_reviews.find_all(class_=['review_item','li'])\n",
    "            hotel_reviews_list.extend(hotel_reviews_page)\n",
    "            ip+=1\n",
    "            if hotel_reviews_page==[]:\n",
    "                next_page=False\n",
    "            \n",
    "        for hotel_reviews_item in hotel_reviews_list:   \n",
    "            review_date = hotel_reviews_item.find(class_ = 'review_item_date').get_text().strip('\\n').strip('Reviewed: ')\n",
    "            #reviewer_name = hotel_reviews_item.find(class_ = 'reviewer_name').find(\"span\", itemprop=\"name\").get_text()\n",
    "            #reviewer_country = hotel_reviews_item.find(class_ = 'reviewer_country').find(\"span\", itemprop=\"name\").get_text()\n",
    "            review_item_user_review_count = hotel_reviews_item.find(class_ = 'review_item_user_review_count').get_text().strip('\\n')\n",
    "            review_score_badge = hotel_reviews_item.find(class_ = 'review-score-badge').get_text().strip('\\\"')\n",
    "            review_item_header_content = hotel_reviews_item.find(class_ = 'review_item_header_content').get_text().strip('\\n').replace('\\u201c','').replace('\\u201d','')\n",
    "            review_info_tag = [tag.get_text().strip('\\n')[2:] for tag in hotel_reviews_item.find_all(class_=['review_info_tag','li'])]\n",
    "            review_staydate = extract_review_staydate(hotel_reviews_item.find(class_ = 'review_staydate'))\n",
    "            review_pos = de_emojify(extract_review_body(hotel_reviews_item.find(class_ = 'review_pos')))\n",
    "            review_neg = de_emojify(extract_review_body(hotel_reviews_item.find(class_ = 'review_neg')))\n",
    "        \n",
    "            writer.writerow([df_nys_hotel_info_list['hotel_name'][idx],review_date,\n",
    "                             review_item_user_review_count,review_score_badge,review_item_header_content,\n",
    "                             review_info_tag,review_staydate,review_pos,review_neg])"
   ]
  },
  {
   "cell_type": "markdown",
   "metadata": {},
   "source": [
    "### Get reviews of hotels in Arizona"
   ]
  },
  {
   "cell_type": "code",
   "execution_count": 64,
   "metadata": {},
   "outputs": [],
   "source": [
    "arizona_hotel_info_list_csvname = './datasets/arizona_hotel_info_list.csv'\n",
    "df_arizona_hotel_info_list = pd.read_csv(arizona_hotel_info_list_csvname)"
   ]
  },
  {
   "cell_type": "code",
   "execution_count": 67,
   "metadata": {},
   "outputs": [],
   "source": [
    "arizona_hotel_reviews_list_csvname = './datasets/sample1_arizona_hotel_reviews_list.csv'\n",
    "\n",
    "with open(arizona_hotel_reviews_list_csvname, 'w', newline='', encoding=\"UTF-8\") as f:\n",
    "    writer = csv.writer(f)\n",
    "    writer.writerow(['hotel_name','review_date','review_item_user_review_count',\n",
    "                     'review_score_badge','review_item_header_content','review_info_tag','review_staydate',\n",
    "                     'review_pos','review_neg'])\n",
    "    \n",
    "    for idx,hotel_url_item in enumerate(df_arizona_hotel_info_list['hotel_url'][300:800]):\n",
    "\n",
    "        next_page=True\n",
    "        ip=1\n",
    "        hotel_reviews_list = []\n",
    "        while next_page:\n",
    "            url= 'http://www.booking.com/reviews/us/hotel/'+hotel_url_item.split('/hotel/us/')[1]+'.html?page='+str(ip)+';r_lang=en'\n",
    "            response = requests.get(url,headers=headers)\n",
    "            hotel_reviews = BeautifulSoup(response.text, 'html.parser')\n",
    "            hotel_reviews_page = hotel_reviews.find_all(class_=['review_item','li'])\n",
    "            hotel_reviews_list.extend(hotel_reviews_page)\n",
    "            ip+=1\n",
    "            if hotel_reviews_page==[]:\n",
    "                next_page=False\n",
    "            \n",
    "        for hotel_reviews_item in hotel_reviews_list:   \n",
    "            review_date = hotel_reviews_item.find(class_ = 'review_item_date').get_text().strip('\\n').strip('Reviewed: ')\n",
    "            #reviewer_name = hotel_reviews_item.find(class_ = 'reviewer_name').find(\"span\", itemprop=\"name\").get_text()\n",
    "            #reviewer_country = hotel_reviews_item.find(class_ = 'reviewer_country').find(\"span\", itemprop=\"name\").get_text()\n",
    "            review_item_user_review_count = hotel_reviews_item.find(class_ = 'review_item_user_review_count').get_text().strip('\\n')\n",
    "            review_score_badge = hotel_reviews_item.find(class_ = 'review-score-badge').get_text().strip('\\\"')\n",
    "            review_item_header_content = hotel_reviews_item.find(class_ = 'review_item_header_content').get_text().strip('\\n').replace('\\u201c','').replace('\\u201d','')\n",
    "            review_info_tag = [tag.get_text().strip('\\n')[2:] for tag in hotel_reviews_item.find_all(class_=['review_info_tag','li'])]\n",
    "            review_staydate = extract_review_staydate(hotel_reviews_item.find(class_ = 'review_staydate'))\n",
    "            review_pos = de_emojify(extract_review_body(hotel_reviews_item.find(class_ = 'review_pos')))\n",
    "            review_neg = de_emojify(extract_review_body(hotel_reviews_item.find(class_ = 'review_neg')))\n",
    "        \n",
    "            writer.writerow([df_arizona_hotel_info_list['hotel_name'][idx],review_date,\n",
    "                             review_item_user_review_count,review_score_badge,review_item_header_content,\n",
    "                             review_info_tag,review_staydate,review_pos,review_neg])"
   ]
  },
  {
   "cell_type": "markdown",
   "metadata": {},
   "source": [
    "## EDA - Arizona dataset"
   ]
  },
  {
   "cell_type": "code",
   "execution_count": 230,
   "metadata": {},
   "outputs": [
    {
     "data": {
      "text/html": [
       "<div>\n",
       "<style scoped>\n",
       "    .dataframe tbody tr th:only-of-type {\n",
       "        vertical-align: middle;\n",
       "    }\n",
       "\n",
       "    .dataframe tbody tr th {\n",
       "        vertical-align: top;\n",
       "    }\n",
       "\n",
       "    .dataframe thead th {\n",
       "        text-align: right;\n",
       "    }\n",
       "</style>\n",
       "<table border=\"1\" class=\"dataframe\">\n",
       "  <thead>\n",
       "    <tr style=\"text-align: right;\">\n",
       "      <th></th>\n",
       "      <th>hotel_name</th>\n",
       "      <th>review_date</th>\n",
       "      <th>reviewer_name</th>\n",
       "      <th>reviewer_country</th>\n",
       "      <th>review_item_user_review_count</th>\n",
       "      <th>review_score_badge</th>\n",
       "      <th>review_item_header_content</th>\n",
       "      <th>review_info_tag</th>\n",
       "      <th>review_staydate</th>\n",
       "      <th>review_pos</th>\n",
       "      <th>review_neg</th>\n",
       "    </tr>\n",
       "  </thead>\n",
       "  <tbody>\n",
       "    <tr>\n",
       "      <th>47590</th>\n",
       "      <td>Quality Inn Holbrook</td>\n",
       "      <td>22 April 2019</td>\n",
       "      <td>Letcherous</td>\n",
       "      <td>Canada</td>\n",
       "      <td>24 reviews</td>\n",
       "      <td>5.4</td>\n",
       "      <td>Beds were the only bright light in our stay</td>\n",
       "      <td>['Leisure trip', 'Couple', 'Queen Room with Tw...</td>\n",
       "      <td>April 2019</td>\n",
       "      <td>Beds were comfy</td>\n",
       "      <td>Breakfast was mediocre and the tub and toilet ...</td>\n",
       "    </tr>\n",
       "    <tr>\n",
       "      <th>47591</th>\n",
       "      <td>Quality Inn Holbrook</td>\n",
       "      <td>16 April 2019</td>\n",
       "      <td>Peg</td>\n",
       "      <td>United States</td>\n",
       "      <td>9 reviews</td>\n",
       "      <td>9.2</td>\n",
       "      <td>COZY AND PRACTICAL, ESPECIALLY SINCE WE NEED T...</td>\n",
       "      <td>['Leisure trip', 'Couple', 'Queen Room - Non-S...</td>\n",
       "      <td>April 2019</td>\n",
       "      <td>Lots to choose from on the breakfast buffet. W...</td>\n",
       "      <td>They might want to offer tea in with the buffe...</td>\n",
       "    </tr>\n",
       "    <tr>\n",
       "      <th>47592</th>\n",
       "      <td>Quality Inn Holbrook</td>\n",
       "      <td>9 April 2019</td>\n",
       "      <td>Stefanie</td>\n",
       "      <td>United States</td>\n",
       "      <td>2 reviews</td>\n",
       "      <td>3.3</td>\n",
       "      <td>Awful</td>\n",
       "      <td>['Leisure trip', 'Family with young children',...</td>\n",
       "      <td>April 2019</td>\n",
       "      <td>No food, just coffee is that breakfast?</td>\n",
       "      <td>The owner, bed bugs ate up my baby!!!!!!</td>\n",
       "    </tr>\n",
       "    <tr>\n",
       "      <th>47593</th>\n",
       "      <td>Quality Inn Holbrook</td>\n",
       "      <td>4 April 2019</td>\n",
       "      <td>Graeme</td>\n",
       "      <td>Australia</td>\n",
       "      <td>19 reviews</td>\n",
       "      <td>5.8</td>\n",
       "      <td>back up after another hotel had no vacancies</td>\n",
       "      <td>['Leisure trip', 'Couple', 'Studio Suite with ...</td>\n",
       "      <td>March 2019</td>\n",
       "      <td>location</td>\n",
       "      <td>price</td>\n",
       "    </tr>\n",
       "    <tr>\n",
       "      <th>47594</th>\n",
       "      <td>Quality Inn Holbrook</td>\n",
       "      <td>17 March 2019</td>\n",
       "      <td>Mark</td>\n",
       "      <td>United States</td>\n",
       "      <td>11 reviews</td>\n",
       "      <td>5.0</td>\n",
       "      <td>Would not stay there again and, perhaps, never...</td>\n",
       "      <td>['Leisure trip', 'Couple', 'Queen Room - Disab...</td>\n",
       "      <td>March 2019</td>\n",
       "      <td>Location</td>\n",
       "      <td>Substandard breakfast. Unable to secure a room...</td>\n",
       "    </tr>\n",
       "  </tbody>\n",
       "</table>\n",
       "</div>"
      ],
      "text/plain": [
       "                 hotel_name    review_date reviewer_name reviewer_country  \\\n",
       "47590  Quality Inn Holbrook  22 April 2019    Letcherous           Canada   \n",
       "47591  Quality Inn Holbrook  16 April 2019           Peg    United States   \n",
       "47592  Quality Inn Holbrook   9 April 2019      Stefanie    United States   \n",
       "47593  Quality Inn Holbrook   4 April 2019        Graeme        Australia   \n",
       "47594  Quality Inn Holbrook  17 March 2019          Mark    United States   \n",
       "\n",
       "      review_item_user_review_count  review_score_badge  \\\n",
       "47590                    24 reviews                 5.4   \n",
       "47591                     9 reviews                 9.2   \n",
       "47592                     2 reviews                 3.3   \n",
       "47593                    19 reviews                 5.8   \n",
       "47594                    11 reviews                 5.0   \n",
       "\n",
       "                              review_item_header_content  \\\n",
       "47590        Beds were the only bright light in our stay   \n",
       "47591  COZY AND PRACTICAL, ESPECIALLY SINCE WE NEED T...   \n",
       "47592                                              Awful   \n",
       "47593       back up after another hotel had no vacancies   \n",
       "47594  Would not stay there again and, perhaps, never...   \n",
       "\n",
       "                                         review_info_tag review_staydate  \\\n",
       "47590  ['Leisure trip', 'Couple', 'Queen Room with Tw...      April 2019   \n",
       "47591  ['Leisure trip', 'Couple', 'Queen Room - Non-S...      April 2019   \n",
       "47592  ['Leisure trip', 'Family with young children',...      April 2019   \n",
       "47593  ['Leisure trip', 'Couple', 'Studio Suite with ...      March 2019   \n",
       "47594  ['Leisure trip', 'Couple', 'Queen Room - Disab...      March 2019   \n",
       "\n",
       "                                              review_pos  \\\n",
       "47590                                    Beds were comfy   \n",
       "47591  Lots to choose from on the breakfast buffet. W...   \n",
       "47592            No food, just coffee is that breakfast?   \n",
       "47593                                           location   \n",
       "47594                                           Location   \n",
       "\n",
       "                                              review_neg  \n",
       "47590  Breakfast was mediocre and the tub and toilet ...  \n",
       "47591  They might want to offer tea in with the buffe...  \n",
       "47592           The owner, bed bugs ate up my baby!!!!!!  \n",
       "47593                                              price  \n",
       "47594  Substandard breakfast. Unable to secure a room...  "
      ]
     },
     "execution_count": 230,
     "metadata": {},
     "output_type": "execute_result"
    }
   ],
   "source": [
    "df_tmp = pd.read_csv(arizona_hotel_reviews_list_csvname)\n",
    "df_tmp.tail()"
   ]
  },
  {
   "cell_type": "code",
   "execution_count": null,
   "metadata": {},
   "outputs": [],
   "source": [
    "#https://scholarship.sha.cornell.edu/cgi/viewcontent.cgi?article=1003&context=chrreports"
   ]
  }
 ],
 "metadata": {
  "kernelspec": {
   "display_name": "Python 3",
   "language": "python",
   "name": "python3"
  },
  "language_info": {
   "codemirror_mode": {
    "name": "ipython",
    "version": 3
   },
   "file_extension": ".py",
   "mimetype": "text/x-python",
   "name": "python",
   "nbconvert_exporter": "python",
   "pygments_lexer": "ipython3",
   "version": "3.8.1"
  }
 },
 "nbformat": 4,
 "nbformat_minor": 4
}
