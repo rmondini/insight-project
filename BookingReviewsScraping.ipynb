{
 "cells": [
  {
   "cell_type": "markdown",
   "metadata": {},
   "source": [
    "### Import libraries"
   ]
  },
  {
   "cell_type": "code",
   "execution_count": 1,
   "metadata": {},
   "outputs": [],
   "source": [
    "import pandas as pd\n",
    "import numpy as np\n",
    "import requests\n",
    "import lxml.html as lh\n",
    "import csv\n",
    "from bs4 import BeautifulSoup"
   ]
  },
  {
   "cell_type": "markdown",
   "metadata": {},
   "source": [
    "### Define useful functions"
   ]
  },
  {
   "cell_type": "code",
   "execution_count": 77,
   "metadata": {},
   "outputs": [],
   "source": [
    "def extract_review_body(review_query):\n",
    "    if review_query != None:\n",
    "        return review_query.find(\"span\", itemprop=\"reviewBody\").get_text()\n",
    "    else:\n",
    "        return None\n",
    "\n",
    "def extract_review_staydate(review_query):\n",
    "    if review_query != None:\n",
    "        return review_query.get_text().strip('\\n').strip('Stayed in ')\n",
    "    else:\n",
    "        return None\n",
    "    \n",
    "def de_emojify(inputString):\n",
    "    if inputString!=None:\n",
    "        return inputString.encode('ascii', 'ignore').decode('ascii')\n",
    "    else:\n",
    "        return inputString\n",
    "\n",
    "def extract_hotel_feature(hotel_query):\n",
    "    if hotel_query != None:\n",
    "        return hotel_query.get_text().strip('\\n')\n",
    "    else:\n",
    "        return None    \n",
    "\n",
    "def extract_hotel_category_list(hotel_query):\n",
    "    if hotel_query != None:\n",
    "        return hotel_query.find_all(class_='review_score_name')\n",
    "    else:\n",
    "        return None  \n",
    "\n",
    "def extract_hotel_value_list(hotel_query):\n",
    "    if hotel_query != None:\n",
    "        return hotel_query.find_all(class_='review_score_value')\n",
    "    else:\n",
    "        return None\n",
    "    \n",
    "def build_rating_breakdown_list(cat_list,value_list):\n",
    "    breakdown_list = []\n",
    "    if cat_list != None:\n",
    "        for idx in range(len(cat_list)):\n",
    "            breakdown_list.append([cat_list[idx].get_text(),value_list[idx].get_text()])\n",
    "    return breakdown_list"
   ]
  },
  {
   "cell_type": "markdown",
   "metadata": {},
   "source": [
    "### Specify user agent"
   ]
  },
  {
   "cell_type": "code",
   "execution_count": 3,
   "metadata": {},
   "outputs": [],
   "source": [
    "headers = {'User-Agent': 'Mozilla/5.0 (X11; Linux x86_64) AppleWebKit/537.36 (KHTML, like Gecko) Chrome/80.0.3987.149 Safari/537.36'}"
   ]
  },
  {
   "cell_type": "markdown",
   "metadata": {},
   "source": [
    "### Get names and urls of hotels in NYS"
   ]
  },
  {
   "cell_type": "code",
   "execution_count": 5,
   "metadata": {},
   "outputs": [],
   "source": [
    "next_page=True\n",
    "ip=1\n",
    "hotel_results_offset=0\n",
    "hotel_info_list = []\n",
    "while next_page:    \n",
    "    url= 'http://www.booking.com/reviews/region/new-york-state.html?offset='+str(hotel_results_offset)+'&'\n",
    "    response = requests.get(url,headers=headers)\n",
    "    hotel_info = BeautifulSoup(response.text, 'html.parser')\n",
    "    hotel_info_page = hotel_info.find_all(class_=['rlp-main-hotel','li'])\n",
    "    hotel_info_list.extend(hotel_info_page)\n",
    "    ip+=1\n",
    "    hotel_results_offset+=30\n",
    "    if hotel_info_page==[]:\n",
    "        next_page=False"
   ]
  },
  {
   "cell_type": "code",
   "execution_count": 36,
   "metadata": {},
   "outputs": [],
   "source": [
    "#hotel_url_list = []\n",
    "#hotel_name_list = []\n",
    "nys_hotel_info_list_csvname = './datasets/nys_hotel_info_list.csv'\n",
    "\n",
    "with open(nys_hotel_info_list_csvname, 'w', newline='', encoding=\"UTF-8\") as f:\n",
    "    writer = csv.writer(f)\n",
    "    writer.writerow(['hotel_name','hotel_url'])\n",
    "    \n",
    "    for hotel_info_item in hotel_info_list:   \n",
    "        hotel_name = hotel_info_item.find(class_ = 'rlp-main-hotel__hotel-name-link').get_text()\n",
    "        hotel_url = hotel_info_item.find(class_ = 'rlp-main-hotel__hotel-name-link')['href'].split('.html?')[0]\n",
    "\n",
    "        #hotel_name_list.append(hotel_name)\n",
    "        #hotel_url_list.append(hotel_url)\n",
    "        writer.writerow([hotel_name,hotel_url])"
   ]
  },
  {
   "cell_type": "markdown",
   "metadata": {},
   "source": [
    "### Get names and urls of hotels in Arizona"
   ]
  },
  {
   "cell_type": "code",
   "execution_count": 62,
   "metadata": {},
   "outputs": [],
   "source": [
    "next_page=True\n",
    "ip=1\n",
    "hotel_results_offset=0\n",
    "hotel_info_list = []\n",
    "while next_page:    \n",
    "    url= 'http://www.booking.com/reviews/region/arizona.html?offset='+str(hotel_results_offset)+'&'\n",
    "    response = requests.get(url,headers=headers)\n",
    "    hotel_info = BeautifulSoup(response.text, 'html.parser')\n",
    "    hotel_info_page = hotel_info.find_all(class_=['rlp-main-hotel','li'])\n",
    "    hotel_info_list.extend(hotel_info_page)\n",
    "    ip+=1\n",
    "    hotel_results_offset+=30\n",
    "    if hotel_info_page==[]:\n",
    "        next_page=False"
   ]
  },
  {
   "cell_type": "code",
   "execution_count": 63,
   "metadata": {},
   "outputs": [],
   "source": [
    "#hotel_url_list = []\n",
    "#hotel_name_list = []\n",
    "arizona_hotel_info_list_csvname = './datasets/arizona_hotel_info_list.csv'\n",
    "\n",
    "with open(arizona_hotel_info_list_csvname, 'w', newline='', encoding=\"UTF-8\") as f:\n",
    "    writer = csv.writer(f)\n",
    "    writer.writerow(['hotel_name','hotel_url'])\n",
    "    \n",
    "    for hotel_info_item in hotel_info_list:   \n",
    "        hotel_name = hotel_info_item.find(class_ = 'rlp-main-hotel__hotel-name-link').get_text()\n",
    "        hotel_url = hotel_info_item.find(class_ = 'rlp-main-hotel__hotel-name-link')['href'].split('.html?')[0]\n",
    "\n",
    "        #hotel_name_list.append(hotel_name)\n",
    "        #hotel_url_list.append(hotel_url)\n",
    "        writer.writerow([hotel_name,hotel_url])"
   ]
  },
  {
   "cell_type": "markdown",
   "metadata": {},
   "source": [
    "### Get reviews of hotels in NYS"
   ]
  },
  {
   "cell_type": "code",
   "execution_count": 4,
   "metadata": {
    "scrolled": true
   },
   "outputs": [],
   "source": [
    "nys_hotel_info_list_csvname = './datasets/nys_hotel_info_list.csv'\n",
    "df_nys_hotel_info_list = pd.read_csv(nys_hotel_info_list_csvname)"
   ]
  },
  {
   "cell_type": "code",
   "execution_count": 234,
   "metadata": {},
   "outputs": [],
   "source": [
    "nys_hotel_reviews_list_csvname = './datasets/sample3_nys_hotel_reviews_list.csv'\n",
    "\n",
    "with open(nys_hotel_reviews_list_csvname, 'w', newline='', encoding=\"UTF-8\") as f:\n",
    "    writer = csv.writer(f)\n",
    "    writer.writerow(['hotel_name','review_date','review_item_user_review_count',\n",
    "                     'review_score_badge','review_item_header_content','review_info_tag','review_staydate',\n",
    "                     'review_pos','review_neg'])\n",
    "    \n",
    "    for idx,hotel_url_item in enumerate(df_nys_hotel_info_list['hotel_url'][:1000]):\n",
    "\n",
    "        next_page=True\n",
    "        ip=1\n",
    "        hotel_reviews_list = []\n",
    "        while next_page:\n",
    "            url= 'http://www.booking.com/reviews/us/hotel/'+hotel_url_item.split('/hotel/us/')[1]+'.html?page='+str(ip)+';r_lang=en'\n",
    "            response = requests.get(url,headers=headers)\n",
    "            hotel_reviews = BeautifulSoup(response.text, 'html.parser')\n",
    "            hotel_reviews_page = hotel_reviews.find_all(class_=['review_item','li'])\n",
    "            hotel_reviews_list.extend(hotel_reviews_page)\n",
    "            ip+=1\n",
    "            if hotel_reviews_page==[]:\n",
    "                next_page=False\n",
    "            \n",
    "        for hotel_reviews_item in hotel_reviews_list:   \n",
    "            review_date = hotel_reviews_item.find(class_ = 'review_item_date').get_text().strip('\\n').strip('Reviewed: ')\n",
    "            #reviewer_name = hotel_reviews_item.find(class_ = 'reviewer_name').find(\"span\", itemprop=\"name\").get_text()\n",
    "            #reviewer_country = hotel_reviews_item.find(class_ = 'reviewer_country').find(\"span\", itemprop=\"name\").get_text()\n",
    "            review_item_user_review_count = hotel_reviews_item.find(class_ = 'review_item_user_review_count').get_text().strip('\\n')\n",
    "            review_score_badge = hotel_reviews_item.find(class_ = 'review-score-badge').get_text().strip('\\\"')\n",
    "            review_item_header_content = hotel_reviews_item.find(class_ = 'review_item_header_content').get_text().strip('\\n').replace('\\u201c','').replace('\\u201d','')\n",
    "            review_info_tag = [tag.get_text().strip('\\n')[2:] for tag in hotel_reviews_item.find_all(class_=['review_info_tag','li'])]\n",
    "            review_staydate = extract_review_staydate(hotel_reviews_item.find(class_ = 'review_staydate'))\n",
    "            review_pos = de_emojify(extract_review_body(hotel_reviews_item.find(class_ = 'review_pos')))\n",
    "            review_neg = de_emojify(extract_review_body(hotel_reviews_item.find(class_ = 'review_neg')))\n",
    "        \n",
    "            writer.writerow([df_nys_hotel_info_list['hotel_name'][idx],review_date,\n",
    "                             review_item_user_review_count,review_score_badge,review_item_header_content,\n",
    "                             review_info_tag,review_staydate,review_pos,review_neg])"
   ]
  },
  {
   "cell_type": "markdown",
   "metadata": {},
   "source": [
    "### Get reviews of hotels in Arizona"
   ]
  },
  {
   "cell_type": "code",
   "execution_count": 5,
   "metadata": {},
   "outputs": [],
   "source": [
    "arizona_hotel_info_list_csvname = './datasets/arizona_hotel_info_list.csv'\n",
    "df_arizona_hotel_info_list = pd.read_csv(arizona_hotel_info_list_csvname)"
   ]
  },
  {
   "cell_type": "code",
   "execution_count": 67,
   "metadata": {},
   "outputs": [],
   "source": [
    "arizona_hotel_reviews_list_csvname = './datasets/sample1_arizona_hotel_reviews_list.csv'\n",
    "\n",
    "with open(arizona_hotel_reviews_list_csvname, 'w', newline='', encoding=\"UTF-8\") as f:\n",
    "    writer = csv.writer(f)\n",
    "    writer.writerow(['hotel_name','review_date','review_item_user_review_count',\n",
    "                     'review_score_badge','review_item_header_content','review_info_tag','review_staydate',\n",
    "                     'review_pos','review_neg'])\n",
    "    \n",
    "    for idx,hotel_url_item in enumerate(df_arizona_hotel_info_list['hotel_url'][300:800]):\n",
    "\n",
    "        next_page=True\n",
    "        ip=1\n",
    "        hotel_reviews_list = []\n",
    "        while next_page:\n",
    "            url= 'http://www.booking.com/reviews/us/hotel/'+hotel_url_item.split('/hotel/us/')[1]+'.html?page='+str(ip)+';r_lang=en'\n",
    "            response = requests.get(url,headers=headers)\n",
    "            hotel_reviews = BeautifulSoup(response.text, 'html.parser')\n",
    "            hotel_reviews_page = hotel_reviews.find_all(class_=['review_item','li'])\n",
    "            hotel_reviews_list.extend(hotel_reviews_page)\n",
    "            ip+=1\n",
    "            if hotel_reviews_page==[]:\n",
    "                next_page=False\n",
    "            \n",
    "        for hotel_reviews_item in hotel_reviews_list:   \n",
    "            review_date = hotel_reviews_item.find(class_ = 'review_item_date').get_text().strip('\\n').strip('Reviewed: ')\n",
    "            #reviewer_name = hotel_reviews_item.find(class_ = 'reviewer_name').find(\"span\", itemprop=\"name\").get_text()\n",
    "            #reviewer_country = hotel_reviews_item.find(class_ = 'reviewer_country').find(\"span\", itemprop=\"name\").get_text()\n",
    "            review_item_user_review_count = hotel_reviews_item.find(class_ = 'review_item_user_review_count').get_text().strip('\\n')\n",
    "            review_score_badge = hotel_reviews_item.find(class_ = 'review-score-badge').get_text().strip('\\\"')\n",
    "            review_item_header_content = hotel_reviews_item.find(class_ = 'review_item_header_content').get_text().strip('\\n').replace('\\u201c','').replace('\\u201d','')\n",
    "            review_info_tag = [tag.get_text().strip('\\n')[2:] for tag in hotel_reviews_item.find_all(class_=['review_info_tag','li'])]\n",
    "            review_staydate = extract_review_staydate(hotel_reviews_item.find(class_ = 'review_staydate'))\n",
    "            review_pos = de_emojify(extract_review_body(hotel_reviews_item.find(class_ = 'review_pos')))\n",
    "            review_neg = de_emojify(extract_review_body(hotel_reviews_item.find(class_ = 'review_neg')))\n",
    "        \n",
    "            writer.writerow([df_arizona_hotel_info_list['hotel_name'][idx],review_date,\n",
    "                             review_item_user_review_count,review_score_badge,review_item_header_content,\n",
    "                             review_info_tag,review_staydate,review_pos,review_neg])"
   ]
  },
  {
   "cell_type": "markdown",
   "metadata": {},
   "source": [
    "### Get detailed info of hotels in NYS"
   ]
  },
  {
   "cell_type": "code",
   "execution_count": 78,
   "metadata": {},
   "outputs": [
    {
     "ename": "AttributeError",
     "evalue": "'NoneType' object has no attribute 'find'",
     "output_type": "error",
     "traceback": [
      "\u001b[0;31m---------------------------------------------------------------------------\u001b[0m",
      "\u001b[0;31mAttributeError\u001b[0m                            Traceback (most recent call last)",
      "\u001b[0;32m<ipython-input-78-a77371a20a04>\u001b[0m in \u001b[0;36m<module>\u001b[0;34m\u001b[0m\n\u001b[1;32m     12\u001b[0m         \u001b[0mhotel_info\u001b[0m \u001b[0;34m=\u001b[0m \u001b[0mBeautifulSoup\u001b[0m\u001b[0;34m(\u001b[0m\u001b[0mresponse\u001b[0m\u001b[0;34m.\u001b[0m\u001b[0mtext\u001b[0m\u001b[0;34m,\u001b[0m \u001b[0;34m'html.parser'\u001b[0m\u001b[0;34m)\u001b[0m\u001b[0;34m\u001b[0m\u001b[0;34m\u001b[0m\u001b[0m\n\u001b[1;32m     13\u001b[0m \u001b[0;34m\u001b[0m\u001b[0m\n\u001b[0;32m---> 14\u001b[0;31m         \u001b[0mhotel_stars\u001b[0m \u001b[0;34m=\u001b[0m \u001b[0mextract_hotel_feature\u001b[0m\u001b[0;34m(\u001b[0m\u001b[0mhotel_info\u001b[0m\u001b[0;34m.\u001b[0m\u001b[0mfind\u001b[0m\u001b[0;34m(\u001b[0m\u001b[0mclass_\u001b[0m\u001b[0;34m=\u001b[0m\u001b[0;34m'hp__hotel_ratings'\u001b[0m\u001b[0;34m)\u001b[0m\u001b[0;34m.\u001b[0m\u001b[0mfind\u001b[0m\u001b[0;34m(\u001b[0m\u001b[0mclass_\u001b[0m\u001b[0;34m=\u001b[0m\u001b[0;34m'invisible_spoken'\u001b[0m\u001b[0;34m)\u001b[0m\u001b[0;34m)\u001b[0m\u001b[0;34m\u001b[0m\u001b[0;34m\u001b[0m\u001b[0m\n\u001b[0m\u001b[1;32m     15\u001b[0m         \u001b[0mhotel_address\u001b[0m \u001b[0;34m=\u001b[0m \u001b[0mhotel_info\u001b[0m\u001b[0;34m.\u001b[0m\u001b[0mfind\u001b[0m\u001b[0;34m(\u001b[0m\u001b[0mclass_\u001b[0m\u001b[0;34m=\u001b[0m\u001b[0;34m'hp_address_subtitle js-hp_address_subtitle jq_tooltip'\u001b[0m\u001b[0;34m)\u001b[0m\u001b[0;34m.\u001b[0m\u001b[0mget_text\u001b[0m\u001b[0;34m(\u001b[0m\u001b[0;34m)\u001b[0m\u001b[0;34m.\u001b[0m\u001b[0mstrip\u001b[0m\u001b[0;34m(\u001b[0m\u001b[0;34m'\\n'\u001b[0m\u001b[0;34m)\u001b[0m\u001b[0;34m\u001b[0m\u001b[0;34m\u001b[0m\u001b[0m\n\u001b[1;32m     16\u001b[0m         \u001b[0mhotel_room_name\u001b[0m \u001b[0;34m=\u001b[0m \u001b[0mextract_hotel_feature\u001b[0m\u001b[0;34m(\u001b[0m\u001b[0mhotel_info\u001b[0m\u001b[0;34m.\u001b[0m\u001b[0mfind\u001b[0m\u001b[0;34m(\u001b[0m\u001b[0mclass_\u001b[0m\u001b[0;34m=\u001b[0m\u001b[0;34m'hprt-roomtype-icon-link'\u001b[0m\u001b[0;34m)\u001b[0m\u001b[0;34m)\u001b[0m\u001b[0;34m\u001b[0m\u001b[0;34m\u001b[0m\u001b[0m\n",
      "\u001b[0;31mAttributeError\u001b[0m: 'NoneType' object has no attribute 'find'"
     ]
    }
   ],
   "source": [
    "nys_hotel_detailed_info_list_csvname = './datasets/nys_hotel_detailed_info_list_2.csv'\n",
    "\n",
    "with open(nys_hotel_detailed_info_list_csvname, 'w', newline='', encoding=\"UTF-8\") as f:\n",
    "    writer = csv.writer(f)\n",
    "    writer.writerow(['hotel_name','hotel_stars','hotel_address',\n",
    "                     'hotel_overall_rating','hotel_rating_breakdown','hotel_room_name','hotel_room_capacity','hotel_room_price'])\n",
    "    \n",
    "    for idx,hotel_url_item in enumerate(df_nys_hotel_info_list['hotel_url']):\n",
    "        \n",
    "        url= 'http://www.booking.com'+ hotel_url_item +'.html?checkin=2020-10-12;checkout=2020-10-13'\n",
    "        response = requests.get(url,headers=headers)\n",
    "        hotel_info = BeautifulSoup(response.text, 'html.parser')\n",
    "        \n",
    "        hotel_stars = extract_hotel_feature(hotel_info.find(class_='hp__hotel_ratings').find(class_='invisible_spoken'))\n",
    "        hotel_address = hotel_info.find(class_='hp_address_subtitle js-hp_address_subtitle jq_tooltip').get_text().strip('\\n')\n",
    "        hotel_room_name = extract_hotel_feature(hotel_info.find(class_='hprt-roomtype-icon-link'))\n",
    "        hotel_room_capacity = extract_hotel_feature(hotel_info.find(class_='c-occupancy-icons hprt-occupancy-occupancy-info'))\n",
    "        hotel_room_price = extract_hotel_feature(hotel_info.find(class_='bui-price-display__value prco-text-nowrap-helper prco-font16-helper'))\n",
    "        \n",
    "        url= 'http://www.booking.com/reviews/us/hotel/'+hotel_url_item.split('/hotel/us/')[1]+'.html'\n",
    "        response = requests.get(url,headers=headers)\n",
    "        hotel_info = BeautifulSoup(response.text, 'html.parser')\n",
    "        \n",
    "        hotel_overall_rating = extract_hotel_feature(hotel_info.find(class_='review-score-badge'))\n",
    "        hotel_rating_breakdown_category_list = extract_hotel_category_list(hotel_info.find(class_='review_score_breakdown_list'))\n",
    "        hotel_rating_breakdown_value_list = extract_hotel_value_list(hotel_info.find(class_='review_score_breakdown_list'))\n",
    "        hotel_rating_breakdown = build_rating_breakdown_list(hotel_rating_breakdown_category_list,hotel_rating_breakdown_value_list)\n",
    "        \n",
    "        writer.writerow([df_nys_hotel_info_list['hotel_name'][idx],hotel_stars,hotel_address,\n",
    "                         hotel_overall_rating,hotel_rating_breakdown,hotel_room_name,hotel_room_capacity,\n",
    "                         hotel_room_price])"
   ]
  },
  {
   "cell_type": "code",
   "execution_count": null,
   "metadata": {},
   "outputs": [],
   "source": []
  },
  {
   "cell_type": "code",
   "execution_count": null,
   "metadata": {},
   "outputs": [],
   "source": []
  },
  {
   "cell_type": "code",
   "execution_count": null,
   "metadata": {},
   "outputs": [],
   "source": []
  },
  {
   "cell_type": "code",
   "execution_count": null,
   "metadata": {},
   "outputs": [],
   "source": []
  },
  {
   "cell_type": "code",
   "execution_count": null,
   "metadata": {},
   "outputs": [],
   "source": []
  }
 ],
 "metadata": {
  "kernelspec": {
   "display_name": "Python 3",
   "language": "python",
   "name": "python3"
  },
  "language_info": {
   "codemirror_mode": {
    "name": "ipython",
    "version": 3
   },
   "file_extension": ".py",
   "mimetype": "text/x-python",
   "name": "python",
   "nbconvert_exporter": "python",
   "pygments_lexer": "ipython3",
   "version": "3.8.1"
  }
 },
 "nbformat": 4,
 "nbformat_minor": 4
}
