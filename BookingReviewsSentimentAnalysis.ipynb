{
 "cells": [
  {
   "cell_type": "markdown",
   "metadata": {},
   "source": [
    "### Import libraries"
   ]
  },
  {
   "cell_type": "code",
   "execution_count": 1,
   "metadata": {},
   "outputs": [],
   "source": [
    "import pandas as pd\n",
    "import numpy as np\n",
    "import matplotlib.pyplot as plt\n",
    "import seaborn as sns\n",
    "import csv\n",
    "import nltk.data\n",
    "import string\n",
    "from sklearn.feature_extraction.text import CountVectorizer,TfidfTransformer\n",
    "from sklearn.naive_bayes import MultinomialNB\n",
    "from sklearn.metrics import confusion_matrix,classification_report\n",
    "from sklearn.model_selection import train_test_split\n",
    "from sklearn.pipeline import Pipeline"
   ]
  },
  {
   "cell_type": "markdown",
   "metadata": {},
   "source": [
    "### Define useful functions"
   ]
  },
  {
   "cell_type": "code",
   "execution_count": 2,
   "metadata": {},
   "outputs": [],
   "source": [
    "def text_process_prelim(review_sentence):\n",
    "    review_sentence_str = str(review_sentence)\n",
    "    \n",
    "    # Check characters to see if they are in punctuation\n",
    "    nopunc = [char for char in review_sentence_str if char not in string.punctuation]\n",
    "\n",
    "    # Join the characters again to form the string.\n",
    "    nopunc = ''.join(nopunc)\n",
    "    \n",
    "    if nopunc == '':\n",
    "        return np.nan\n",
    "    else:\n",
    "        return nopunc\n",
    "    \n",
    "def text_process(review_sentence):\n",
    "    return [word.lower() for word in review_sentence.split()]"
   ]
  },
  {
   "cell_type": "markdown",
   "metadata": {},
   "source": [
    "### Import dataset"
   ]
  },
  {
   "cell_type": "code",
   "execution_count": 3,
   "metadata": {},
   "outputs": [],
   "source": [
    "df_preprocessed = pd.read_csv('./datasets/df_preprocessed.csv',lineterminator='\\n')"
   ]
  },
  {
   "cell_type": "code",
   "execution_count": 4,
   "metadata": {},
   "outputs": [
    {
     "data": {
      "text/html": [
       "<div>\n",
       "<style scoped>\n",
       "    .dataframe tbody tr th:only-of-type {\n",
       "        vertical-align: middle;\n",
       "    }\n",
       "\n",
       "    .dataframe tbody tr th {\n",
       "        vertical-align: top;\n",
       "    }\n",
       "\n",
       "    .dataframe thead th {\n",
       "        text-align: right;\n",
       "    }\n",
       "</style>\n",
       "<table border=\"1\" class=\"dataframe\">\n",
       "  <thead>\n",
       "    <tr style=\"text-align: right;\">\n",
       "      <th></th>\n",
       "      <th>hotel_name</th>\n",
       "      <th>review_date</th>\n",
       "      <th>review_item_user_review_count</th>\n",
       "      <th>review_score_badge</th>\n",
       "      <th>review_item_header_content</th>\n",
       "      <th>review_info_tag</th>\n",
       "      <th>review_staydate</th>\n",
       "      <th>state</th>\n",
       "      <th>review_sentence</th>\n",
       "      <th>review_label</th>\n",
       "      <th>review_traveler_type</th>\n",
       "      <th>review_time_of_travel</th>\n",
       "    </tr>\n",
       "  </thead>\n",
       "  <tbody>\n",
       "    <tr>\n",
       "      <th>495424</th>\n",
       "      <td>U Hotel Fifth Avenue</td>\n",
       "      <td>7 December 2018</td>\n",
       "      <td>10 reviews</td>\n",
       "      <td>5.0</td>\n",
       "      <td>Passable</td>\n",
       "      <td>['Business trip', 'Solo traveller', 'Room with...</td>\n",
       "      <td>December 2018</td>\n",
       "      <td>NY</td>\n",
       "      <td>They even charged for a bottle of water at $3 ...</td>\n",
       "      <td>0</td>\n",
       "      <td>Solo traveler</td>\n",
       "      <td>Winter</td>\n",
       "    </tr>\n",
       "    <tr>\n",
       "      <th>495425</th>\n",
       "      <td>U Hotel Fifth Avenue</td>\n",
       "      <td>7 December 2018</td>\n",
       "      <td>10 reviews</td>\n",
       "      <td>5.0</td>\n",
       "      <td>Passable</td>\n",
       "      <td>['Business trip', 'Solo traveller', 'Room with...</td>\n",
       "      <td>December 2018</td>\n",
       "      <td>NY</td>\n",
       "      <td>For the price I paid, I was expecting much mor...</td>\n",
       "      <td>0</td>\n",
       "      <td>Solo traveler</td>\n",
       "      <td>Winter</td>\n",
       "    </tr>\n",
       "    <tr>\n",
       "      <th>495426</th>\n",
       "      <td>U Hotel Fifth Avenue</td>\n",
       "      <td>1 December 2018</td>\n",
       "      <td>1 review</td>\n",
       "      <td>10.0</td>\n",
       "      <td>Great location</td>\n",
       "      <td>['Leisure trip', 'Family with young children',...</td>\n",
       "      <td>November 2018</td>\n",
       "      <td>NY</td>\n",
       "      <td>Price was extremely high</td>\n",
       "      <td>0</td>\n",
       "      <td>Family with young children</td>\n",
       "      <td>Fall</td>\n",
       "    </tr>\n",
       "    <tr>\n",
       "      <th>495427</th>\n",
       "      <td>U Hotel Fifth Avenue</td>\n",
       "      <td>21 November 2018</td>\n",
       "      <td>15 reviews</td>\n",
       "      <td>6.3</td>\n",
       "      <td>It was fine</td>\n",
       "      <td>['Leisure trip', 'Couple', 'Queen Room', 'Stay...</td>\n",
       "      <td>November 2018</td>\n",
       "      <td>NY</td>\n",
       "      <td>Rooms are tiny, staff is not terribly friendly.</td>\n",
       "      <td>0</td>\n",
       "      <td>Couple</td>\n",
       "      <td>Fall</td>\n",
       "    </tr>\n",
       "    <tr>\n",
       "      <th>495428</th>\n",
       "      <td>U Hotel Fifth Avenue</td>\n",
       "      <td>21 November 2018</td>\n",
       "      <td>15 reviews</td>\n",
       "      <td>6.3</td>\n",
       "      <td>It was fine</td>\n",
       "      <td>['Leisure trip', 'Couple', 'Queen Room', 'Stay...</td>\n",
       "      <td>November 2018</td>\n",
       "      <td>NY</td>\n",
       "      <td>We were 15 min late getting back for check out...</td>\n",
       "      <td>0</td>\n",
       "      <td>Couple</td>\n",
       "      <td>Fall</td>\n",
       "    </tr>\n",
       "  </tbody>\n",
       "</table>\n",
       "</div>"
      ],
      "text/plain": [
       "                  hotel_name       review_date review_item_user_review_count  \\\n",
       "495424  U Hotel Fifth Avenue   7 December 2018                    10 reviews   \n",
       "495425  U Hotel Fifth Avenue   7 December 2018                    10 reviews   \n",
       "495426  U Hotel Fifth Avenue   1 December 2018                      1 review   \n",
       "495427  U Hotel Fifth Avenue  21 November 2018                    15 reviews   \n",
       "495428  U Hotel Fifth Avenue  21 November 2018                    15 reviews   \n",
       "\n",
       "        review_score_badge review_item_header_content  \\\n",
       "495424                 5.0                   Passable   \n",
       "495425                 5.0                   Passable   \n",
       "495426                10.0            Great location    \n",
       "495427                 6.3                It was fine   \n",
       "495428                 6.3                It was fine   \n",
       "\n",
       "                                          review_info_tag review_staydate  \\\n",
       "495424  ['Business trip', 'Solo traveller', 'Room with...   December 2018   \n",
       "495425  ['Business trip', 'Solo traveller', 'Room with...   December 2018   \n",
       "495426  ['Leisure trip', 'Family with young children',...   November 2018   \n",
       "495427  ['Leisure trip', 'Couple', 'Queen Room', 'Stay...   November 2018   \n",
       "495428  ['Leisure trip', 'Couple', 'Queen Room', 'Stay...   November 2018   \n",
       "\n",
       "       state                                    review_sentence  review_label  \\\n",
       "495424    NY  They even charged for a bottle of water at $3 ...             0   \n",
       "495425    NY  For the price I paid, I was expecting much mor...             0   \n",
       "495426    NY                           Price was extremely high             0   \n",
       "495427    NY    Rooms are tiny, staff is not terribly friendly.             0   \n",
       "495428    NY  We were 15 min late getting back for check out...             0   \n",
       "\n",
       "              review_traveler_type review_time_of_travel  \n",
       "495424               Solo traveler                Winter  \n",
       "495425               Solo traveler                Winter  \n",
       "495426  Family with young children                  Fall  \n",
       "495427                      Couple                  Fall  \n",
       "495428                      Couple                  Fall  "
      ]
     },
     "execution_count": 4,
     "metadata": {},
     "output_type": "execute_result"
    }
   ],
   "source": [
    "df_preprocessed.tail()"
   ]
  },
  {
   "cell_type": "markdown",
   "metadata": {},
   "source": [
    "### Normalization (punctuation)"
   ]
  },
  {
   "cell_type": "code",
   "execution_count": 5,
   "metadata": {},
   "outputs": [],
   "source": [
    "df_preprocessed['review_sentence'] = df_preprocessed['review_sentence'].apply(text_process_prelim)"
   ]
  },
  {
   "cell_type": "code",
   "execution_count": 6,
   "metadata": {},
   "outputs": [],
   "source": [
    "df_preprocessed['review_item_header_content'] = df_preprocessed['review_item_header_content'].apply(text_process_prelim)"
   ]
  },
  {
   "cell_type": "markdown",
   "metadata": {},
   "source": [
    "### Remove reviews that are now empty"
   ]
  },
  {
   "cell_type": "code",
   "execution_count": 7,
   "metadata": {},
   "outputs": [],
   "source": [
    "df_preprocessed = df_preprocessed[~pd.isnull(df_preprocessed['review_sentence'])]"
   ]
  },
  {
   "cell_type": "code",
   "execution_count": 8,
   "metadata": {},
   "outputs": [
    {
     "data": {
      "text/plain": [
       "491550"
      ]
     },
     "execution_count": 8,
     "metadata": {},
     "output_type": "execute_result"
    }
   ],
   "source": [
    "len(df_preprocessed)"
   ]
  },
  {
   "cell_type": "markdown",
   "metadata": {},
   "source": [
    "### Print out negative review sentences to csv file for topic labeling"
   ]
  },
  {
   "cell_type": "code",
   "execution_count": 9,
   "metadata": {
    "scrolled": true
   },
   "outputs": [
    {
     "name": "stderr",
     "output_type": "stream",
     "text": [
      "<ipython-input-9-e7bb6f313408>:2: SettingWithCopyWarning: \n",
      "A value is trying to be set on a copy of a slice from a DataFrame.\n",
      "Try using .loc[row_indexer,col_indexer] = value instead\n",
      "\n",
      "See the caveats in the documentation: https://pandas.pydata.org/pandas-docs/stable/user_guide/indexing.html#returning-a-view-versus-a-copy\n",
      "  df_preprocessed_neg_sentences['review_topic'] = np.nan\n"
     ]
    }
   ],
   "source": [
    "df_preprocessed_neg_sentences = df_preprocessed[df_preprocessed['review_label']==0]\n",
    "df_preprocessed_neg_sentences['review_topic'] = np.nan\n",
    "df_preprocessed_neg_sentences.iloc[:,:].to_csv('./datasets/df_negative_sentences.csv',index=False)"
   ]
  },
  {
   "cell_type": "markdown",
   "metadata": {},
   "source": [
    "# Modeling"
   ]
  },
  {
   "cell_type": "markdown",
   "metadata": {},
   "source": [
    "## Create model pipeline: Vectorization (BoW), TF-IDF, Naive Bayes Classifier"
   ]
  },
  {
   "cell_type": "code",
   "execution_count": 12,
   "metadata": {},
   "outputs": [],
   "source": [
    "model_pipeline = Pipeline([\n",
    "    ('bow', CountVectorizer(analyzer=text_process)),  # strings to token integer counts\n",
    "    ('tfidf', TfidfTransformer()),  # integer counts to weighted TF-IDF scores\n",
    "    ('classifier', MultinomialNB())  # train on TF-IDF vectors w/ Naive Bayes classifier\n",
    "])"
   ]
  },
  {
   "cell_type": "markdown",
   "metadata": {},
   "source": [
    "## Train-validation split"
   ]
  },
  {
   "cell_type": "code",
   "execution_count": 13,
   "metadata": {},
   "outputs": [],
   "source": [
    "df_preprocessed_features = df_preprocessed.drop('review_label', axis=1)"
   ]
  },
  {
   "cell_type": "code",
   "execution_count": 14,
   "metadata": {},
   "outputs": [],
   "source": [
    "df_train, df_valid, label_train, label_valid = train_test_split(df_preprocessed_features, df_preprocessed['review_label'], test_size=0.2)"
   ]
  },
  {
   "cell_type": "markdown",
   "metadata": {},
   "source": [
    "## Train model"
   ]
  },
  {
   "cell_type": "code",
   "execution_count": 15,
   "metadata": {},
   "outputs": [],
   "source": [
    "# using only review_sentence as feature (so for instance no review sentence length)\n",
    "# df_preprocessed['review_sentence_length'] = df_preprocessed['review_sentence'].apply(len)"
   ]
  },
  {
   "cell_type": "code",
   "execution_count": 16,
   "metadata": {},
   "outputs": [
    {
     "data": {
      "text/plain": [
       "Pipeline(memory=None,\n",
       "         steps=[('bow',\n",
       "                 CountVectorizer(analyzer=<function text_process at 0x7f5fc67e4d30>,\n",
       "                                 binary=False, decode_error='strict',\n",
       "                                 dtype=<class 'numpy.int64'>, encoding='utf-8',\n",
       "                                 input='content', lowercase=True, max_df=1.0,\n",
       "                                 max_features=None, min_df=1,\n",
       "                                 ngram_range=(1, 1), preprocessor=None,\n",
       "                                 stop_words=None, strip_accents=None,\n",
       "                                 token_pattern='(?u)\\\\b\\\\w\\\\w+\\\\b',\n",
       "                                 tokenizer=None, vocabulary=None)),\n",
       "                ('tfidf',\n",
       "                 TfidfTransformer(norm='l2', smooth_idf=True,\n",
       "                                  sublinear_tf=False, use_idf=True)),\n",
       "                ('classifier',\n",
       "                 MultinomialNB(alpha=1.0, class_prior=None, fit_prior=True))],\n",
       "         verbose=False)"
      ]
     },
     "execution_count": 16,
     "metadata": {},
     "output_type": "execute_result"
    }
   ],
   "source": [
    "model_pipeline.fit(df_train['review_sentence'],label_train)"
   ]
  },
  {
   "cell_type": "markdown",
   "metadata": {},
   "source": [
    "## Validate model"
   ]
  },
  {
   "cell_type": "code",
   "execution_count": 17,
   "metadata": {},
   "outputs": [],
   "source": [
    "predictions = model_pipeline.predict(df_valid['review_sentence'])"
   ]
  },
  {
   "cell_type": "markdown",
   "metadata": {},
   "source": [
    "### Print classification report"
   ]
  },
  {
   "cell_type": "code",
   "execution_count": 18,
   "metadata": {},
   "outputs": [
    {
     "name": "stdout",
     "output_type": "stream",
     "text": [
      "              precision    recall  f1-score   support\n",
      "\n",
      "           0       0.82      0.88      0.85     47579\n",
      "           1       0.88      0.82      0.85     50731\n",
      "\n",
      "    accuracy                           0.85     98310\n",
      "   macro avg       0.85      0.85      0.85     98310\n",
      "weighted avg       0.85      0.85      0.85     98310\n",
      "\n"
     ]
    }
   ],
   "source": [
    "print(classification_report(label_valid,predictions))"
   ]
  },
  {
   "cell_type": "markdown",
   "metadata": {},
   "source": [
    "### Print confusion matrix"
   ]
  },
  {
   "cell_type": "code",
   "execution_count": 19,
   "metadata": {},
   "outputs": [
    {
     "data": {
      "image/png": "[encoded data removed]",
      "text/plain": [
       "<Figure size 432x288 with 2 Axes>"
      ]
     },
     "metadata": {
      "needs_background": "light"
     },
     "output_type": "display_data"
    }
   ],
   "source": [
    "valid_cm = confusion_matrix(label_valid,predictions)\n",
    "valid_cm_tn, valid_cm_fp, valid_cm_fn, valid_cm_tp = valid_cm.ravel()\n",
    "valid_cm_pd = pd.DataFrame(data=valid_cm,columns=['Predicted Neg','Predicted Pos'],index=['Actual Neg', 'Actual Pos'])\n",
    "sns.heatmap(valid_cm_pd, annot=True, fmt='d', cmap='rainbow')\n",
    "plt.show()"
   ]
  },
  {
   "cell_type": "code",
   "execution_count": null,
   "metadata": {},
   "outputs": [],
   "source": []
  },
  {
   "cell_type": "code",
   "execution_count": null,
   "metadata": {},
   "outputs": [],
   "source": []
  },
  {
   "cell_type": "code",
   "execution_count": null,
   "metadata": {},
   "outputs": [],
   "source": []
  },
  {
   "cell_type": "code",
   "execution_count": null,
   "metadata": {},
   "outputs": [],
   "source": []
  },
  {
   "cell_type": "code",
   "execution_count": null,
   "metadata": {},
   "outputs": [],
   "source": []
  },
  {
   "cell_type": "code",
   "execution_count": null,
   "metadata": {},
   "outputs": [],
   "source": []
  },
  {
   "cell_type": "code",
   "execution_count": null,
   "metadata": {},
   "outputs": [],
   "source": []
  },
  {
   "cell_type": "code",
   "execution_count": null,
   "metadata": {},
   "outputs": [],
   "source": []
  },
  {
   "cell_type": "code",
   "execution_count": 121,
   "metadata": {},
   "outputs": [],
   "source": [
    "#######################################################################"
   ]
  },
  {
   "cell_type": "markdown",
   "metadata": {},
   "source": [
    "### Vectorization (BoW)"
   ]
  },
  {
   "cell_type": "code",
   "execution_count": 65,
   "metadata": {},
   "outputs": [],
   "source": [
    "bow_transformer = CountVectorizer(analyzer=text_process).fit(df_preprocessed['review_sentence'])"
   ]
  },
  {
   "cell_type": "code",
   "execution_count": 66,
   "metadata": {},
   "outputs": [
    {
     "name": "stdout",
     "output_type": "stream",
     "text": [
      "35955\n"
     ]
    }
   ],
   "source": [
    "# print length of vocabulary\n",
    "print(len(bow_transformer.vocabulary_))"
   ]
  },
  {
   "cell_type": "code",
   "execution_count": 71,
   "metadata": {},
   "outputs": [],
   "source": [
    "review_sentence_bow = bow_transformer.transform(df_preprocessed['review_sentence'])"
   ]
  },
  {
   "cell_type": "code",
   "execution_count": 79,
   "metadata": {},
   "outputs": [
    {
     "name": "stdout",
     "output_type": "stream",
     "text": [
      "Shape of Sparse Matrix:  (414282, 35955)\n",
      "Amount of Non-Zero occurrences:  3889186\n",
      "Sparsity: 0.026 %\n"
     ]
    }
   ],
   "source": [
    "# print info about sparsity\n",
    "review_sentence_bow_sparsity = (100.0 * review_sentence_bow.nnz / (review_sentence_bow.shape[0] * review_sentence_bow.shape[1]))\n",
    "print('Shape of Sparse Matrix: ', review_sentence_bow.shape)\n",
    "print('Amount of Non-Zero occurrences: ', review_sentence_bow.nnz)\n",
    "print('Sparsity: {} %'.format(round(sparsity,3)))"
   ]
  },
  {
   "cell_type": "markdown",
   "metadata": {},
   "source": [
    "### TF-IDF"
   ]
  },
  {
   "cell_type": "code",
   "execution_count": 80,
   "metadata": {},
   "outputs": [],
   "source": [
    "tfidf_transformer = TfidfTransformer().fit(review_sentence_bow)"
   ]
  },
  {
   "cell_type": "code",
   "execution_count": 82,
   "metadata": {},
   "outputs": [],
   "source": [
    "review_sentence_tfidf = tfidf_transformer.transform(review_sentence_bow)"
   ]
  },
  {
   "cell_type": "markdown",
   "metadata": {},
   "source": [
    "### Naive Bayes Classifier"
   ]
  },
  {
   "cell_type": "code",
   "execution_count": null,
   "metadata": {},
   "outputs": [],
   "source": [
    "nb_model = MultinomialNB().fit(review_sentence_tfidf, messages['label'])"
   ]
  },
  {
   "cell_type": "code",
   "execution_count": null,
   "metadata": {},
   "outputs": [],
   "source": []
  },
  {
   "cell_type": "code",
   "execution_count": null,
   "metadata": {},
   "outputs": [],
   "source": []
  },
  {
   "cell_type": "code",
   "execution_count": null,
   "metadata": {},
   "outputs": [],
   "source": []
  },
  {
   "cell_type": "code",
   "execution_count": null,
   "metadata": {},
   "outputs": [],
   "source": []
  },
  {
   "cell_type": "code",
   "execution_count": null,
   "metadata": {},
   "outputs": [],
   "source": []
  }
 ],
 "metadata": {
  "kernelspec": {
   "display_name": "Python 3",
   "language": "python",
   "name": "python3"
  },
  "language_info": {
   "codemirror_mode": {
    "name": "ipython",
    "version": 3
   },
   "file_extension": ".py",
   "mimetype": "text/x-python",
   "name": "python",
   "nbconvert_exporter": "python",
   "pygments_lexer": "ipython3",
   "version": "3.8.1"
  }
 },
 "nbformat": 4,
 "nbformat_minor": 4
}
