{
 "cells": [
  {
   "cell_type": "markdown",
   "metadata": {},
   "source": [
    "### Import libraries"
   ]
  },
  {
   "cell_type": "code",
   "execution_count": 123,
   "metadata": {},
   "outputs": [],
   "source": [
    "import pandas as pd\n",
    "import numpy as np\n",
    "import matplotlib.pyplot as plt\n",
    "import seaborn as sns\n",
    "import csv\n",
    "import nltk.data\n",
    "import string\n",
    "from sklearn.feature_extraction.text import CountVectorizer,TfidfTransformer\n",
    "from sklearn.naive_bayes import MultinomialNB\n",
    "from sklearn.metrics import confusion_matrix,classification_report\n",
    "from sklearn.model_selection import train_test_split\n",
    "from sklearn.pipeline import Pipeline"
   ]
  },
  {
   "cell_type": "markdown",
   "metadata": {},
   "source": [
    "### Define useful functions"
   ]
  },
  {
   "cell_type": "code",
   "execution_count": 57,
   "metadata": {},
   "outputs": [],
   "source": [
    "def text_process_prelim(review_sentence):\n",
    "    review_sentence_str = str(review_sentence)\n",
    "    \n",
    "    # Check characters to see if they are in punctuation\n",
    "    nopunc = [char for char in review_sentence_str if char not in string.punctuation]\n",
    "\n",
    "    # Join the characters again to form the string.\n",
    "    nopunc = ''.join(nopunc)\n",
    "    \n",
    "    # Now split into words\n",
    "    if nopunc == '':\n",
    "        return np.nan\n",
    "    else:\n",
    "        return nopunc"
   ]
  },
  {
   "cell_type": "code",
   "execution_count": 64,
   "metadata": {},
   "outputs": [],
   "source": [
    "def text_process(review_sentence):\n",
    "        return [word.lower() for word in review_sentence.split()]"
   ]
  },
  {
   "cell_type": "markdown",
   "metadata": {},
   "source": [
    "### Import dataset"
   ]
  },
  {
   "cell_type": "code",
   "execution_count": 59,
   "metadata": {},
   "outputs": [],
   "source": [
    "df_preprocessed = pd.read_csv('./datasets/df_preprocessed.csv',lineterminator='\\n')"
   ]
  },
  {
   "cell_type": "code",
   "execution_count": 60,
   "metadata": {},
   "outputs": [
    {
     "data": {
      "text/html": [
       "<div>\n",
       "<style scoped>\n",
       "    .dataframe tbody tr th:only-of-type {\n",
       "        vertical-align: middle;\n",
       "    }\n",
       "\n",
       "    .dataframe tbody tr th {\n",
       "        vertical-align: top;\n",
       "    }\n",
       "\n",
       "    .dataframe thead th {\n",
       "        text-align: right;\n",
       "    }\n",
       "</style>\n",
       "<table border=\"1\" class=\"dataframe\">\n",
       "  <thead>\n",
       "    <tr style=\"text-align: right;\">\n",
       "      <th></th>\n",
       "      <th>hotel_name</th>\n",
       "      <th>review_date</th>\n",
       "      <th>review_item_user_review_count</th>\n",
       "      <th>review_score_badge</th>\n",
       "      <th>review_item_header_content</th>\n",
       "      <th>review_info_tag</th>\n",
       "      <th>review_staydate</th>\n",
       "      <th>state</th>\n",
       "      <th>review_sentence</th>\n",
       "      <th>review_label</th>\n",
       "      <th>review_traveler_type</th>\n",
       "      <th>review_time_of_travel</th>\n",
       "    </tr>\n",
       "  </thead>\n",
       "  <tbody>\n",
       "    <tr>\n",
       "      <th>417224</th>\n",
       "      <td>Hampton Inn Seaport Financial District</td>\n",
       "      <td>14 January 2020</td>\n",
       "      <td>1 review</td>\n",
       "      <td>2.0</td>\n",
       "      <td>Below average</td>\n",
       "      <td>['Business trip', 'Solo traveller', 'Queen Roo...</td>\n",
       "      <td>January 2020</td>\n",
       "      <td>NY</td>\n",
       "      <td>They gave security personnel in the lobby and ...</td>\n",
       "      <td>0</td>\n",
       "      <td>Solo traveler</td>\n",
       "      <td>Winter</td>\n",
       "    </tr>\n",
       "    <tr>\n",
       "      <th>417225</th>\n",
       "      <td>Hampton Inn Seaport Financial District</td>\n",
       "      <td>14 January 2020</td>\n",
       "      <td>1 review</td>\n",
       "      <td>2.0</td>\n",
       "      <td>Below average</td>\n",
       "      <td>['Business trip', 'Solo traveller', 'Queen Roo...</td>\n",
       "      <td>January 2020</td>\n",
       "      <td>NY</td>\n",
       "      <td>People with laud music all night.</td>\n",
       "      <td>0</td>\n",
       "      <td>Solo traveler</td>\n",
       "      <td>Winter</td>\n",
       "    </tr>\n",
       "    <tr>\n",
       "      <th>417226</th>\n",
       "      <td>Hampton Inn Seaport Financial District</td>\n",
       "      <td>14 January 2020</td>\n",
       "      <td>1 review</td>\n",
       "      <td>2.0</td>\n",
       "      <td>Below average</td>\n",
       "      <td>['Business trip', 'Solo traveller', 'Queen Roo...</td>\n",
       "      <td>January 2020</td>\n",
       "      <td>NY</td>\n",
       "      <td>My bathroom smelled like marijuana.</td>\n",
       "      <td>0</td>\n",
       "      <td>Solo traveler</td>\n",
       "      <td>Winter</td>\n",
       "    </tr>\n",
       "    <tr>\n",
       "      <th>417227</th>\n",
       "      <td>Hampton Inn Seaport Financial District</td>\n",
       "      <td>9 October 2019</td>\n",
       "      <td>1 review</td>\n",
       "      <td>9.2</td>\n",
       "      <td>Superb</td>\n",
       "      <td>['Business trip', 'Group', 'Double Room', 'Sta...</td>\n",
       "      <td>October 2019</td>\n",
       "      <td>NY</td>\n",
       "      <td>They always have issues with the TVs?</td>\n",
       "      <td>0</td>\n",
       "      <td>Group</td>\n",
       "      <td>Fall</td>\n",
       "    </tr>\n",
       "    <tr>\n",
       "      <th>417228</th>\n",
       "      <td>Hampton Inn Seaport Financial District</td>\n",
       "      <td>9 October 2019</td>\n",
       "      <td>1 review</td>\n",
       "      <td>9.2</td>\n",
       "      <td>Superb</td>\n",
       "      <td>['Business trip', 'Group', 'Double Room', 'Sta...</td>\n",
       "      <td>October 2019</td>\n",
       "      <td>NY</td>\n",
       "      <td>WiFi and remote controls not working</td>\n",
       "      <td>0</td>\n",
       "      <td>Group</td>\n",
       "      <td>Fall</td>\n",
       "    </tr>\n",
       "  </tbody>\n",
       "</table>\n",
       "</div>"
      ],
      "text/plain": [
       "                                    hotel_name      review_date  \\\n",
       "417224  Hampton Inn Seaport Financial District  14 January 2020   \n",
       "417225  Hampton Inn Seaport Financial District  14 January 2020   \n",
       "417226  Hampton Inn Seaport Financial District  14 January 2020   \n",
       "417227  Hampton Inn Seaport Financial District   9 October 2019   \n",
       "417228  Hampton Inn Seaport Financial District   9 October 2019   \n",
       "\n",
       "       review_item_user_review_count  review_score_badge  \\\n",
       "417224                      1 review                 2.0   \n",
       "417225                      1 review                 2.0   \n",
       "417226                      1 review                 2.0   \n",
       "417227                      1 review                 9.2   \n",
       "417228                      1 review                 9.2   \n",
       "\n",
       "       review_item_header_content  \\\n",
       "417224              Below average   \n",
       "417225              Below average   \n",
       "417226              Below average   \n",
       "417227                     Superb   \n",
       "417228                     Superb   \n",
       "\n",
       "                                          review_info_tag review_staydate  \\\n",
       "417224  ['Business trip', 'Solo traveller', 'Queen Roo...    January 2020   \n",
       "417225  ['Business trip', 'Solo traveller', 'Queen Roo...    January 2020   \n",
       "417226  ['Business trip', 'Solo traveller', 'Queen Roo...    January 2020   \n",
       "417227  ['Business trip', 'Group', 'Double Room', 'Sta...    October 2019   \n",
       "417228  ['Business trip', 'Group', 'Double Room', 'Sta...    October 2019   \n",
       "\n",
       "       state                                    review_sentence  review_label  \\\n",
       "417224    NY  They gave security personnel in the lobby and ...             0   \n",
       "417225    NY                  People with laud music all night.             0   \n",
       "417226    NY                My bathroom smelled like marijuana.             0   \n",
       "417227    NY              They always have issues with the TVs?             0   \n",
       "417228    NY               WiFi and remote controls not working             0   \n",
       "\n",
       "       review_traveler_type review_time_of_travel  \n",
       "417224        Solo traveler                Winter  \n",
       "417225        Solo traveler                Winter  \n",
       "417226        Solo traveler                Winter  \n",
       "417227                Group                  Fall  \n",
       "417228                Group                  Fall  "
      ]
     },
     "execution_count": 60,
     "metadata": {},
     "output_type": "execute_result"
    }
   ],
   "source": [
    "df_preprocessed.tail()"
   ]
  },
  {
   "cell_type": "markdown",
   "metadata": {},
   "source": [
    "### Normalization (punctuation)"
   ]
  },
  {
   "cell_type": "code",
   "execution_count": 61,
   "metadata": {},
   "outputs": [],
   "source": [
    "df_preprocessed['review_sentence'] = df_preprocessed['review_sentence'].apply(text_process_prelim)"
   ]
  },
  {
   "cell_type": "markdown",
   "metadata": {},
   "source": [
    "### Remove reviews that are now empty"
   ]
  },
  {
   "cell_type": "code",
   "execution_count": 62,
   "metadata": {},
   "outputs": [],
   "source": [
    "df_preprocessed = df_preprocessed[~pd.isnull(df_preprocessed['review_sentence'])]"
   ]
  },
  {
   "cell_type": "code",
   "execution_count": 75,
   "metadata": {},
   "outputs": [
    {
     "data": {
      "text/plain": [
       "414282"
      ]
     },
     "execution_count": 75,
     "metadata": {},
     "output_type": "execute_result"
    }
   ],
   "source": [
    "len(df_preprocessed)"
   ]
  },
  {
   "cell_type": "markdown",
   "metadata": {},
   "source": [
    "# Modeling"
   ]
  },
  {
   "cell_type": "markdown",
   "metadata": {},
   "source": [
    "## Create model pipeline: Vectorization (BoW), TF-IDF, Naive Bayes Classifier"
   ]
  },
  {
   "cell_type": "code",
   "execution_count": 116,
   "metadata": {},
   "outputs": [],
   "source": [
    "model_pipeline = Pipeline([\n",
    "    ('bow', CountVectorizer(analyzer=text_process)),  # strings to token integer counts\n",
    "    ('tfidf', TfidfTransformer()),  # integer counts to weighted TF-IDF scores\n",
    "    ('classifier', MultinomialNB())  # train on TF-IDF vectors w/ Naive Bayes classifier\n",
    "])"
   ]
  },
  {
   "cell_type": "markdown",
   "metadata": {},
   "source": [
    "## Train-validation split"
   ]
  },
  {
   "cell_type": "code",
   "execution_count": 96,
   "metadata": {},
   "outputs": [],
   "source": [
    "df_preprocessed_features = df_preprocessed.drop('review_label', axis=1)"
   ]
  },
  {
   "cell_type": "code",
   "execution_count": 98,
   "metadata": {},
   "outputs": [],
   "source": [
    "df_train, df_test, label_train, label_test = train_test_split(df_preprocessed_features, df_preprocessed['review_label'], test_size=0.2)"
   ]
  },
  {
   "cell_type": "markdown",
   "metadata": {},
   "source": [
    "## Train model"
   ]
  },
  {
   "cell_type": "code",
   "execution_count": 105,
   "metadata": {},
   "outputs": [],
   "source": [
    "# using only review_sentence as feature (so for instance no review sentence length)\n",
    "# df_preprocessed['review_sentence_length'] = df_preprocessed['review_sentence'].apply(len)"
   ]
  },
  {
   "cell_type": "code",
   "execution_count": 117,
   "metadata": {},
   "outputs": [
    {
     "data": {
      "text/plain": [
       "Pipeline(memory=None,\n",
       "         steps=[('bow',\n",
       "                 CountVectorizer(analyzer=<function text_process at 0x7f0468990af0>,\n",
       "                                 binary=False, decode_error='strict',\n",
       "                                 dtype=<class 'numpy.int64'>, encoding='utf-8',\n",
       "                                 input='content', lowercase=True, max_df=1.0,\n",
       "                                 max_features=None, min_df=1,\n",
       "                                 ngram_range=(1, 1), preprocessor=None,\n",
       "                                 stop_words=None, strip_accents=None,\n",
       "                                 token_pattern='(?u)\\\\b\\\\w\\\\w+\\\\b',\n",
       "                                 tokenizer=None, vocabulary=None)),\n",
       "                ('tfidf',\n",
       "                 TfidfTransformer(norm='l2', smooth_idf=True,\n",
       "                                  sublinear_tf=False, use_idf=True)),\n",
       "                ('classifier',\n",
       "                 MultinomialNB(alpha=1.0, class_prior=None, fit_prior=True))],\n",
       "         verbose=False)"
      ]
     },
     "execution_count": 117,
     "metadata": {},
     "output_type": "execute_result"
    }
   ],
   "source": [
    "model_pipeline.fit(df_train['review_sentence'],label_train)"
   ]
  },
  {
   "cell_type": "markdown",
   "metadata": {},
   "source": [
    "## Test model"
   ]
  },
  {
   "cell_type": "code",
   "execution_count": 118,
   "metadata": {},
   "outputs": [],
   "source": [
    "predictions = model_pipeline.predict(df_test['review_sentence'])"
   ]
  },
  {
   "cell_type": "markdown",
   "metadata": {},
   "source": [
    "### Print classification report"
   ]
  },
  {
   "cell_type": "code",
   "execution_count": 137,
   "metadata": {},
   "outputs": [
    {
     "name": "stdout",
     "output_type": "stream",
     "text": [
      "              precision    recall  f1-score   support\n",
      "\n",
      "           0       0.83      0.89      0.86     41533\n",
      "           1       0.88      0.81      0.84     41324\n",
      "\n",
      "    accuracy                           0.85     82857\n",
      "   macro avg       0.85      0.85      0.85     82857\n",
      "weighted avg       0.85      0.85      0.85     82857\n",
      "\n"
     ]
    }
   ],
   "source": [
    "print(classification_report(label_test,predictions))"
   ]
  },
  {
   "cell_type": "markdown",
   "metadata": {},
   "source": [
    "### Print confusion matrix"
   ]
  },
  {
   "cell_type": "code",
   "execution_count": 124,
   "metadata": {},
   "outputs": [
    {
     "data": {
      "image/png": "[encoded data removed]",
      "text/plain": [
       "<Figure size 432x288 with 2 Axes>"
      ]
     },
     "metadata": {
      "needs_background": "light"
     },
     "output_type": "display_data"
    }
   ],
   "source": [
    "test_cm = confusion_matrix(label_test,predictions)\n",
    "test_cm_tn, test_cm_fp, test_cm_fn, test_cm_tp = test_cm.ravel()\n",
    "test_cm_pd = pd.DataFrame(data=test_cm,columns=['Predicted Neg','Predicted Pos'],index=['Actual Neg', 'Actual Pos'])\n",
    "sns.heatmap(test_cm_pd, annot=True, fmt='d', cmap='rainbow')\n",
    "plt.show()"
   ]
  },
  {
   "cell_type": "code",
   "execution_count": null,
   "metadata": {},
   "outputs": [],
   "source": []
  },
  {
   "cell_type": "code",
   "execution_count": null,
   "metadata": {},
   "outputs": [],
   "source": []
  },
  {
   "cell_type": "code",
   "execution_count": null,
   "metadata": {},
   "outputs": [],
   "source": []
  },
  {
   "cell_type": "code",
   "execution_count": null,
   "metadata": {},
   "outputs": [],
   "source": []
  },
  {
   "cell_type": "code",
   "execution_count": null,
   "metadata": {},
   "outputs": [],
   "source": []
  },
  {
   "cell_type": "code",
   "execution_count": null,
   "metadata": {},
   "outputs": [],
   "source": []
  },
  {
   "cell_type": "code",
   "execution_count": null,
   "metadata": {},
   "outputs": [],
   "source": []
  },
  {
   "cell_type": "code",
   "execution_count": null,
   "metadata": {},
   "outputs": [],
   "source": []
  },
  {
   "cell_type": "code",
   "execution_count": 121,
   "metadata": {},
   "outputs": [],
   "source": [
    "#######################################################################"
   ]
  },
  {
   "cell_type": "markdown",
   "metadata": {},
   "source": [
    "### Vectorization (BoW)"
   ]
  },
  {
   "cell_type": "code",
   "execution_count": 65,
   "metadata": {},
   "outputs": [],
   "source": [
    "bow_transformer = CountVectorizer(analyzer=text_process).fit(df_preprocessed['review_sentence'])"
   ]
  },
  {
   "cell_type": "code",
   "execution_count": 66,
   "metadata": {},
   "outputs": [
    {
     "name": "stdout",
     "output_type": "stream",
     "text": [
      "35955\n"
     ]
    }
   ],
   "source": [
    "# print length of vocabulary\n",
    "print(len(bow_transformer.vocabulary_))"
   ]
  },
  {
   "cell_type": "code",
   "execution_count": 71,
   "metadata": {},
   "outputs": [],
   "source": [
    "review_sentence_bow = bow_transformer.transform(df_preprocessed['review_sentence'])"
   ]
  },
  {
   "cell_type": "code",
   "execution_count": 79,
   "metadata": {},
   "outputs": [
    {
     "name": "stdout",
     "output_type": "stream",
     "text": [
      "Shape of Sparse Matrix:  (414282, 35955)\n",
      "Amount of Non-Zero occurrences:  3889186\n",
      "Sparsity: 0.026 %\n"
     ]
    }
   ],
   "source": [
    "# print info about sparsity\n",
    "review_sentence_bow_sparsity = (100.0 * review_sentence_bow.nnz / (review_sentence_bow.shape[0] * review_sentence_bow.shape[1]))\n",
    "print('Shape of Sparse Matrix: ', review_sentence_bow.shape)\n",
    "print('Amount of Non-Zero occurrences: ', review_sentence_bow.nnz)\n",
    "print('Sparsity: {} %'.format(round(sparsity,3)))"
   ]
  },
  {
   "cell_type": "markdown",
   "metadata": {},
   "source": [
    "### TF-IDF"
   ]
  },
  {
   "cell_type": "code",
   "execution_count": 80,
   "metadata": {},
   "outputs": [],
   "source": [
    "tfidf_transformer = TfidfTransformer().fit(review_sentence_bow)"
   ]
  },
  {
   "cell_type": "code",
   "execution_count": 82,
   "metadata": {},
   "outputs": [],
   "source": [
    "review_sentence_tfidf = tfidf_transformer.transform(review_sentence_bow)"
   ]
  },
  {
   "cell_type": "markdown",
   "metadata": {},
   "source": [
    "### Naive Bayes Classifier"
   ]
  },
  {
   "cell_type": "code",
   "execution_count": null,
   "metadata": {},
   "outputs": [],
   "source": [
    "nb_model = MultinomialNB().fit(review_sentence_tfidf, messages['label'])"
   ]
  },
  {
   "cell_type": "code",
   "execution_count": null,
   "metadata": {},
   "outputs": [],
   "source": []
  },
  {
   "cell_type": "code",
   "execution_count": null,
   "metadata": {},
   "outputs": [],
   "source": []
  },
  {
   "cell_type": "code",
   "execution_count": null,
   "metadata": {},
   "outputs": [],
   "source": []
  },
  {
   "cell_type": "code",
   "execution_count": null,
   "metadata": {},
   "outputs": [],
   "source": []
  },
  {
   "cell_type": "code",
   "execution_count": null,
   "metadata": {},
   "outputs": [],
   "source": []
  }
 ],
 "metadata": {
  "kernelspec": {
   "display_name": "Python 3",
   "language": "python",
   "name": "python3"
  },
  "language_info": {
   "codemirror_mode": {
    "name": "ipython",
    "version": 3
   },
   "file_extension": ".py",
   "mimetype": "text/x-python",
   "name": "python",
   "nbconvert_exporter": "python",
   "pygments_lexer": "ipython3",
   "version": "3.8.1"
  }
 },
 "nbformat": 4,
 "nbformat_minor": 4
}
