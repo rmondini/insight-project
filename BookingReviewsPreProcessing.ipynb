{
 "cells": [
  {
   "cell_type": "markdown",
   "metadata": {},
   "source": [
    "### Import libraries"
   ]
  },
  {
   "cell_type": "code",
   "execution_count": 1,
   "metadata": {},
   "outputs": [],
   "source": [
    "import pandas as pd\n",
    "import numpy as np\n",
    "import csv\n",
    "import nltk.data"
   ]
  },
  {
   "cell_type": "markdown",
   "metadata": {},
   "source": [
    "### Define useful functions"
   ]
  },
  {
   "cell_type": "code",
   "execution_count": 2,
   "metadata": {},
   "outputs": [],
   "source": [
    "def determine_travel_type(row):\n",
    "    if 'Business trip' in row:\n",
    "        return 'Business'\n",
    "    elif 'Leisure trip' in row:\n",
    "        return 'Leisure'\n",
    "    else:\n",
    "        return None\n",
    "    \n",
    "def determine_traveler_type(row):\n",
    "    if 'Family with young children' in row:\n",
    "        return 'Family with young children'\n",
    "    elif 'Couple' in row:\n",
    "        return 'Couple'\n",
    "    elif 'Solo traveller' in row:\n",
    "        return 'Solo traveler'\n",
    "    elif 'Group' in row:\n",
    "        return 'Group'\n",
    "    elif 'People with friends':\n",
    "        return 'People with friends'\n",
    "    else:\n",
    "        return None\n",
    "    \n",
    "def determine_time_of_travel(row):\n",
    "    row=str(row)\n",
    "    if ('December' in row) or ('January' in row) or ('February' in row):\n",
    "        return 'Winter'\n",
    "    elif ('March' in row) or ('April' in row) or ('May' in row):\n",
    "        return 'Spring'\n",
    "    elif ('June' in row) or ('July' in row) or ('August' in row):\n",
    "        return 'Summer'\n",
    "    elif ('ptember' in row) or ('October' in row) or ('November' in row):\n",
    "        return 'Fall'\n",
    "    else:\n",
    "        return None\n",
    "    \n",
    "def split_reviews(review_item):\n",
    "    if pd.isnull(review_item):\n",
    "        return np.nan\n",
    "    else:\n",
    "        return tokenizer.tokenize(review_item)"
   ]
  },
  {
   "cell_type": "markdown",
   "metadata": {},
   "source": [
    "### Fix datasets"
   ]
  },
  {
   "cell_type": "code",
   "execution_count": 30,
   "metadata": {},
   "outputs": [],
   "source": [
    "df_az_1 = pd.read_csv('./datasets/old_files/sample1_arizona_hotel_reviews_list.csv')\n",
    "df_az_1['state']='AZ'\n",
    "df_az_1.drop(['reviewer_name','reviewer_country'],axis=1,inplace=True)\n",
    "df_az_1.to_csv('./datasets/final_arizona_hotel_reviews_list.csv', index=False)\n",
    "\n",
    "df_ny_1 = pd.read_csv('./datasets/old_files/sample1_nys_hotel_reviews_list.csv')\n",
    "df_ny_1['state']='NY'\n",
    "df_ny_1.drop(['reviewer_name','reviewer_country'],axis=1,inplace=True)\n",
    "\n",
    "df_ny_2 = pd.read_csv('./datasets/old_files/sample2_nys_hotel_reviews_list.csv')\n",
    "df_ny_2['state']='NY'\n",
    "df_ny_2.drop(['reviewer_name','reviewer_country'],axis=1,inplace=True)\n",
    "\n",
    "df_ny_3 = pd.read_csv('./datasets/old_files/sample3_nys_hotel_reviews_list.csv')\n",
    "df_ny_3['state']='NY'\n",
    "\n",
    "df_ny = pd.concat([df_ny_1,df_ny_2,df_ny_3],ignore_index=True)\n",
    "df_ny.to_csv('./datasets/final_nys_hotel_reviews_list.csv', index=False)"
   ]
  },
  {
   "cell_type": "markdown",
   "metadata": {},
   "source": [
    "### Import datasets"
   ]
  },
  {
   "cell_type": "code",
   "execution_count": 31,
   "metadata": {},
   "outputs": [],
   "source": [
    "df_az = pd.read_csv('./datasets/final_arizona_hotel_reviews_list.csv',lineterminator='\\n')\n",
    "df_ny = pd.read_csv('./datasets/final_nys_hotel_reviews_list.csv',lineterminator='\\n')"
   ]
  },
  {
   "cell_type": "markdown",
   "metadata": {},
   "source": [
    "### Combine into one dataset"
   ]
  },
  {
   "cell_type": "code",
   "execution_count": 9,
   "metadata": {},
   "outputs": [],
   "source": [
    "#df_complete = pd.concat([df_az,df_ny],ignore_index=True)\n",
    "df_complete = df_ny.copy()"
   ]
  },
  {
   "cell_type": "markdown",
   "metadata": {},
   "source": [
    "### Split reviews into sentences"
   ]
  },
  {
   "cell_type": "code",
   "execution_count": 11,
   "metadata": {},
   "outputs": [],
   "source": [
    "tokenizer = nltk.data.load('tokenizers/punkt/english.pickle')"
   ]
  },
  {
   "cell_type": "code",
   "execution_count": 12,
   "metadata": {},
   "outputs": [],
   "source": [
    "df_complete['review_pos_split']=df_complete['review_pos'].apply(split_reviews)\n",
    "df_complete['review_neg_split']=df_complete['review_neg'].apply(split_reviews)"
   ]
  },
  {
   "cell_type": "markdown",
   "metadata": {},
   "source": [
    "### Create a new data point for each sentence"
   ]
  },
  {
   "cell_type": "code",
   "execution_count": 13,
   "metadata": {},
   "outputs": [
    {
     "name": "stderr",
     "output_type": "stream",
     "text": [
      "<ipython-input-13-8f04e4fe7ae0>:1: DeprecationWarning: The default dtype for empty Series will be 'object' instead of 'float64' in a future version. Specify a dtype explicitly to silence this warning.\n",
      "  df_complete_pos_col = df_complete.apply(lambda x: pd.Series(x['review_pos_split']),axis=1).stack().reset_index(level=1, drop=True)\n"
     ]
    }
   ],
   "source": [
    "df_complete_pos_col = df_complete.apply(lambda x: pd.Series(x['review_pos_split']),axis=1).stack().reset_index(level=1, drop=True)\n",
    "df_complete_pos_col.name = 'review_pos_sentence'\n",
    "\n",
    "df_complete_pos = df_complete.copy()\n",
    "df_complete_pos.drop('review_pos_split', axis=1, inplace=True)\n",
    "df_complete_pos = df_complete_pos.join(df_complete_pos_col)"
   ]
  },
  {
   "cell_type": "code",
   "execution_count": 14,
   "metadata": {},
   "outputs": [
    {
     "name": "stderr",
     "output_type": "stream",
     "text": [
      "<ipython-input-14-25017e125086>:1: DeprecationWarning: The default dtype for empty Series will be 'object' instead of 'float64' in a future version. Specify a dtype explicitly to silence this warning.\n",
      "  df_complete_neg_col = df_complete.apply(lambda x: pd.Series(x['review_neg_split']),axis=1).stack().reset_index(level=1, drop=True)\n"
     ]
    }
   ],
   "source": [
    "df_complete_neg_col = df_complete.apply(lambda x: pd.Series(x['review_neg_split']),axis=1).stack().reset_index(level=1, drop=True)\n",
    "df_complete_neg_col.name = 'review_neg_sentence'\n",
    "\n",
    "df_complete_neg = df_complete.copy()\n",
    "df_complete_neg.drop('review_neg_split', axis=1, inplace=True)\n",
    "df_complete_neg = df_complete_neg.join(df_complete_neg_col)"
   ]
  },
  {
   "cell_type": "markdown",
   "metadata": {},
   "source": [
    "### Clean up dataframes by removing unneeded columns and adding label column"
   ]
  },
  {
   "cell_type": "code",
   "execution_count": 15,
   "metadata": {},
   "outputs": [],
   "source": [
    "df_complete_pos.drop(['review_pos','review_neg','review_neg_split'], axis=1, inplace=True)\n",
    "df_complete_pos['review_label']=1"
   ]
  },
  {
   "cell_type": "code",
   "execution_count": 16,
   "metadata": {},
   "outputs": [],
   "source": [
    "df_complete_neg.drop(['review_pos','review_neg','review_pos_split'], axis=1, inplace=True)\n",
    "df_complete_neg['review_label']=0"
   ]
  },
  {
   "cell_type": "markdown",
   "metadata": {},
   "source": [
    "### Remove reviews without text"
   ]
  },
  {
   "cell_type": "code",
   "execution_count": 17,
   "metadata": {},
   "outputs": [],
   "source": [
    "df_complete_pos = df_complete_pos[~pd.isnull(df_complete_pos['review_pos_sentence'])]"
   ]
  },
  {
   "cell_type": "code",
   "execution_count": 18,
   "metadata": {},
   "outputs": [],
   "source": [
    "df_complete_neg = df_complete_neg[~pd.isnull(df_complete_neg['review_neg_sentence'])]"
   ]
  },
  {
   "cell_type": "markdown",
   "metadata": {},
   "source": [
    "### Merge dataframes"
   ]
  },
  {
   "cell_type": "code",
   "execution_count": 19,
   "metadata": {},
   "outputs": [],
   "source": [
    "df_complete_pos.rename(columns={'review_pos_sentence': 'review_sentence'},inplace=True)\n",
    "df_complete_neg.rename(columns={'review_neg_sentence': 'review_sentence'},inplace=True)"
   ]
  },
  {
   "cell_type": "code",
   "execution_count": 20,
   "metadata": {},
   "outputs": [],
   "source": [
    "df_preprocessed = pd.concat([df_complete_pos,df_complete_neg],ignore_index=True)"
   ]
  },
  {
   "cell_type": "markdown",
   "metadata": {},
   "source": [
    "### Convert review_info_tag column into multiple columns"
   ]
  },
  {
   "cell_type": "code",
   "execution_count": 21,
   "metadata": {},
   "outputs": [],
   "source": [
    "df_preprocessed['review_info_tag'] = df_preprocessed['review_info_tag'].apply(lambda x:x.strip('[]\\'').split('\\', \\''))"
   ]
  },
  {
   "cell_type": "code",
   "execution_count": 22,
   "metadata": {},
   "outputs": [],
   "source": [
    "df_preprocessed['review_traveler_type'] = df_preprocessed['review_info_tag'].apply(determine_traveler_type)"
   ]
  },
  {
   "cell_type": "code",
   "execution_count": 23,
   "metadata": {},
   "outputs": [],
   "source": [
    "df_preprocessed['review_time_of_travel'] = df_preprocessed['review_staydate'].apply(determine_time_of_travel)"
   ]
  },
  {
   "cell_type": "markdown",
   "metadata": {},
   "source": [
    "### Remove 'Everything' and 'Nothing' reviews"
   ]
  },
  {
   "cell_type": "code",
   "execution_count": 24,
   "metadata": {},
   "outputs": [],
   "source": [
    "filter_remove_oneliner = (df_preprocessed['review_sentence']=='Everything.') | (df_preprocessed['review_sentence']=='everything.') | (df_preprocessed['review_sentence']=='Everything') | (df_preprocessed['review_sentence']=='everything') | (df_preprocessed['review_sentence']=='Nothing.') | (df_preprocessed['review_sentence']=='nothing.') | (df_preprocessed['review_sentence']=='Nothing') | (df_preprocessed['review_sentence']=='nothing')"
   ]
  },
  {
   "cell_type": "code",
   "execution_count": 25,
   "metadata": {},
   "outputs": [],
   "source": [
    "# to do: Location, Staff, Breakfast, None, All, N/A, na, ..."
   ]
  },
  {
   "cell_type": "code",
   "execution_count": 26,
   "metadata": {},
   "outputs": [],
   "source": [
    "df_preprocessed = df_preprocessed[~filter_remove_oneliner]"
   ]
  },
  {
   "cell_type": "markdown",
   "metadata": {},
   "source": [
    "### Replace '\\n','\\r' with '.' from review sentences and header content"
   ]
  },
  {
   "cell_type": "code",
   "execution_count": 27,
   "metadata": {},
   "outputs": [],
   "source": [
    "df_preprocessed['review_sentence'] = df_preprocessed['review_sentence'].apply(lambda x:x.replace('\\n', '. ').replace('\\r', '. '))\n",
    "df_preprocessed['review_item_header_content'] = df_preprocessed['review_item_header_content'].apply(lambda x:str(x).replace('\\n', '. ').replace('\\r', '. '))"
   ]
  },
  {
   "cell_type": "markdown",
   "metadata": {},
   "source": [
    "### Write out to csv file"
   ]
  },
  {
   "cell_type": "code",
   "execution_count": 29,
   "metadata": {},
   "outputs": [],
   "source": [
    "df_preprocessed.to_csv('./datasets/df_preprocessed.csv',index=False)"
   ]
  },
  {
   "cell_type": "code",
   "execution_count": null,
   "metadata": {},
   "outputs": [],
   "source": []
  },
  {
   "cell_type": "code",
   "execution_count": null,
   "metadata": {},
   "outputs": [],
   "source": []
  },
  {
   "cell_type": "code",
   "execution_count": null,
   "metadata": {},
   "outputs": [],
   "source": []
  },
  {
   "cell_type": "code",
   "execution_count": null,
   "metadata": {},
   "outputs": [],
   "source": []
  },
  {
   "cell_type": "code",
   "execution_count": null,
   "metadata": {},
   "outputs": [],
   "source": []
  },
  {
   "cell_type": "code",
   "execution_count": null,
   "metadata": {},
   "outputs": [],
   "source": []
  }
 ],
 "metadata": {
  "kernelspec": {
   "display_name": "Python 3",
   "language": "python",
   "name": "python3"
  },
  "language_info": {
   "codemirror_mode": {
    "name": "ipython",
    "version": 3
   },
   "file_extension": ".py",
   "mimetype": "text/x-python",
   "name": "python",
   "nbconvert_exporter": "python",
   "pygments_lexer": "ipython3",
   "version": "3.8.1"
  }
 },
 "nbformat": 4,
 "nbformat_minor": 4
}
