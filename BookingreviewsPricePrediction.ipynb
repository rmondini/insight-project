{
 "cells": [
  {
   "cell_type": "markdown",
   "metadata": {},
   "source": [
    "### Import libraries"
   ]
  },
  {
   "cell_type": "code",
   "execution_count": 1,
   "metadata": {},
   "outputs": [],
   "source": [
    "import pandas as pd\n",
    "import numpy as np\n",
    "import matplotlib.pyplot as plt\n",
    "import seaborn as sns\n",
    "import csv\n",
    "from sklearn.linear_model import LinearRegression,Lasso,Ridge\n",
    "from sklearn.model_selection import train_test_split\n",
    "from sklearn.preprocessing import StandardScaler\n",
    "from sklearn.metrics import r2_score,mean_squared_error\n",
    "from sklearn.ensemble import RandomForestRegressor"
   ]
  },
  {
   "cell_type": "markdown",
   "metadata": {},
   "source": [
    "### Define useful functions"
   ]
  },
  {
   "cell_type": "code",
   "execution_count": 648,
   "metadata": {},
   "outputs": [],
   "source": [
    "def extract_zip_code(hotel_address):\n",
    "    address_tmp = hotel_address.split(',')[-2].strip(' ').split(' ')[-1][:3]\n",
    "    if address_tmp == 'NY1':\n",
    "        return hotel_address.split(',')[-2].strip(' ').split(' ')[-1][2:5]\n",
    "    else:\n",
    "        return address_tmp\n",
    "\n",
    "def extract_price(hotel_room_price):\n",
    "    room_price_tmp = hotel_room_price.strip('\\r').strip('US$')\n",
    "    if room_price_tmp == '':\n",
    "        return None\n",
    "    else:\n",
    "        room_price_tmp = room_price_tmp.replace(',' , '')\n",
    "        return float(room_price_tmp)\n",
    "    \n",
    "def extract_capacity(hotel_room_capacity):\n",
    "    if pd.isnull(hotel_room_capacity):\n",
    "        return None\n",
    "    else:\n",
    "        return int(hotel_room_capacity[-1])\n",
    "\n",
    "def extract_chain(hotel_name):\n",
    "    hotel_name_lower=hotel_name.lower()\n",
    "    if 'doubletree by hilton' in hotel_name_lower:\n",
    "        return 'Doubletree Hilton'\n",
    "    elif 'homewood suites by hilton' in hotel_name_lower:\n",
    "        return 'Homewood Suites Hilton'\n",
    "    elif 'hilton garden' in hotel_name_lower:\n",
    "        return 'Hilton Garden'\n",
    "    elif 'home2' in hotel_name_lower:\n",
    "        return 'Home2 Hilton'\n",
    "    elif 'tru' in hotel_name_lower:\n",
    "        return 'Tru Hilton'\n",
    "    elif 'hilton' in hotel_name_lower:\n",
    "        return 'Hilton'\n",
    "    \n",
    "    elif 'courtyard by marriott' in hotel_name_lower:\n",
    "        return 'Courtyard Marriott'\n",
    "    elif 'fairfield inn' in hotel_name_lower:\n",
    "        return 'Fairfield Inn Marriott'\n",
    "    elif 'residence inn by marriott' in hotel_name_lower:\n",
    "        return 'Residence Inn Marriott'\n",
    "    elif 'marriott' in hotel_name_lower:\n",
    "        return 'Marriott'\n",
    "    \n",
    "    elif 'hyatt' in hotel_name_lower:\n",
    "        return 'Hyatt'\n",
    "    elif 'wyndham' in hotel_name_lower:\n",
    "        return 'Wyndham'\n",
    "    elif 'embassy' in hotel_name_lower:\n",
    "        return 'Embassy'\n",
    "    elif 'sheraton' in hotel_name_lower:\n",
    "        return 'Sheraton'\n",
    "    elif 'radisson' in hotel_name_lower:\n",
    "        return 'Radisson'\n",
    "    elif 'best western' in hotel_name_lower:\n",
    "        return 'Best Western'\n",
    "    elif 'hampton' in hotel_name_lower:\n",
    "        return 'Hampton'\n",
    "    elif 'holiday inn' in hotel_name_lower:\n",
    "        return 'Holiday Inn'\n",
    "    elif 'westin' in hotel_name_lower:\n",
    "        return 'Westin'\n",
    "    elif 'red roof' in hotel_name_lower:\n",
    "        return 'Red Roof'\n",
    "    else:\n",
    "        return 'No chain'\n",
    "\n",
    "def extract_hotel_room_name(hotel_room_name):\n",
    "    hotel_room_name_lower=str(hotel_room_name).lower()\n",
    "    if 'king' in hotel_room_name_lower:\n",
    "        return 'King'\n",
    "    elif 'queen' in hotel_room_name_lower:\n",
    "        return 'Queen'\n",
    "    elif 'double' in hotel_room_name_lower:\n",
    "        return 'Double'\n",
    "    elif 'dormitory' in hotel_room_name_lower:\n",
    "        return 'Dorm'\n",
    "    else:\n",
    "        return 'Other'\n",
    "       \n",
    "def extract_hotel_stars(hotel_stars):\n",
    "    if hotel_stars in ['1 stars', '1-star hotel']:\n",
    "        return 1.0\n",
    "    elif hotel_stars in ['1.5 stars', '1.5 star hotel']:\n",
    "        return 1.5\n",
    "    elif hotel_stars in ['2 stars', '2-star hotel']:\n",
    "        return 2.0\n",
    "    elif hotel_stars in ['2.5 stars', '2.5 star hotel']:\n",
    "        return 2.5\n",
    "    elif hotel_stars in ['3 stars', '3-star hotel']:\n",
    "        return 3.0\n",
    "    elif hotel_stars in ['3.5 stars', '3.5 star hotel']:\n",
    "        return 3.5\n",
    "    elif hotel_stars in ['4 stars', '4-star hotel']:\n",
    "        return 4.0\n",
    "    elif hotel_stars in ['4.5 stars', '4.5 star hotel']:\n",
    "        return 4.5\n",
    "    elif hotel_stars in ['5 stars', '5-star hotel']:\n",
    "        return 5.0\n",
    "    else:\n",
    "        return None\n",
    "    \n",
    "def extract_cleanliness_rating(hotel_rating_breakdown):\n",
    "    item_tmp = hotel_rating_breakdown.strip('[]').split('], [')[0]\n",
    "    if item_tmp.split(',')[0]==\"'Cleanliness'\":\n",
    "        return float(item_tmp.split(',')[1].strip(' ').strip(\"''\"))\n",
    "    else:\n",
    "        return None\n",
    "    \n",
    "def extract_comfort_rating(hotel_rating_breakdown):\n",
    "    item_tmp = hotel_rating_breakdown.strip('[]').split('], [')[1]\n",
    "    if item_tmp.split(',')[0]==\"'Comfort'\":\n",
    "        return float(item_tmp.split(',')[1].strip(' ').strip(\"''\"))\n",
    "    else:\n",
    "        return None\n",
    "    \n",
    "def extract_location_rating(hotel_rating_breakdown):\n",
    "    item_tmp = hotel_rating_breakdown.strip('[]').split('], [')[2]\n",
    "    if item_tmp.split(',')[0]==\"'Location'\":\n",
    "        return float(item_tmp.split(',')[1].strip(' ').strip(\"''\"))\n",
    "    else:\n",
    "        return None\n",
    "    \n",
    "def extract_facilities_rating(hotel_rating_breakdown):\n",
    "    item_tmp = hotel_rating_breakdown.strip('[]').split('], [')[3]\n",
    "    if item_tmp.split(',')[0]==\"'Facilities'\":\n",
    "        return float(item_tmp.split(',')[1].strip(' ').strip(\"''\"))\n",
    "    else:\n",
    "        return None\n",
    "    \n",
    "def extract_staff_rating(hotel_rating_breakdown):\n",
    "    item_tmp = hotel_rating_breakdown.strip('[]').split('], [')[4]\n",
    "    if item_tmp.split(',')[0]==\"'Staff'\":\n",
    "        return float(item_tmp.split(',')[1].strip(' ').strip(\"''\"))\n",
    "    else:\n",
    "        return None\n",
    "    \n",
    "def extract_value_rating(hotel_rating_breakdown):\n",
    "    item_tmp = hotel_rating_breakdown.strip('[]').split('], [')[5]\n",
    "    if item_tmp.split(',')[0]==\"'Value for money'\":\n",
    "        return float(item_tmp.split(',')[1].strip(' ').strip(\"''\"))\n",
    "    else:\n",
    "        return None\n",
    "    \n",
    "def extract_wifi_rating(hotel_rating_breakdown):\n",
    "    item_tmp = hotel_rating_breakdown.strip('[]').split('], [')\n",
    "    if len(item_tmp)<7:\n",
    "        return None\n",
    "    elif item_tmp[6].split(',')[0]==\"'Free WiFi'\":\n",
    "        return float(item_tmp[6].split(',')[1].strip(' ').strip(\"''\"))\n",
    "    else:\n",
    "        return None\n",
    "    \n",
    "def filter_zip_code(hotel_address_zip_code):\n",
    "    hotel_address_zip_code_short = hotel_address_zip_code[:3]\n",
    "    zip_code_list = ['100','101','102','103','104','107','110','111','112','113','114','116']\n",
    "    if hotel_address_zip_code_short not in zip_code_list:\n",
    "        return None\n",
    "    else:\n",
    "        return hotel_address_zip_code"
   ]
  },
  {
   "cell_type": "markdown",
   "metadata": {},
   "source": [
    "### Import datasets"
   ]
  },
  {
   "cell_type": "code",
   "execution_count": 698,
   "metadata": {},
   "outputs": [],
   "source": [
    "df_hotel_detailed_info_list = pd.read_csv('./datasets/sample0_nys_hotel_detailed_info_list.csv',lineterminator='\\n')\n",
    "df_hotel_detailed_info_list_2 = pd.read_csv('./datasets/sample1_nys_hotel_detailed_info_list.csv',lineterminator='\\n')"
   ]
  },
  {
   "cell_type": "code",
   "execution_count": 699,
   "metadata": {},
   "outputs": [],
   "source": [
    "df_negative_sentences_by_topic_pt = pd.read_csv('./datasets/df_negative_sentences_by_topic_pt.csv',lineterminator='\\n')"
   ]
  },
  {
   "cell_type": "markdown",
   "metadata": {},
   "source": [
    "### Cleaning and pre-processing"
   ]
  },
  {
   "cell_type": "code",
   "execution_count": 700,
   "metadata": {},
   "outputs": [],
   "source": [
    "df_hotel_detailed_info_list.rename(columns={'hotel_room_price\\r': 'hotel_room_price'},inplace=True)\n",
    "df_hotel_detailed_info_list_2.rename(columns={'hotel_room_price\\r': 'hotel_room_price_2','hotel_room_name':'hotel_room_name_2','hotel_room_capacity':'hotel_room_capacity_2'},inplace=True)"
   ]
  },
  {
   "cell_type": "code",
   "execution_count": 701,
   "metadata": {},
   "outputs": [],
   "source": [
    "df_hotel_detailed_info_list = df_hotel_detailed_info_list[~pd.isnull(df_hotel_detailed_info_list['hotel_address'])]\n",
    "df_hotel_detailed_info_list['hotel_address_zip_code'] = df_hotel_detailed_info_list['hotel_address'].apply(extract_zip_code)"
   ]
  },
  {
   "cell_type": "code",
   "execution_count": 702,
   "metadata": {},
   "outputs": [],
   "source": [
    "df_hotel_detailed_info_list['hotel_room_price'] = df_hotel_detailed_info_list['hotel_room_price'].apply(extract_price)\n",
    "df_hotel_detailed_info_list_2['hotel_room_price_2'] = df_hotel_detailed_info_list_2['hotel_room_price_2'].apply(extract_price)"
   ]
  },
  {
   "cell_type": "code",
   "execution_count": 703,
   "metadata": {},
   "outputs": [],
   "source": [
    "df_hotel_detailed_info_list = df_hotel_detailed_info_list.merge(df_hotel_detailed_info_list_2[['hotel_url','hotel_room_price_2','hotel_room_name_2','hotel_room_capacity_2']],on='hotel_url')"
   ]
  },
  {
   "cell_type": "code",
   "execution_count": 704,
   "metadata": {},
   "outputs": [],
   "source": [
    "df_hotel_detailed_info_list['hotel_room_capacity'] = df_hotel_detailed_info_list['hotel_room_capacity'].apply(extract_capacity)\n",
    "df_hotel_detailed_info_list['hotel_room_capacity_2'] = df_hotel_detailed_info_list['hotel_room_capacity_2'].apply(extract_capacity)"
   ]
  },
  {
   "cell_type": "code",
   "execution_count": 705,
   "metadata": {},
   "outputs": [],
   "source": [
    "df_hotel_detailed_info_list['hotel_room_price_per_person'] = df_hotel_detailed_info_list['hotel_room_price']/df_hotel_detailed_info_list['hotel_room_capacity']\n",
    "df_hotel_detailed_info_list['hotel_room_price_per_person_2'] = df_hotel_detailed_info_list['hotel_room_price_2']/df_hotel_detailed_info_list['hotel_room_capacity_2']"
   ]
  },
  {
   "cell_type": "code",
   "execution_count": 706,
   "metadata": {},
   "outputs": [],
   "source": [
    "df_hotel_detailed_info_list['hotel_room_price_per_person_avg'] = df_hotel_detailed_info_list[['hotel_room_price_per_person','hotel_room_price_per_person_2']].mean(axis=1)"
   ]
  },
  {
   "cell_type": "code",
   "execution_count": 707,
   "metadata": {},
   "outputs": [],
   "source": [
    "df_hotel_detailed_info_list = df_hotel_detailed_info_list[~pd.isnull(df_hotel_detailed_info_list['hotel_room_price_per_person_avg'])]"
   ]
  },
  {
   "cell_type": "code",
   "execution_count": 708,
   "metadata": {},
   "outputs": [],
   "source": [
    "df_hotel_detailed_info_list['hotel_chain'] = df_hotel_detailed_info_list['hotel_name'].apply(extract_chain)"
   ]
  },
  {
   "cell_type": "code",
   "execution_count": 709,
   "metadata": {},
   "outputs": [],
   "source": [
    "df_hotel_detailed_info_list['hotel_cleanliness_rating'] = df_hotel_detailed_info_list['hotel_rating_breakdown'].apply(extract_cleanliness_rating)\n",
    "df_hotel_detailed_info_list['hotel_comfort_rating'] = df_hotel_detailed_info_list['hotel_rating_breakdown'].apply(extract_comfort_rating)\n",
    "df_hotel_detailed_info_list['hotel_location_rating'] = df_hotel_detailed_info_list['hotel_rating_breakdown'].apply(extract_location_rating)\n",
    "df_hotel_detailed_info_list['hotel_facilities_rating'] = df_hotel_detailed_info_list['hotel_rating_breakdown'].apply(extract_facilities_rating)\n",
    "df_hotel_detailed_info_list['hotel_staff_rating'] = df_hotel_detailed_info_list['hotel_rating_breakdown'].apply(extract_staff_rating)\n",
    "df_hotel_detailed_info_list['hotel_value_rating'] = df_hotel_detailed_info_list['hotel_rating_breakdown'].apply(extract_value_rating)\n",
    "df_hotel_detailed_info_list['hotel_wifi_rating'] = df_hotel_detailed_info_list['hotel_rating_breakdown'].apply(extract_wifi_rating)"
   ]
  },
  {
   "cell_type": "code",
   "execution_count": 710,
   "metadata": {},
   "outputs": [],
   "source": [
    "hotel_wifi_median = df_hotel_detailed_info_list['hotel_wifi_rating'].median()\n",
    "df_hotel_detailed_info_list['hotel_wifi_rating'].fillna(hotel_wifi_median,inplace=True)"
   ]
  },
  {
   "cell_type": "code",
   "execution_count": 711,
   "metadata": {},
   "outputs": [],
   "source": [
    "df_hotel_detailed_info_list['hotel_stars'] = df_hotel_detailed_info_list['hotel_stars'].apply(extract_hotel_stars)"
   ]
  },
  {
   "cell_type": "code",
   "execution_count": 712,
   "metadata": {},
   "outputs": [],
   "source": [
    "#df_hotel_detailed_info_list['hotel_room_name'] = df_hotel_detailed_info_list['hotel_room_name'].apply(extract_hotel_room_name)"
   ]
  },
  {
   "cell_type": "markdown",
   "metadata": {},
   "source": [
    "### Create copy of dataframe"
   ]
  },
  {
   "cell_type": "code",
   "execution_count": 713,
   "metadata": {},
   "outputs": [],
   "source": [
    "df_hotel_detailed_info_list_filtered = df_hotel_detailed_info_list.copy()"
   ]
  },
  {
   "cell_type": "markdown",
   "metadata": {},
   "source": [
    "### Filter on zip codes"
   ]
  },
  {
   "cell_type": "code",
   "execution_count": 714,
   "metadata": {},
   "outputs": [],
   "source": [
    "#df_hotel_detailed_info_list_filtered['hotel_address_zip_code'] = df_hotel_detailed_info_list_filtered['hotel_address_zip_code'].apply(filter_zip_code)\n",
    "#df_hotel_detailed_info_list_filtered = df_hotel_detailed_info_list_filtered[~pd.isnull(df_hotel_detailed_info_list_filtered['hotel_address_zip_code'])]"
   ]
  },
  {
   "cell_type": "markdown",
   "metadata": {},
   "source": [
    "### Filter on hotel stars"
   ]
  },
  {
   "cell_type": "code",
   "execution_count": 715,
   "metadata": {},
   "outputs": [],
   "source": [
    "#df_hotel_detailed_info_list_filtered = df_hotel_detailed_info_list_filtered[(df_hotel_detailed_info_list_filtered['hotel_stars']==3.0) | (df_hotel_detailed_info_list_filtered['hotel_stars']==4.0)]"
   ]
  },
  {
   "cell_type": "markdown",
   "metadata": {},
   "source": [
    "### Media imputation for hotel stars (if not filtered)"
   ]
  },
  {
   "cell_type": "code",
   "execution_count": 716,
   "metadata": {},
   "outputs": [],
   "source": [
    "hotel_stars_median = df_hotel_detailed_info_list_filtered['hotel_stars'].median()\n",
    "df_hotel_detailed_info_list_filtered['hotel_stars'].fillna(hotel_stars_median,inplace=True)"
   ]
  },
  {
   "cell_type": "markdown",
   "metadata": {},
   "source": [
    "### Filter on price per person column"
   ]
  },
  {
   "cell_type": "code",
   "execution_count": 717,
   "metadata": {},
   "outputs": [],
   "source": [
    "#df_hotel_detailed_info_list_filtered = df_hotel_detailed_info_list_filtered[(df_hotel_detailed_info_list_filtered['hotel_room_price_per_person_avg']<125.0)]"
   ]
  },
  {
   "cell_type": "markdown",
   "metadata": {},
   "source": [
    "### Remove outliers on price per person column"
   ]
  },
  {
   "cell_type": "code",
   "execution_count": 718,
   "metadata": {},
   "outputs": [],
   "source": [
    "#column_for_outliers = df_hotel_detailed_info_list_filtered['hotel_room_price_per_person_avg']\n",
    "#outlier_condition = column_for_outliers.between(column_for_outliers.quantile(.10), column_for_outliers.quantile(.90))"
   ]
  },
  {
   "cell_type": "code",
   "execution_count": 719,
   "metadata": {},
   "outputs": [],
   "source": [
    "#df_hotel_detailed_info_list_filtered = df_hotel_detailed_info_list_filtered[outlier_condition]"
   ]
  },
  {
   "cell_type": "code",
   "execution_count": 720,
   "metadata": {},
   "outputs": [],
   "source": [
    "df_hotel_detailed_info_list_filtered = df_hotel_detailed_info_list_filtered[df_hotel_detailed_info_list_filtered['hotel_name']!='Del Lago Resort & Casino']"
   ]
  },
  {
   "cell_type": "markdown",
   "metadata": {},
   "source": [
    "### Join with topic count dataframe"
   ]
  },
  {
   "cell_type": "code",
   "execution_count": 721,
   "metadata": {},
   "outputs": [],
   "source": [
    "df_hotel_detailed_info_list_filtered_merged = df_hotel_detailed_info_list_filtered.merge(df_negative_sentences_by_topic_pt,on='hotel_url',how='left')"
   ]
  },
  {
   "cell_type": "markdown",
   "metadata": {},
   "source": [
    "### Remove topic=-1 count column (meaning no topic)"
   ]
  },
  {
   "cell_type": "code",
   "execution_count": 722,
   "metadata": {},
   "outputs": [],
   "source": [
    "df_hotel_detailed_info_list_filtered_merged.drop(['-1'],axis=1,inplace=True)"
   ]
  },
  {
   "cell_type": "markdown",
   "metadata": {},
   "source": [
    "### Remove hotels with no topic counts at all"
   ]
  },
  {
   "cell_type": "code",
   "execution_count": 723,
   "metadata": {},
   "outputs": [],
   "source": [
    "df_hotel_detailed_info_list_filtered_merged.dropna(inplace=True)"
   ]
  },
  {
   "cell_type": "code",
   "execution_count": 724,
   "metadata": {},
   "outputs": [
    {
     "data": {
      "text/plain": [
       "1522"
      ]
     },
     "execution_count": 724,
     "metadata": {},
     "output_type": "execute_result"
    }
   ],
   "source": [
    "len(df_hotel_detailed_info_list_filtered_merged)"
   ]
  },
  {
   "cell_type": "markdown",
   "metadata": {},
   "source": [
    "## Modeling"
   ]
  },
  {
   "cell_type": "markdown",
   "metadata": {},
   "source": [
    "### Create features and target"
   ]
  },
  {
   "cell_type": "code",
   "execution_count": 725,
   "metadata": {},
   "outputs": [],
   "source": [
    "#'hotel_cleanliness_rating', 'hotel_comfort_rating','hotel_location_rating', 'hotel_facilities_rating','hotel_staff_rating', 'hotel_value_rating', 'hotel_wifi_rating', hotel_room_name'\n",
    "df_features = df_hotel_detailed_info_list_filtered_merged.drop(['hotel_name','hotel_url','hotel_address','hotel_rating_breakdown','hotel_room_capacity','hotel_room_price','hotel_room_price_per_person','sentences_count','hotel_room_price_2','hotel_room_price_per_person_2','hotel_room_price_per_person_avg','hotel_room_capacity_2','hotel_room_name','hotel_room_name_2'],axis=1)\n",
    "df_target = df_hotel_detailed_info_list_filtered_merged[['hotel_room_price_per_person_avg']]"
   ]
  },
  {
   "cell_type": "markdown",
   "metadata": {},
   "source": [
    "### Standardize numerical features & create dummy variables for categorical features"
   ]
  },
  {
   "cell_type": "code",
   "execution_count": 726,
   "metadata": {},
   "outputs": [],
   "source": [
    "# 'hotel_room_name'\n",
    "categorical_features = ['hotel_address_zip_code','hotel_chain']"
   ]
  },
  {
   "cell_type": "code",
   "execution_count": 727,
   "metadata": {},
   "outputs": [],
   "source": [
    "train_test_scaled_inputs = df_features.copy()\n",
    "train_test_num_features = train_test_scaled_inputs.drop(categorical_features,axis=1)\n",
    "train_test_num_features_col = train_test_num_features.columns.values\n",
    "\n",
    "scaler = StandardScaler()\n",
    "scaler.fit(train_test_num_features.values)\n",
    "\n",
    "train_test_num_features = scaler.transform(train_test_num_features.values)\n",
    "train_test_scaled_inputs[train_test_num_features_col] = train_test_num_features"
   ]
  },
  {
   "cell_type": "code",
   "execution_count": 728,
   "metadata": {},
   "outputs": [],
   "source": [
    "train_test_scaled_inputs = pd.get_dummies(train_test_scaled_inputs,columns=categorical_features,drop_first=True)"
   ]
  },
  {
   "cell_type": "markdown",
   "metadata": {},
   "source": [
    "### Train-validation split"
   ]
  },
  {
   "cell_type": "code",
   "execution_count": 729,
   "metadata": {},
   "outputs": [],
   "source": [
    "# 0.001\n",
    "x_train, x_val, y_train, y_val = train_test_split(train_test_scaled_inputs,df_target, test_size = 0.2, random_state = 42)"
   ]
  },
  {
   "cell_type": "markdown",
   "metadata": {},
   "source": [
    "### Random forest"
   ]
  },
  {
   "cell_type": "code",
   "execution_count": 730,
   "metadata": {},
   "outputs": [
    {
     "data": {
      "text/plain": [
       "RandomForestRegressor(bootstrap=True, ccp_alpha=0.0, criterion='mse',\n",
       "                      max_depth=None, max_features=10, max_leaf_nodes=None,\n",
       "                      max_samples=None, min_impurity_decrease=0.0,\n",
       "                      min_impurity_split=None, min_samples_leaf=1,\n",
       "                      min_samples_split=2, min_weight_fraction_leaf=0.0,\n",
       "                      n_estimators=200, n_jobs=-1, oob_score=False,\n",
       "                      random_state=42, verbose=0, warm_start=False)"
      ]
     },
     "execution_count": 730,
     "metadata": {},
     "output_type": "execute_result"
    }
   ],
   "source": [
    "rf = RandomForestRegressor(n_jobs=-1, random_state = 42, n_estimators=200, max_features=10)\n",
    "rf.fit(x_train,y_train.values.ravel())"
   ]
  },
  {
   "cell_type": "code",
   "execution_count": 731,
   "metadata": {},
   "outputs": [],
   "source": [
    "y_train_rf_pred = rf.predict(x_train)\n",
    "y_val_rf_pred = rf.predict(x_val)"
   ]
  },
  {
   "cell_type": "code",
   "execution_count": 732,
   "metadata": {
    "scrolled": true
   },
   "outputs": [
    {
     "name": "stdout",
     "output_type": "stream",
     "text": [
      "0.938266921138073\n",
      "0.9332734009812416\n",
      "\n",
      "0.6205300425952525\n",
      "0.4584090748777312\n"
     ]
    }
   ],
   "source": [
    "R2_train=rf.score(x_train,y_train)\n",
    "adj_R2_train=1-(1-R2_train)*(x_train.shape[0]-1)/(x_train.shape[0]-x_train.shape[1]-1)\n",
    "\n",
    "R2_val=rf.score(x_val,y_val)\n",
    "adj_R2_val=1-(1-R2_val)*(x_val.shape[0]-1)/(x_val.shape[0]-x_val.shape[1]-1)\n",
    "\n",
    "print(R2_train)\n",
    "print(adj_R2_train)\n",
    "print()\n",
    "print(R2_val)\n",
    "print(adj_R2_val)"
   ]
  },
  {
   "cell_type": "code",
   "execution_count": 733,
   "metadata": {},
   "outputs": [
    {
     "data": {
      "text/html": [
       "<div>\n",
       "<style scoped>\n",
       "    .dataframe tbody tr th:only-of-type {\n",
       "        vertical-align: middle;\n",
       "    }\n",
       "\n",
       "    .dataframe tbody tr th {\n",
       "        vertical-align: top;\n",
       "    }\n",
       "\n",
       "    .dataframe thead th {\n",
       "        text-align: right;\n",
       "    }\n",
       "</style>\n",
       "<table border=\"1\" class=\"dataframe\">\n",
       "  <thead>\n",
       "    <tr style=\"text-align: right;\">\n",
       "      <th></th>\n",
       "      <th>hotel_room_price_per_person_avg</th>\n",
       "    </tr>\n",
       "  </thead>\n",
       "  <tbody>\n",
       "    <tr>\n",
       "      <th>620</th>\n",
       "      <td>50.500000</td>\n",
       "    </tr>\n",
       "    <tr>\n",
       "      <th>1195</th>\n",
       "      <td>40.000000</td>\n",
       "    </tr>\n",
       "    <tr>\n",
       "      <th>1606</th>\n",
       "      <td>62.500000</td>\n",
       "    </tr>\n",
       "    <tr>\n",
       "      <th>1281</th>\n",
       "      <td>76.000000</td>\n",
       "    </tr>\n",
       "    <tr>\n",
       "      <th>1097</th>\n",
       "      <td>47.500000</td>\n",
       "    </tr>\n",
       "    <tr>\n",
       "      <th>472</th>\n",
       "      <td>114.500000</td>\n",
       "    </tr>\n",
       "    <tr>\n",
       "      <th>939</th>\n",
       "      <td>36.000000</td>\n",
       "    </tr>\n",
       "    <tr>\n",
       "      <th>1625</th>\n",
       "      <td>21.666667</td>\n",
       "    </tr>\n",
       "    <tr>\n",
       "      <th>1120</th>\n",
       "      <td>104.500000</td>\n",
       "    </tr>\n",
       "    <tr>\n",
       "      <th>1171</th>\n",
       "      <td>38.000000</td>\n",
       "    </tr>\n",
       "  </tbody>\n",
       "</table>\n",
       "</div>"
      ],
      "text/plain": [
       "      hotel_room_price_per_person_avg\n",
       "620                         50.500000\n",
       "1195                        40.000000\n",
       "1606                        62.500000\n",
       "1281                        76.000000\n",
       "1097                        47.500000\n",
       "472                        114.500000\n",
       "939                         36.000000\n",
       "1625                        21.666667\n",
       "1120                       104.500000\n",
       "1171                        38.000000"
      ]
     },
     "execution_count": 733,
     "metadata": {},
     "output_type": "execute_result"
    }
   ],
   "source": [
    "y_val[:10]"
   ]
  },
  {
   "cell_type": "code",
   "execution_count": 734,
   "metadata": {
    "scrolled": true
   },
   "outputs": [
    {
     "data": {
      "text/plain": [
       "array([74.29895833, 59.205     , 45.76958333, 76.39083333, 77.55958333,\n",
       "       74.87083333, 49.19875   , 46.06166667, 94.25125   , 67.08291667])"
      ]
     },
     "execution_count": 734,
     "metadata": {},
     "output_type": "execute_result"
    }
   ],
   "source": [
    "y_val_rf_pred[:10]"
   ]
  },
  {
   "cell_type": "code",
   "execution_count": 735,
   "metadata": {},
   "outputs": [
    {
     "data": {
      "image/png": "[encoded data removed]",
      "text/plain": [
       "<Figure size 432x432 with 1 Axes>"
      ]
     },
     "metadata": {
      "needs_background": "light"
     },
     "output_type": "display_data"
    }
   ],
   "source": [
    "plt.figure(figsize=(6,6))\n",
    "plt.scatter(y_val, y_val_rf_pred, 10, marker='.', c='r')\n",
    "plt.xlabel('Targets',size=14)\n",
    "plt.ylabel('Predictions',size=14)\n",
    "#plt.xlim(19.1,23.5)\n",
    "#plt.ylim(19.1,23.5)\n",
    "#_ = plt.plot([19.1,23.5],[19.1,23.5])\n",
    "plt.show()"
   ]
  },
  {
   "cell_type": "markdown",
   "metadata": {},
   "source": [
    "### Linear regression"
   ]
  },
  {
   "cell_type": "code",
   "execution_count": 736,
   "metadata": {},
   "outputs": [
    {
     "data": {
      "text/plain": [
       "Ridge(alpha=1.0, copy_X=True, fit_intercept=True, max_iter=None,\n",
       "      normalize=False, random_state=None, solver='auto', tol=0.001)"
      ]
     },
     "execution_count": 736,
     "metadata": {},
     "output_type": "execute_result"
    }
   ],
   "source": [
    "reg = Ridge()\n",
    "reg.fit(x_train,y_train)"
   ]
  },
  {
   "cell_type": "code",
   "execution_count": 737,
   "metadata": {},
   "outputs": [],
   "source": [
    "y_train_reg_pred = reg.predict(x_train)\n",
    "y_val_reg_pred = reg.predict(x_val)"
   ]
  },
  {
   "cell_type": "code",
   "execution_count": 738,
   "metadata": {},
   "outputs": [
    {
     "name": "stdout",
     "output_type": "stream",
     "text": [
      "0.6019079347189099\n",
      "0.5697067098828396\n",
      "\n",
      "0.6288673568823717\n",
      "0.4703083403391596\n"
     ]
    }
   ],
   "source": [
    "R2_train=reg.score(x_train,y_train)\n",
    "adj_R2_train=1-(1-R2_train)*(x_train.shape[0]-1)/(x_train.shape[0]-x_train.shape[1]-1)\n",
    "\n",
    "R2_val=reg.score(x_val,y_val)\n",
    "adj_R2_val=1-(1-R2_val)*(x_val.shape[0]-1)/(x_val.shape[0]-x_val.shape[1]-1)\n",
    "\n",
    "print(R2_train)\n",
    "print(adj_R2_train)\n",
    "print()\n",
    "print(R2_val)\n",
    "print(adj_R2_val)"
   ]
  },
  {
   "cell_type": "code",
   "execution_count": 739,
   "metadata": {},
   "outputs": [
    {
     "name": "stdout",
     "output_type": "stream",
     "text": [
      "intercept =  [117.81264119]\n"
     ]
    },
    {
     "data": {
      "text/html": [
       "<div>\n",
       "<style scoped>\n",
       "    .dataframe tbody tr th:only-of-type {\n",
       "        vertical-align: middle;\n",
       "    }\n",
       "\n",
       "    .dataframe tbody tr th {\n",
       "        vertical-align: top;\n",
       "    }\n",
       "\n",
       "    .dataframe thead th {\n",
       "        text-align: right;\n",
       "    }\n",
       "</style>\n",
       "<table border=\"1\" class=\"dataframe\">\n",
       "  <thead>\n",
       "    <tr style=\"text-align: right;\">\n",
       "      <th></th>\n",
       "      <th>Features</th>\n",
       "      <th>Weights</th>\n",
       "    </tr>\n",
       "  </thead>\n",
       "  <tbody>\n",
       "    <tr>\n",
       "      <th>0</th>\n",
       "      <td>hotel_stars</td>\n",
       "      <td>16.966393</td>\n",
       "    </tr>\n",
       "    <tr>\n",
       "      <th>1</th>\n",
       "      <td>hotel_overall_rating</td>\n",
       "      <td>13.401370</td>\n",
       "    </tr>\n",
       "    <tr>\n",
       "      <th>2</th>\n",
       "      <td>hotel_cleanliness_rating</td>\n",
       "      <td>2.126681</td>\n",
       "    </tr>\n",
       "    <tr>\n",
       "      <th>3</th>\n",
       "      <td>hotel_comfort_rating</td>\n",
       "      <td>41.388035</td>\n",
       "    </tr>\n",
       "    <tr>\n",
       "      <th>4</th>\n",
       "      <td>hotel_location_rating</td>\n",
       "      <td>11.391574</td>\n",
       "    </tr>\n",
       "    <tr>\n",
       "      <th>5</th>\n",
       "      <td>hotel_facilities_rating</td>\n",
       "      <td>-5.995728</td>\n",
       "    </tr>\n",
       "    <tr>\n",
       "      <th>6</th>\n",
       "      <td>hotel_staff_rating</td>\n",
       "      <td>2.001494</td>\n",
       "    </tr>\n",
       "    <tr>\n",
       "      <th>7</th>\n",
       "      <td>hotel_value_rating</td>\n",
       "      <td>-49.516498</td>\n",
       "    </tr>\n",
       "    <tr>\n",
       "      <th>8</th>\n",
       "      <td>hotel_wifi_rating</td>\n",
       "      <td>-1.887977</td>\n",
       "    </tr>\n",
       "    <tr>\n",
       "      <th>9</th>\n",
       "      <td>0</td>\n",
       "      <td>-3.387622</td>\n",
       "    </tr>\n",
       "    <tr>\n",
       "      <th>10</th>\n",
       "      <td>1</td>\n",
       "      <td>-0.166935</td>\n",
       "    </tr>\n",
       "    <tr>\n",
       "      <th>11</th>\n",
       "      <td>2</td>\n",
       "      <td>-3.059558</td>\n",
       "    </tr>\n",
       "    <tr>\n",
       "      <th>12</th>\n",
       "      <td>3</td>\n",
       "      <td>-3.570396</td>\n",
       "    </tr>\n",
       "    <tr>\n",
       "      <th>13</th>\n",
       "      <td>4</td>\n",
       "      <td>-2.499812</td>\n",
       "    </tr>\n",
       "    <tr>\n",
       "      <th>14</th>\n",
       "      <td>5</td>\n",
       "      <td>2.447942</td>\n",
       "    </tr>\n",
       "    <tr>\n",
       "      <th>15</th>\n",
       "      <td>6</td>\n",
       "      <td>-2.610445</td>\n",
       "    </tr>\n",
       "    <tr>\n",
       "      <th>16</th>\n",
       "      <td>7</td>\n",
       "      <td>-0.225074</td>\n",
       "    </tr>\n",
       "    <tr>\n",
       "      <th>17</th>\n",
       "      <td>8</td>\n",
       "      <td>-0.255765</td>\n",
       "    </tr>\n",
       "    <tr>\n",
       "      <th>18</th>\n",
       "      <td>9</td>\n",
       "      <td>-3.864658</td>\n",
       "    </tr>\n",
       "    <tr>\n",
       "      <th>19</th>\n",
       "      <td>10</td>\n",
       "      <td>-6.189733</td>\n",
       "    </tr>\n",
       "    <tr>\n",
       "      <th>20</th>\n",
       "      <td>11</td>\n",
       "      <td>-0.627800</td>\n",
       "    </tr>\n",
       "    <tr>\n",
       "      <th>21</th>\n",
       "      <td>12</td>\n",
       "      <td>-3.023630</td>\n",
       "    </tr>\n",
       "    <tr>\n",
       "      <th>22</th>\n",
       "      <td>hotel_address_zip_code_101</td>\n",
       "      <td>0.033595</td>\n",
       "    </tr>\n",
       "  </tbody>\n",
       "</table>\n",
       "</div>"
      ],
      "text/plain": [
       "                      Features    Weights\n",
       "0                  hotel_stars  16.966393\n",
       "1         hotel_overall_rating  13.401370\n",
       "2     hotel_cleanliness_rating   2.126681\n",
       "3         hotel_comfort_rating  41.388035\n",
       "4        hotel_location_rating  11.391574\n",
       "5      hotel_facilities_rating  -5.995728\n",
       "6           hotel_staff_rating   2.001494\n",
       "7           hotel_value_rating -49.516498\n",
       "8            hotel_wifi_rating  -1.887977\n",
       "9                            0  -3.387622\n",
       "10                           1  -0.166935\n",
       "11                           2  -3.059558\n",
       "12                           3  -3.570396\n",
       "13                           4  -2.499812\n",
       "14                           5   2.447942\n",
       "15                           6  -2.610445\n",
       "16                           7  -0.225074\n",
       "17                           8  -0.255765\n",
       "18                           9  -3.864658\n",
       "19                          10  -6.189733\n",
       "20                          11  -0.627800\n",
       "21                          12  -3.023630\n",
       "22  hotel_address_zip_code_101   0.033595"
      ]
     },
     "execution_count": 739,
     "metadata": {},
     "output_type": "execute_result"
    }
   ],
   "source": [
    "# get intercept\n",
    "const=reg.intercept_\n",
    "print ('intercept = ',const)\n",
    "\n",
    "# get weights\n",
    "reg_summary = pd.DataFrame(train_test_scaled_inputs.columns.values, columns=['Features'])\n",
    "reg_summary['Weights'] = reg.coef_[0]\n",
    "reg_summary.loc[0:22]"
   ]
  },
  {
   "cell_type": "code",
   "execution_count": 740,
   "metadata": {},
   "outputs": [
    {
     "data": {
      "text/html": [
       "<div>\n",
       "<style scoped>\n",
       "    .dataframe tbody tr th:only-of-type {\n",
       "        vertical-align: middle;\n",
       "    }\n",
       "\n",
       "    .dataframe tbody tr th {\n",
       "        vertical-align: top;\n",
       "    }\n",
       "\n",
       "    .dataframe thead th {\n",
       "        text-align: right;\n",
       "    }\n",
       "</style>\n",
       "<table border=\"1\" class=\"dataframe\">\n",
       "  <thead>\n",
       "    <tr style=\"text-align: right;\">\n",
       "      <th></th>\n",
       "      <th>hotel_room_price_per_person_avg</th>\n",
       "    </tr>\n",
       "  </thead>\n",
       "  <tbody>\n",
       "    <tr>\n",
       "      <th>1185</th>\n",
       "      <td>72.00</td>\n",
       "    </tr>\n",
       "    <tr>\n",
       "      <th>139</th>\n",
       "      <td>53.00</td>\n",
       "    </tr>\n",
       "    <tr>\n",
       "      <th>56</th>\n",
       "      <td>61.50</td>\n",
       "    </tr>\n",
       "    <tr>\n",
       "      <th>1545</th>\n",
       "      <td>38.00</td>\n",
       "    </tr>\n",
       "    <tr>\n",
       "      <th>84</th>\n",
       "      <td>372.50</td>\n",
       "    </tr>\n",
       "    <tr>\n",
       "      <th>157</th>\n",
       "      <td>74.50</td>\n",
       "    </tr>\n",
       "    <tr>\n",
       "      <th>1050</th>\n",
       "      <td>23.25</td>\n",
       "    </tr>\n",
       "    <tr>\n",
       "      <th>514</th>\n",
       "      <td>60.50</td>\n",
       "    </tr>\n",
       "    <tr>\n",
       "      <th>27</th>\n",
       "      <td>72.00</td>\n",
       "    </tr>\n",
       "    <tr>\n",
       "      <th>108</th>\n",
       "      <td>63.25</td>\n",
       "    </tr>\n",
       "  </tbody>\n",
       "</table>\n",
       "</div>"
      ],
      "text/plain": [
       "      hotel_room_price_per_person_avg\n",
       "1185                            72.00\n",
       "139                             53.00\n",
       "56                              61.50\n",
       "1545                            38.00\n",
       "84                             372.50\n",
       "157                             74.50\n",
       "1050                            23.25\n",
       "514                             60.50\n",
       "27                              72.00\n",
       "108                             63.25"
      ]
     },
     "execution_count": 740,
     "metadata": {},
     "output_type": "execute_result"
    }
   ],
   "source": [
    "y_val[50:60]"
   ]
  },
  {
   "cell_type": "code",
   "execution_count": 741,
   "metadata": {},
   "outputs": [
    {
     "data": {
      "text/plain": [
       "array([[ 84.81910551],\n",
       "       [ 75.13110319],\n",
       "       [ 82.90307767],\n",
       "       [ 43.42701429],\n",
       "       [228.62101086],\n",
       "       [ 49.49796215],\n",
       "       [ 37.85912251],\n",
       "       [ 47.25753804],\n",
       "       [121.12301303],\n",
       "       [ 68.88347792]])"
      ]
     },
     "execution_count": 741,
     "metadata": {},
     "output_type": "execute_result"
    }
   ],
   "source": [
    "y_val_reg_pred[50:60]"
   ]
  },
  {
   "cell_type": "code",
   "execution_count": 744,
   "metadata": {},
   "outputs": [
    {
     "data": {
      "image/png": "[encoded data removed]",
      "text/plain": [
       "<Figure size 432x432 with 1 Axes>"
      ]
     },
     "metadata": {
      "needs_background": "light"
     },
     "output_type": "display_data"
    }
   ],
   "source": [
    "plt.figure(figsize=(6,6))\n",
    "plt.scatter(y_val, y_val_reg_pred, 10, marker='.', c='r')\n",
    "plt.xlabel('Targets',size=14)\n",
    "plt.ylabel('Predictions',size=14)\n",
    "plt.xlim(0.0,300.0)\n",
    "plt.ylim(0.0,300.0)\n",
    "_ = plt.plot([0.0,300.0],[0.0,300.0])\n",
    "plt.show()"
   ]
  },
  {
   "cell_type": "markdown",
   "metadata": {},
   "source": [
    "## Predictions by varing parameters"
   ]
  },
  {
   "cell_type": "code",
   "execution_count": 325,
   "metadata": {},
   "outputs": [],
   "source": [
    "input_datapoint = df_hotel_detailed_info_list_filtered_merged.iloc[[100]]\n",
    "input_datapoint.reset_index(drop=True,inplace=True)"
   ]
  },
  {
   "cell_type": "code",
   "execution_count": 326,
   "metadata": {},
   "outputs": [
    {
     "data": {
      "text/html": [
       "<div>\n",
       "<style scoped>\n",
       "    .dataframe tbody tr th:only-of-type {\n",
       "        vertical-align: middle;\n",
       "    }\n",
       "\n",
       "    .dataframe tbody tr th {\n",
       "        vertical-align: top;\n",
       "    }\n",
       "\n",
       "    .dataframe thead th {\n",
       "        text-align: right;\n",
       "    }\n",
       "</style>\n",
       "<table border=\"1\" class=\"dataframe\">\n",
       "  <thead>\n",
       "    <tr style=\"text-align: right;\">\n",
       "      <th></th>\n",
       "      <th>hotel_name</th>\n",
       "      <th>hotel_url</th>\n",
       "      <th>hotel_stars</th>\n",
       "      <th>hotel_address</th>\n",
       "      <th>hotel_overall_rating</th>\n",
       "      <th>hotel_rating_breakdown</th>\n",
       "      <th>hotel_room_name</th>\n",
       "      <th>hotel_room_capacity</th>\n",
       "      <th>hotel_room_price</th>\n",
       "      <th>hotel_address_zip_code</th>\n",
       "      <th>...</th>\n",
       "      <th>4</th>\n",
       "      <th>5</th>\n",
       "      <th>6</th>\n",
       "      <th>7</th>\n",
       "      <th>8</th>\n",
       "      <th>9</th>\n",
       "      <th>10</th>\n",
       "      <th>11</th>\n",
       "      <th>12</th>\n",
       "      <th>sentences_count</th>\n",
       "    </tr>\n",
       "  </thead>\n",
       "  <tbody>\n",
       "    <tr>\n",
       "      <th>0</th>\n",
       "      <td>Tea Island Resort</td>\n",
       "      <td>lake-george-3020-lake-shore-drive-tea-island-r...</td>\n",
       "      <td>3.0</td>\n",
       "      <td>3020 Lake Shore Drive, Lake George, NY 12845, ...</td>\n",
       "      <td>9.1</td>\n",
       "      <td>[['Cleanliness', '9.2'], ['Comfort', '9.0'], [...</td>\n",
       "      <td>Studio with King Bed &amp; Full Kitchen</td>\n",
       "      <td>2</td>\n",
       "      <td>109.0</td>\n",
       "      <td>128</td>\n",
       "      <td>...</td>\n",
       "      <td>0.018868</td>\n",
       "      <td>0.0</td>\n",
       "      <td>0.09434</td>\n",
       "      <td>0.018868</td>\n",
       "      <td>0.09434</td>\n",
       "      <td>0.0</td>\n",
       "      <td>0.056604</td>\n",
       "      <td>0.226415</td>\n",
       "      <td>0.037736</td>\n",
       "      <td>53.0</td>\n",
       "    </tr>\n",
       "  </tbody>\n",
       "</table>\n",
       "<p>1 rows × 33 columns</p>\n",
       "</div>"
      ],
      "text/plain": [
       "          hotel_name                                          hotel_url  \\\n",
       "0  Tea Island Resort  lake-george-3020-lake-shore-drive-tea-island-r...   \n",
       "\n",
       "   hotel_stars                                      hotel_address  \\\n",
       "0          3.0  3020 Lake Shore Drive, Lake George, NY 12845, ...   \n",
       "\n",
       "   hotel_overall_rating                             hotel_rating_breakdown  \\\n",
       "0                   9.1  [['Cleanliness', '9.2'], ['Comfort', '9.0'], [...   \n",
       "\n",
       "                       hotel_room_name  hotel_room_capacity  hotel_room_price  \\\n",
       "0  Studio with King Bed & Full Kitchen                    2             109.0   \n",
       "\n",
       "  hotel_address_zip_code  ...         4    5        6         7        8    9  \\\n",
       "0                    128  ...  0.018868  0.0  0.09434  0.018868  0.09434  0.0   \n",
       "\n",
       "         10        11        12  sentences_count  \n",
       "0  0.056604  0.226415  0.037736             53.0  \n",
       "\n",
       "[1 rows x 33 columns]"
      ]
     },
     "execution_count": 326,
     "metadata": {},
     "output_type": "execute_result"
    }
   ],
   "source": [
    "input_datapoint"
   ]
  },
  {
   "cell_type": "markdown",
   "metadata": {},
   "source": [
    "### Modify some columns"
   ]
  },
  {
   "cell_type": "code",
   "execution_count": 327,
   "metadata": {},
   "outputs": [],
   "source": [
    "#input_datapoint.at[0,'hotel_stars'] += 1.0\n",
    "input_datapoint.at[0,'11'] = 0.00\n",
    "input_datapoint.at[0,'6'] = 0.00"
   ]
  },
  {
   "cell_type": "markdown",
   "metadata": {},
   "source": [
    "### Scale and create dummy columns"
   ]
  },
  {
   "cell_type": "code",
   "execution_count": 328,
   "metadata": {},
   "outputs": [],
   "source": [
    "input_features = input_datapoint.drop(['hotel_name','hotel_url','hotel_address','hotel_rating_breakdown','hotel_room_name','hotel_room_capacity','hotel_room_price','hotel_room_price_per_person','sentences_count'],axis=1)\n",
    "input_target = input_datapoint[['hotel_room_price_per_person']]\n",
    "\n",
    "scaled_input = input_features.copy()\n",
    "input_num_features = scaled_input.drop(categorical_features,axis=1)\n",
    "input_num_features_col = input_num_features.columns.values\n",
    "input_num_features = scaler.transform(input_num_features.values)\n",
    "scaled_input[input_num_features_col] = input_num_features\n",
    "\n",
    "scaled_input = scaled_input.reindex(columns = train_test_scaled_inputs.columns, fill_value=0)\n",
    "for cat in categorical_features:\n",
    "    dummy_cat = cat+'_'+str(input_features[cat].values[0])\n",
    "    if dummy_cat in scaled_input.columns:\n",
    "        scaled_input.iloc[0, scaled_input.columns.get_loc(dummy_cat)] = 1"
   ]
  },
  {
   "cell_type": "markdown",
   "metadata": {},
   "source": [
    "### Get new prediction"
   ]
  },
  {
   "cell_type": "code",
   "execution_count": 329,
   "metadata": {},
   "outputs": [],
   "source": [
    "input_rf_pred = reg.predict(scaled_input)"
   ]
  },
  {
   "cell_type": "code",
   "execution_count": 330,
   "metadata": {},
   "outputs": [
    {
     "data": {
      "text/plain": [
       "array([[67.78493607]])"
      ]
     },
     "execution_count": 330,
     "metadata": {},
     "output_type": "execute_result"
    }
   ],
   "source": [
    "#### new prediction #####\n",
    "input_rf_pred"
   ]
  },
  {
   "cell_type": "code",
   "execution_count": 331,
   "metadata": {
    "scrolled": true
   },
   "outputs": [
    {
     "data": {
      "text/plain": [
       "array([[61.0618499]])"
      ]
     },
     "execution_count": 331,
     "metadata": {},
     "output_type": "execute_result"
    }
   ],
   "source": [
    "#### old prediction #####\n",
    "reg.predict(x_train.loc[[100]])"
   ]
  },
  {
   "cell_type": "code",
   "execution_count": 332,
   "metadata": {},
   "outputs": [
    {
     "data": {
      "text/html": [
       "<div>\n",
       "<style scoped>\n",
       "    .dataframe tbody tr th:only-of-type {\n",
       "        vertical-align: middle;\n",
       "    }\n",
       "\n",
       "    .dataframe tbody tr th {\n",
       "        vertical-align: top;\n",
       "    }\n",
       "\n",
       "    .dataframe thead th {\n",
       "        text-align: right;\n",
       "    }\n",
       "</style>\n",
       "<table border=\"1\" class=\"dataframe\">\n",
       "  <thead>\n",
       "    <tr style=\"text-align: right;\">\n",
       "      <th></th>\n",
       "      <th>hotel_room_price_per_person</th>\n",
       "    </tr>\n",
       "  </thead>\n",
       "  <tbody>\n",
       "    <tr>\n",
       "      <th>100</th>\n",
       "      <td>54.5</td>\n",
       "    </tr>\n",
       "  </tbody>\n",
       "</table>\n",
       "</div>"
      ],
      "text/plain": [
       "     hotel_room_price_per_person\n",
       "100                         54.5"
      ]
     },
     "execution_count": 332,
     "metadata": {},
     "output_type": "execute_result"
    }
   ],
   "source": [
    "#### truth #####\n",
    "y_train.loc[[100]]"
   ]
  },
  {
   "cell_type": "code",
   "execution_count": null,
   "metadata": {},
   "outputs": [],
   "source": []
  }
 ],
 "metadata": {
  "kernelspec": {
   "display_name": "Python 3",
   "language": "python",
   "name": "python3"
  },
  "language_info": {
   "codemirror_mode": {
    "name": "ipython",
    "version": 3
   },
   "file_extension": ".py",
   "mimetype": "text/x-python",
   "name": "python",
   "nbconvert_exporter": "python",
   "pygments_lexer": "ipython3",
   "version": "3.8.1"
  }
 },
 "nbformat": 4,
 "nbformat_minor": 4
}
