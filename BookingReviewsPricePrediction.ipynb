{
 "cells": [
  {
   "cell_type": "markdown",
   "metadata": {},
   "source": [
    "### Import libraries"
   ]
  },
  {
   "cell_type": "code",
   "execution_count": 1,
   "metadata": {},
   "outputs": [],
   "source": [
    "import pandas as pd\n",
    "import numpy as np\n",
    "import matplotlib.pyplot as plt\n",
    "import seaborn as sns\n",
    "import csv\n",
    "from sklearn.linear_model import LinearRegression,Lasso,Ridge,SGDRegressor\n",
    "from sklearn.model_selection import train_test_split\n",
    "from sklearn.preprocessing import StandardScaler\n",
    "from sklearn.metrics import r2_score,mean_squared_error\n",
    "from sklearn.ensemble import RandomForestRegressor\n",
    "import pickle"
   ]
  },
  {
   "cell_type": "markdown",
   "metadata": {},
   "source": [
    "### Define useful functions"
   ]
  },
  {
   "cell_type": "code",
   "execution_count": 2,
   "metadata": {},
   "outputs": [],
   "source": [
    "def extract_zip_code(hotel_address):\n",
    "    address_tmp = hotel_address.split(',')[-2].strip(' ').split(' ')[-1][:3]\n",
    "    if address_tmp == 'NY1':\n",
    "        return hotel_address.split(',')[-2].strip(' ').split(' ')[-1][2:5]\n",
    "    else:\n",
    "        return address_tmp\n",
    "\n",
    "def extract_zip_code_5dig(hotel_address):\n",
    "    address_tmp = hotel_address.split(',')[-2].strip(' ').split(' ')[-1][:5]\n",
    "    if address_tmp == 'NY1':\n",
    "        return hotel_address.split(',')[-2].strip(' ').split(' ')[-1][2:7]\n",
    "    else:\n",
    "        return address_tmp\n",
    "    \n",
    "def extract_price(hotel_room_price):\n",
    "    room_price_tmp = hotel_room_price.strip('\\r').strip('US$')\n",
    "    if room_price_tmp == '':\n",
    "        return None\n",
    "    else:\n",
    "        room_price_tmp = room_price_tmp.replace(',' , '')\n",
    "        return float(room_price_tmp)\n",
    "    \n",
    "def extract_capacity(hotel_room_capacity):\n",
    "    if pd.isnull(hotel_room_capacity):\n",
    "        return None\n",
    "    else:\n",
    "        return int(hotel_room_capacity[-1])\n",
    "\n",
    "def extract_chain(hotel_name):\n",
    "    hotel_name_lower=hotel_name.lower()\n",
    "    if 'doubletree by hilton' in hotel_name_lower:\n",
    "        return 'Doubletree Hilton'\n",
    "    elif 'homewood suites by hilton' in hotel_name_lower:\n",
    "        return 'Homewood Suites Hilton'\n",
    "    elif 'hilton garden' in hotel_name_lower:\n",
    "        return 'Hilton Garden'\n",
    "    elif 'home2' in hotel_name_lower:\n",
    "        return 'Home2 Hilton'\n",
    "    elif 'tru' in hotel_name_lower:\n",
    "        return 'Tru Hilton'\n",
    "    elif 'hilton' in hotel_name_lower:\n",
    "        return 'Hilton'\n",
    "    \n",
    "    elif 'courtyard by marriott' in hotel_name_lower:\n",
    "        return 'Courtyard Marriott'\n",
    "    elif 'fairfield inn' in hotel_name_lower:\n",
    "        return 'Fairfield Inn Marriott'\n",
    "    elif 'residence inn by marriott' in hotel_name_lower:\n",
    "        return 'Residence Inn Marriott'\n",
    "    elif 'marriott' in hotel_name_lower:\n",
    "        return 'Marriott'\n",
    "    \n",
    "    elif 'hyatt' in hotel_name_lower:\n",
    "        return 'Hyatt'\n",
    "    elif 'wyndham' in hotel_name_lower:\n",
    "        return 'Wyndham'\n",
    "    elif 'embassy' in hotel_name_lower:\n",
    "        return 'Embassy'\n",
    "    elif 'sheraton' in hotel_name_lower:\n",
    "        return 'Sheraton'\n",
    "    elif 'radisson' in hotel_name_lower:\n",
    "        return 'Radisson'\n",
    "    elif 'best western' in hotel_name_lower:\n",
    "        return 'Best Western'\n",
    "    elif 'hampton' in hotel_name_lower:\n",
    "        return 'Hampton'\n",
    "    elif 'holiday inn' in hotel_name_lower:\n",
    "        return 'Holiday Inn'\n",
    "    elif 'westin' in hotel_name_lower:\n",
    "        return 'Westin'\n",
    "    elif 'red roof' in hotel_name_lower:\n",
    "        return 'Red Roof'\n",
    "    else:\n",
    "        return 'No chain'\n",
    "\n",
    "def extract_hotel_room_name(hotel_room_name):\n",
    "    hotel_room_name_lower=str(hotel_room_name).lower()\n",
    "    if 'king' in hotel_room_name_lower:\n",
    "        return 'King'\n",
    "    elif 'queen' in hotel_room_name_lower:\n",
    "        return 'Queen'\n",
    "    elif 'double' in hotel_room_name_lower:\n",
    "        return 'Double'\n",
    "    elif 'dormitory' in hotel_room_name_lower:\n",
    "        return 'Dorm'\n",
    "    else:\n",
    "        return 'Other'\n",
    "       \n",
    "def extract_hotel_stars(hotel_stars):\n",
    "    if hotel_stars in ['1 stars', '1-star hotel']:\n",
    "        return 1.0\n",
    "    elif hotel_stars in ['1.5 stars', '1.5 star hotel']:\n",
    "        return 1.5\n",
    "    elif hotel_stars in ['2 stars', '2-star hotel']:\n",
    "        return 2.0\n",
    "    elif hotel_stars in ['2.5 stars', '2.5 star hotel']:\n",
    "        return 2.5\n",
    "    elif hotel_stars in ['3 stars', '3-star hotel']:\n",
    "        return 3.0\n",
    "    elif hotel_stars in ['3.5 stars', '3.5 star hotel']:\n",
    "        return 3.5\n",
    "    elif hotel_stars in ['4 stars', '4-star hotel']:\n",
    "        return 4.0\n",
    "    elif hotel_stars in ['4.5 stars', '4.5 star hotel']:\n",
    "        return 4.5\n",
    "    elif hotel_stars in ['5 stars', '5-star hotel']:\n",
    "        return 5.0\n",
    "    else:\n",
    "        return None\n",
    "    \n",
    "def extract_cleanliness_rating(hotel_rating_breakdown):\n",
    "    item_tmp = hotel_rating_breakdown.strip('[]').split('], [')[0]\n",
    "    if item_tmp.split(',')[0]==\"'Cleanliness'\":\n",
    "        return float(item_tmp.split(',')[1].strip(' ').strip(\"''\"))\n",
    "    else:\n",
    "        return None\n",
    "    \n",
    "def extract_comfort_rating(hotel_rating_breakdown):\n",
    "    item_tmp = hotel_rating_breakdown.strip('[]').split('], [')[1]\n",
    "    if item_tmp.split(',')[0]==\"'Comfort'\":\n",
    "        return float(item_tmp.split(',')[1].strip(' ').strip(\"''\"))\n",
    "    else:\n",
    "        return None\n",
    "    \n",
    "def extract_location_rating(hotel_rating_breakdown):\n",
    "    item_tmp = hotel_rating_breakdown.strip('[]').split('], [')[2]\n",
    "    if item_tmp.split(',')[0]==\"'Location'\":\n",
    "        return float(item_tmp.split(',')[1].strip(' ').strip(\"''\"))\n",
    "    else:\n",
    "        return None\n",
    "    \n",
    "def extract_facilities_rating(hotel_rating_breakdown):\n",
    "    item_tmp = hotel_rating_breakdown.strip('[]').split('], [')[3]\n",
    "    if item_tmp.split(',')[0]==\"'Facilities'\":\n",
    "        return float(item_tmp.split(',')[1].strip(' ').strip(\"''\"))\n",
    "    else:\n",
    "        return None\n",
    "    \n",
    "def extract_staff_rating(hotel_rating_breakdown):\n",
    "    item_tmp = hotel_rating_breakdown.strip('[]').split('], [')[4]\n",
    "    if item_tmp.split(',')[0]==\"'Staff'\":\n",
    "        return float(item_tmp.split(',')[1].strip(' ').strip(\"''\"))\n",
    "    else:\n",
    "        return None\n",
    "    \n",
    "def extract_value_rating(hotel_rating_breakdown):\n",
    "    item_tmp = hotel_rating_breakdown.strip('[]').split('], [')[5]\n",
    "    if item_tmp.split(',')[0]==\"'Value for money'\":\n",
    "        return float(item_tmp.split(',')[1].strip(' ').strip(\"''\"))\n",
    "    else:\n",
    "        return None\n",
    "    \n",
    "def extract_wifi_rating(hotel_rating_breakdown):\n",
    "    item_tmp = hotel_rating_breakdown.strip('[]').split('], [')\n",
    "    if len(item_tmp)<7:\n",
    "        return None\n",
    "    elif item_tmp[6].split(',')[0]==\"'Free WiFi'\":\n",
    "        return float(item_tmp[6].split(',')[1].strip(' ').strip(\"''\"))\n",
    "    else:\n",
    "        return None\n",
    "    \n",
    "def filter_zip_code(hotel_address_zip_code):\n",
    "    hotel_address_zip_code_short = hotel_address_zip_code[:3]\n",
    "    zip_code_list = ['100','101','102','103','104','107','110','111','112','113','114','116']\n",
    "    if hotel_address_zip_code_short not in zip_code_list:\n",
    "        return None\n",
    "    else:\n",
    "        return hotel_address_zip_code"
   ]
  },
  {
   "cell_type": "markdown",
   "metadata": {},
   "source": [
    "### Import datasets"
   ]
  },
  {
   "cell_type": "code",
   "execution_count": 185,
   "metadata": {},
   "outputs": [],
   "source": [
    "df_hotel_detailed_info_list = pd.read_csv('./datasets/sample0_nys_hotel_detailed_info_list.csv',lineterminator='\\n')\n",
    "df_hotel_detailed_info_list_2 = pd.read_csv('./datasets/sample1_nys_hotel_detailed_info_list.csv',lineterminator='\\n')\n",
    "df_hotel_detailed_info_list_3 = pd.read_csv('./datasets/sample2_nys_hotel_detailed_info_list.csv',lineterminator='\\n')"
   ]
  },
  {
   "cell_type": "code",
   "execution_count": 186,
   "metadata": {},
   "outputs": [],
   "source": [
    "df_negative_sentences_by_topic_pt = pd.read_csv('./datasets/df_negative_sentences_by_topic_pt.csv',lineterminator='\\n')\n",
    "df_positive_sentences_by_topic_pt = pd.read_csv('./datasets/df_positive_sentences_by_topic_pt.csv',lineterminator='\\n')"
   ]
  },
  {
   "cell_type": "markdown",
   "metadata": {},
   "source": [
    "### Cleaning and pre-processing"
   ]
  },
  {
   "cell_type": "code",
   "execution_count": 187,
   "metadata": {},
   "outputs": [],
   "source": [
    "df_hotel_detailed_info_list.rename(columns={'hotel_room_price\\r': 'hotel_room_price'},inplace=True)\n",
    "df_hotel_detailed_info_list_2.rename(columns={'hotel_room_price\\r': 'hotel_room_price_2','hotel_room_name':'hotel_room_name_2','hotel_room_capacity':'hotel_room_capacity_2'},inplace=True)\n",
    "df_hotel_detailed_info_list_3.rename(columns={'hotel_room_price\\r': 'hotel_room_price_3','hotel_room_name':'hotel_room_name_3','hotel_room_capacity':'hotel_room_capacity_3'},inplace=True)"
   ]
  },
  {
   "cell_type": "code",
   "execution_count": 188,
   "metadata": {},
   "outputs": [],
   "source": [
    "df_hotel_detailed_info_list = df_hotel_detailed_info_list[~pd.isnull(df_hotel_detailed_info_list['hotel_address'])]\n",
    "df_hotel_detailed_info_list['hotel_address_zip_code'] = df_hotel_detailed_info_list['hotel_address'].apply(extract_zip_code)\n",
    "df_hotel_detailed_info_list['hotel_address_zip_code_5dig'] = df_hotel_detailed_info_list['hotel_address'].apply(extract_zip_code_5dig)"
   ]
  },
  {
   "cell_type": "code",
   "execution_count": 189,
   "metadata": {},
   "outputs": [],
   "source": [
    "df_hotel_detailed_info_list['hotel_room_price'] = df_hotel_detailed_info_list['hotel_room_price'].apply(extract_price)\n",
    "df_hotel_detailed_info_list_2['hotel_room_price_2'] = df_hotel_detailed_info_list_2['hotel_room_price_2'].apply(extract_price)\n",
    "df_hotel_detailed_info_list_3['hotel_room_price_3'] = df_hotel_detailed_info_list_3['hotel_room_price_3'].apply(extract_price)"
   ]
  },
  {
   "cell_type": "code",
   "execution_count": 190,
   "metadata": {},
   "outputs": [],
   "source": [
    "df_hotel_detailed_info_list = df_hotel_detailed_info_list.merge(df_hotel_detailed_info_list_2[['hotel_url','hotel_room_price_2','hotel_room_name_2','hotel_room_capacity_2']],on='hotel_url')\n",
    "df_hotel_detailed_info_list = df_hotel_detailed_info_list.merge(df_hotel_detailed_info_list_3[['hotel_url','hotel_room_price_3','hotel_room_name_3','hotel_room_capacity_3']],on='hotel_url')"
   ]
  },
  {
   "cell_type": "code",
   "execution_count": 191,
   "metadata": {},
   "outputs": [],
   "source": [
    "df_hotel_detailed_info_list['hotel_room_capacity'] = df_hotel_detailed_info_list['hotel_room_capacity'].apply(extract_capacity)\n",
    "df_hotel_detailed_info_list['hotel_room_capacity_2'] = df_hotel_detailed_info_list['hotel_room_capacity_2'].apply(extract_capacity)\n",
    "df_hotel_detailed_info_list['hotel_room_capacity_3'] = df_hotel_detailed_info_list['hotel_room_capacity_3'].apply(extract_capacity)"
   ]
  },
  {
   "cell_type": "code",
   "execution_count": 192,
   "metadata": {},
   "outputs": [],
   "source": [
    "df_hotel_detailed_info_list['hotel_room_price_per_person'] = df_hotel_detailed_info_list['hotel_room_price']/df_hotel_detailed_info_list['hotel_room_capacity']\n",
    "df_hotel_detailed_info_list['hotel_room_price_per_person_2'] = df_hotel_detailed_info_list['hotel_room_price_2']/df_hotel_detailed_info_list['hotel_room_capacity_2']\n",
    "df_hotel_detailed_info_list['hotel_room_price_per_person_3'] = df_hotel_detailed_info_list['hotel_room_price_3']/df_hotel_detailed_info_list['hotel_room_capacity_3']"
   ]
  },
  {
   "cell_type": "code",
   "execution_count": 193,
   "metadata": {},
   "outputs": [],
   "source": [
    "df_hotel_detailed_info_list = df_hotel_detailed_info_list[~pd.isnull(df_hotel_detailed_info_list[['hotel_room_price_per_person','hotel_room_price_per_person_2','hotel_room_price_per_person_3']]).any(axis=1)]"
   ]
  },
  {
   "cell_type": "code",
   "execution_count": 194,
   "metadata": {},
   "outputs": [],
   "source": [
    "df_hotel_detailed_info_list['hotel_room_price_per_person_avg'] = df_hotel_detailed_info_list[['hotel_room_price_per_person','hotel_room_price_per_person_2','hotel_room_price_per_person_3']].mean(axis=1)"
   ]
  },
  {
   "cell_type": "code",
   "execution_count": 195,
   "metadata": {},
   "outputs": [],
   "source": [
    "df_hotel_detailed_info_list = df_hotel_detailed_info_list[~pd.isnull(df_hotel_detailed_info_list['hotel_room_price_per_person_avg'])]"
   ]
  },
  {
   "cell_type": "code",
   "execution_count": 196,
   "metadata": {},
   "outputs": [],
   "source": [
    "df_hotel_detailed_info_list['hotel_chain'] = df_hotel_detailed_info_list['hotel_name'].apply(extract_chain)"
   ]
  },
  {
   "cell_type": "code",
   "execution_count": 197,
   "metadata": {},
   "outputs": [],
   "source": [
    "df_hotel_detailed_info_list['hotel_cleanliness_rating'] = df_hotel_detailed_info_list['hotel_rating_breakdown'].apply(extract_cleanliness_rating)\n",
    "df_hotel_detailed_info_list['hotel_comfort_rating'] = df_hotel_detailed_info_list['hotel_rating_breakdown'].apply(extract_comfort_rating)\n",
    "df_hotel_detailed_info_list['hotel_location_rating'] = df_hotel_detailed_info_list['hotel_rating_breakdown'].apply(extract_location_rating)\n",
    "df_hotel_detailed_info_list['hotel_facilities_rating'] = df_hotel_detailed_info_list['hotel_rating_breakdown'].apply(extract_facilities_rating)\n",
    "df_hotel_detailed_info_list['hotel_staff_rating'] = df_hotel_detailed_info_list['hotel_rating_breakdown'].apply(extract_staff_rating)\n",
    "df_hotel_detailed_info_list['hotel_value_rating'] = df_hotel_detailed_info_list['hotel_rating_breakdown'].apply(extract_value_rating)\n",
    "df_hotel_detailed_info_list['hotel_wifi_rating'] = df_hotel_detailed_info_list['hotel_rating_breakdown'].apply(extract_wifi_rating)"
   ]
  },
  {
   "cell_type": "code",
   "execution_count": 198,
   "metadata": {},
   "outputs": [],
   "source": [
    "hotel_wifi_median = df_hotel_detailed_info_list['hotel_wifi_rating'].median()\n",
    "df_hotel_detailed_info_list['hotel_wifi_rating'].fillna(hotel_wifi_median,inplace=True)"
   ]
  },
  {
   "cell_type": "code",
   "execution_count": 199,
   "metadata": {},
   "outputs": [],
   "source": [
    "df_hotel_detailed_info_list['hotel_stars'] = df_hotel_detailed_info_list['hotel_stars'].apply(extract_hotel_stars)"
   ]
  },
  {
   "cell_type": "code",
   "execution_count": 200,
   "metadata": {},
   "outputs": [],
   "source": [
    "#df_hotel_detailed_info_list['hotel_room_name'] = df_hotel_detailed_info_list['hotel_room_name'].apply(extract_hotel_room_name)"
   ]
  },
  {
   "cell_type": "markdown",
   "metadata": {},
   "source": [
    "### Create copy of dataframe"
   ]
  },
  {
   "cell_type": "code",
   "execution_count": 294,
   "metadata": {},
   "outputs": [],
   "source": [
    "df_hotel_detailed_info_list_filtered = df_hotel_detailed_info_list.copy()"
   ]
  },
  {
   "cell_type": "markdown",
   "metadata": {},
   "source": [
    "### Filter on zip codes"
   ]
  },
  {
   "cell_type": "code",
   "execution_count": 295,
   "metadata": {},
   "outputs": [],
   "source": [
    "#df_hotel_detailed_info_list_filtered['hotel_address_zip_code'] = df_hotel_detailed_info_list_filtered['hotel_address_zip_code'].apply(filter_zip_code)\n",
    "#df_hotel_detailed_info_list_filtered = df_hotel_detailed_info_list_filtered[~pd.isnull(df_hotel_detailed_info_list_filtered['hotel_address_zip_code'])]"
   ]
  },
  {
   "cell_type": "markdown",
   "metadata": {},
   "source": [
    "### Filter on hotel stars"
   ]
  },
  {
   "cell_type": "code",
   "execution_count": 296,
   "metadata": {},
   "outputs": [],
   "source": [
    "#df_hotel_detailed_info_list_filtered = df_hotel_detailed_info_list_filtered[(df_hotel_detailed_info_list_filtered['hotel_stars']==3.0) | (df_hotel_detailed_info_list_filtered['hotel_stars']==4.0)]"
   ]
  },
  {
   "cell_type": "markdown",
   "metadata": {},
   "source": [
    "### Media imputation for hotel stars (if not filtered)"
   ]
  },
  {
   "cell_type": "code",
   "execution_count": 297,
   "metadata": {},
   "outputs": [],
   "source": [
    "#hotel_stars_median = df_hotel_detailed_info_list_filtered['hotel_stars'].median()\n",
    "#df_hotel_detailed_info_list_filtered['hotel_stars'].fillna(hotel_stars_median,inplace=True)"
   ]
  },
  {
   "cell_type": "markdown",
   "metadata": {},
   "source": [
    "### Remove hotels without stars"
   ]
  },
  {
   "cell_type": "code",
   "execution_count": 298,
   "metadata": {},
   "outputs": [],
   "source": [
    "df_hotel_detailed_info_list_filtered = df_hotel_detailed_info_list_filtered[~pd.isnull(df_hotel_detailed_info_list_filtered['hotel_stars'])]"
   ]
  },
  {
   "cell_type": "markdown",
   "metadata": {},
   "source": [
    "### Filter on price per person column"
   ]
  },
  {
   "cell_type": "code",
   "execution_count": 299,
   "metadata": {},
   "outputs": [],
   "source": [
    "#df_hotel_detailed_info_list_filtered = df_hotel_detailed_info_list_filtered[(df_hotel_detailed_info_list_filtered['hotel_room_price_per_person_avg']>40.0) & (df_hotel_detailed_info_list_filtered['hotel_room_price_per_person_avg']<120.0)]"
   ]
  },
  {
   "cell_type": "markdown",
   "metadata": {},
   "source": [
    "### Remove outliers on price per person column"
   ]
  },
  {
   "cell_type": "code",
   "execution_count": 300,
   "metadata": {},
   "outputs": [],
   "source": [
    "#column_for_outliers = df_hotel_detailed_info_list_filtered['hotel_room_price_per_person_avg']\n",
    "#outlier_condition = column_for_outliers.between(column_for_outliers.quantile(.05), column_for_outliers.quantile(.90))"
   ]
  },
  {
   "cell_type": "code",
   "execution_count": 301,
   "metadata": {},
   "outputs": [],
   "source": [
    "#df_hotel_detailed_info_list_filtered = df_hotel_detailed_info_list_filtered[outlier_condition]"
   ]
  },
  {
   "cell_type": "code",
   "execution_count": 302,
   "metadata": {},
   "outputs": [],
   "source": [
    "df_hotel_detailed_info_list_filtered = df_hotel_detailed_info_list_filtered[df_hotel_detailed_info_list_filtered['hotel_name']!='Del Lago Resort & Casino']"
   ]
  },
  {
   "cell_type": "markdown",
   "metadata": {},
   "source": [
    "### Standardize price per person by stars and location"
   ]
  },
  {
   "cell_type": "code",
   "execution_count": 303,
   "metadata": {},
   "outputs": [],
   "source": [
    "df_hotel_detailed_info_list_filtered['hotel_room_price_per_person_avg_grouped_mean'] = df_hotel_detailed_info_list_filtered.groupby(['hotel_stars','hotel_address_zip_code_5dig']).transform('mean')['hotel_room_price_per_person_avg']\n",
    "df_hotel_detailed_info_list_filtered['hotel_room_price_per_person_avg_grouped_std'] = df_hotel_detailed_info_list_filtered.groupby(['hotel_stars','hotel_address_zip_code_5dig']).transform('std')['hotel_room_price_per_person_avg']"
   ]
  },
  {
   "cell_type": "code",
   "execution_count": 304,
   "metadata": {},
   "outputs": [],
   "source": [
    "df_hotel_detailed_info_list_filtered = df_hotel_detailed_info_list_filtered[~pd.isnull(df_hotel_detailed_info_list_filtered['hotel_room_price_per_person_avg_grouped_std'])]"
   ]
  },
  {
   "cell_type": "code",
   "execution_count": 305,
   "metadata": {},
   "outputs": [],
   "source": [
    "df_hotel_detailed_info_list_filtered['hotel_room_price_per_person_norm'] = df_hotel_detailed_info_list_filtered['hotel_room_price_per_person_avg']-df_hotel_detailed_info_list_filtered['hotel_room_price_per_person_avg_grouped_mean']\n",
    "df_hotel_detailed_info_list_filtered['hotel_room_price_per_person_norm'] = df_hotel_detailed_info_list_filtered['hotel_room_price_per_person_norm'].div(df_hotel_detailed_info_list_filtered['hotel_room_price_per_person_avg_grouped_std'], axis=0)"
   ]
  },
  {
   "cell_type": "code",
   "execution_count": 306,
   "metadata": {},
   "outputs": [],
   "source": [
    "df_hotel_detailed_info_list_filtered['hotel_room_price_per_person_pc_change'] = df_hotel_detailed_info_list_filtered['hotel_room_price_per_person_avg']-df_hotel_detailed_info_list_filtered['hotel_room_price_per_person_avg_grouped_mean']\n",
    "df_hotel_detailed_info_list_filtered['hotel_room_price_per_person_pc_change'] = df_hotel_detailed_info_list_filtered['hotel_room_price_per_person_pc_change'].div(df_hotel_detailed_info_list_filtered['hotel_room_price_per_person_avg'], axis=0)"
   ]
  },
  {
   "cell_type": "code",
   "execution_count": 307,
   "metadata": {},
   "outputs": [],
   "source": [
    "df_hotel_detailed_info_list_filtered = df_hotel_detailed_info_list_filtered[abs(df_hotel_detailed_info_list_filtered['hotel_room_price_per_person_pc_change'])<0.30]"
   ]
  },
  {
   "cell_type": "code",
   "execution_count": 308,
   "metadata": {},
   "outputs": [],
   "source": [
    "#df_hotel_detailed_info_list_filtered = df_hotel_detailed_info_list_filtered[abs(df_hotel_detailed_info_list_filtered['hotel_room_price_per_person_norm'])<1.1]"
   ]
  },
  {
   "cell_type": "code",
   "execution_count": 309,
   "metadata": {},
   "outputs": [
    {
     "data": {
      "text/plain": [
       "815"
      ]
     },
     "execution_count": 309,
     "metadata": {},
     "output_type": "execute_result"
    }
   ],
   "source": [
    "len(df_hotel_detailed_info_list_filtered)"
   ]
  },
  {
   "cell_type": "code",
   "execution_count": null,
   "metadata": {},
   "outputs": [],
   "source": []
  },
  {
   "cell_type": "code",
   "execution_count": 3004,
   "metadata": {},
   "outputs": [
    {
     "data": {
      "image/png": "[encoded data removed]",
      "text/plain": [
       "<Figure size 432x288 with 1 Axes>"
      ]
     },
     "metadata": {
      "needs_background": "light"
     },
     "output_type": "display_data"
    }
   ],
   "source": [
    "bins = np.linspace(-1, 1, 30)\n",
    "plt.hist(df_hotel_detailed_info_list_filtered['hotel_room_price_per_person_pc_change'],bins)\n",
    "plt.show()"
   ]
  },
  {
   "cell_type": "code",
   "execution_count": null,
   "metadata": {},
   "outputs": [],
   "source": []
  },
  {
   "cell_type": "code",
   "execution_count": null,
   "metadata": {},
   "outputs": [],
   "source": []
  },
  {
   "cell_type": "code",
   "execution_count": null,
   "metadata": {},
   "outputs": [],
   "source": []
  },
  {
   "cell_type": "code",
   "execution_count": 2584,
   "metadata": {},
   "outputs": [
    {
     "data": {
      "image/png": "[encoded data removed]",
      "text/plain": [
       "<Figure size 432x288 with 1 Axes>"
      ]
     },
     "metadata": {
      "needs_background": "light"
     },
     "output_type": "display_data"
    }
   ],
   "source": [
    "bins = np.linspace(-1, 1, 30)\n",
    "plt.hist(prova_below['hotel_room_price_per_person_pc_change'], bins, alpha=0.5, label='below')\n",
    "plt.hist(prova_above['hotel_room_price_per_person_pc_change'], bins, alpha=0.5, label='above')\n",
    "plt.legend()\n",
    "plt.show()"
   ]
  },
  {
   "cell_type": "code",
   "execution_count": null,
   "metadata": {},
   "outputs": [],
   "source": []
  },
  {
   "cell_type": "markdown",
   "metadata": {},
   "source": [
    "### Join with topic count dataframe"
   ]
  },
  {
   "cell_type": "code",
   "execution_count": 310,
   "metadata": {},
   "outputs": [],
   "source": [
    "neg_columns_to_rename = {'-1':'-1_neg','0':'0_neg','1':'1_neg','2':'2_neg','3':'3_neg','4':'4_neg','5':'5_neg',\n",
    "                         '6':'6_neg','7':'7_neg',\n",
    "                         #'8':'8_neg','9':'9_neg','10':'10_neg',\n",
    "                         #'11':'11_neg','12':'12_neg',\n",
    "                         '-1_pc':'-1_pc_neg','0_pc':'0_pc_neg','1_pc':'1_pc_neg','2_pc':'2_pc_neg',\n",
    "                         '3_pc':'3_pc_neg','4_pc':'4_pc_neg','5_pc':'5_pc_neg',\n",
    "                         '6_pc':'6_pc_neg','7_pc':'7_pc_neg',\n",
    "                         #'8_pc':'8_pc_neg','9_pc':'9_pc_neg','10_pc':'10_pc_neg',\n",
    "                         #'11_pc':'11_pc_neg','12_pc':'12_pc_neg',\n",
    "                         'sentences_count':'sentences_count_neg'}\n",
    "\n",
    "pos_columns_to_rename = {'-1':'-1_pos','0':'0_pos','1':'1_pos','2':'2_pos','3':'3_pos','4':'4_pos','5':'5_pos',\n",
    "                         '6':'6_pos','7':'7_pos',\n",
    "                         #'8':'8_pos','9':'9_pos','10':'10_pos',\n",
    "                         #'11':'11_pos','12':'12_pos',\n",
    "                         '-1_pc':'-1_pc_pos','0_pc':'0_pc_pos','1_pc':'1_pc_pos','2_pc':'2_pc_pos',\n",
    "                         '3_pc':'3_pc_pos','4_pc':'4_pc_pos','5_pc':'5_pc_pos',\n",
    "                         '6_pc':'6_pc_pos','7_pc':'7_pc_pos',\n",
    "                         #'8_pc':'8_pc_pos','9_pc':'9_pc_pos','10_pc':'10_pc_pos',\n",
    "                         #'11_pc':'11_pc_pos','12_pc':'12_pc_pos',\n",
    "                         'sentences_count':'sentences_count_pos'}"
   ]
  },
  {
   "cell_type": "code",
   "execution_count": 311,
   "metadata": {},
   "outputs": [],
   "source": [
    "df_negative_sentences_by_topic_pt.rename(columns=neg_columns_to_rename,inplace=True)\n",
    "df_positive_sentences_by_topic_pt.rename(columns=pos_columns_to_rename,inplace=True)"
   ]
  },
  {
   "cell_type": "code",
   "execution_count": 312,
   "metadata": {},
   "outputs": [],
   "source": [
    "df_hotel_detailed_info_list_filtered_merged = df_hotel_detailed_info_list_filtered.merge(df_negative_sentences_by_topic_pt,on='hotel_url')\n",
    "df_hotel_detailed_info_list_filtered_merged = df_hotel_detailed_info_list_filtered_merged.merge(df_positive_sentences_by_topic_pt,on='hotel_url')"
   ]
  },
  {
   "cell_type": "markdown",
   "metadata": {},
   "source": [
    "### Remove hotels with zero topic counts across all topics"
   ]
  },
  {
   "cell_type": "code",
   "execution_count": 313,
   "metadata": {},
   "outputs": [],
   "source": [
    "# ,'8_neg','9_neg','10_neg','11_neg','12_neg'\n",
    "df_hotel_detailed_info_list_filtered_merged = df_hotel_detailed_info_list_filtered_merged[~(df_hotel_detailed_info_list_filtered_merged[['0_neg','1_neg','2_neg','3_neg','4_neg','5_neg','6_neg','7_neg']]==0.0).all(axis=1)]\n",
    "# ,'8_pos','9_pos','10_pos','11_pos','12_pos'\n",
    "df_hotel_detailed_info_list_filtered_merged = df_hotel_detailed_info_list_filtered_merged[~(df_hotel_detailed_info_list_filtered_merged[['0_pos','1_pos','2_pos','3_pos','4_pos','5_pos','6_pos','7_pos']]==0.0).all(axis=1)]"
   ]
  },
  {
   "cell_type": "code",
   "execution_count": 314,
   "metadata": {},
   "outputs": [
    {
     "data": {
      "text/plain": [
       "815"
      ]
     },
     "execution_count": 314,
     "metadata": {},
     "output_type": "execute_result"
    }
   ],
   "source": [
    "len(df_hotel_detailed_info_list_filtered_merged)"
   ]
  },
  {
   "cell_type": "markdown",
   "metadata": {},
   "source": [
    "### Multiply topic counts by 100 (make them explicit percentages)"
   ]
  },
  {
   "cell_type": "code",
   "execution_count": 315,
   "metadata": {},
   "outputs": [],
   "source": [
    "# ,'8_pc_neg','9_pc_neg','10_pc_neg','11_pc_neg','12_pc_neg'\n",
    "features_list3 = ['0_pc_neg','1_pc_neg','2_pc_neg','3_pc_neg','4_pc_neg','5_pc_neg','6_pc_neg','7_pc_neg']\n",
    "# ,'8_pc_pos','9_pc_pos','10_pc_pos','11_pc_pos','12_pc_pos'\n",
    "features_list4 = ['0_pc_pos','1_pc_pos','2_pc_pos','3_pc_pos','4_pc_pos','5_pc_pos','6_pc_pos','7_pc_pos']\n",
    "topic_features_list = features_list3+features_list4"
   ]
  },
  {
   "cell_type": "code",
   "execution_count": 316,
   "metadata": {},
   "outputs": [],
   "source": [
    "df_hotel_detailed_info_list_filtered_merged[topic_features_list] = 100*df_hotel_detailed_info_list_filtered_merged[topic_features_list]"
   ]
  },
  {
   "cell_type": "markdown",
   "metadata": {},
   "source": [
    "### Print out complete dataset to csv"
   ]
  },
  {
   "cell_type": "code",
   "execution_count": 337,
   "metadata": {},
   "outputs": [],
   "source": [
    "df_hotel_detailed_info_list_filtered_merged.to_csv('./datasets/input_app/df_hotels.csv',index=False)"
   ]
  },
  {
   "cell_type": "markdown",
   "metadata": {},
   "source": [
    "## Modeling"
   ]
  },
  {
   "cell_type": "markdown",
   "metadata": {},
   "source": [
    "### Create features and target"
   ]
  },
  {
   "cell_type": "code",
   "execution_count": 225,
   "metadata": {},
   "outputs": [],
   "source": [
    "# features_list1 = ['hotel_stars','hotel_overall_rating','hotel_address_zip_code_5dig','hotel_chain']\n",
    "# features_list2 = ['hotel_cleanliness_rating','hotel_comfort_rating','hotel_location_rating','hotel_facilities_rating','hotel_staff_rating','hotel_value_rating','hotel_wifi_rating']\n",
    "# features_complete_list = features_list1+features_list2+features_list3#+features_list4\n",
    "\n",
    "# df_features = prova_below[features_complete_list]\n",
    "# df_target = prova_below[['hotel_room_price_per_person_avg']]"
   ]
  },
  {
   "cell_type": "code",
   "execution_count": 317,
   "metadata": {},
   "outputs": [],
   "source": [
    "features_list1 = ['hotel_stars','hotel_overall_rating','hotel_address_zip_code_5dig','hotel_chain']\n",
    "features_list2 = ['hotel_cleanliness_rating','hotel_comfort_rating','hotel_location_rating','hotel_facilities_rating','hotel_staff_rating','hotel_value_rating','hotel_wifi_rating']\n",
    "features_complete_list = features_list1+features_list2+features_list3#+features_list4\n",
    "\n",
    "df_features = df_hotel_detailed_info_list_filtered_merged[features_complete_list]\n",
    "df_target = df_hotel_detailed_info_list_filtered_merged[['hotel_room_price_per_person_avg']]"
   ]
  },
  {
   "cell_type": "code",
   "execution_count": 338,
   "metadata": {},
   "outputs": [
    {
     "data": {
      "text/plain": [
       "Index(['hotel_stars', 'hotel_overall_rating', 'hotel_address_zip_code_5dig',\n",
       "       'hotel_chain', 'hotel_cleanliness_rating', 'hotel_comfort_rating',\n",
       "       'hotel_location_rating', 'hotel_facilities_rating',\n",
       "       'hotel_staff_rating', 'hotel_value_rating', 'hotel_wifi_rating',\n",
       "       '0_pc_neg', '1_pc_neg', '2_pc_neg', '3_pc_neg', '4_pc_neg', '5_pc_neg',\n",
       "       '6_pc_neg', '7_pc_neg'],\n",
       "      dtype='object')"
      ]
     },
     "execution_count": 338,
     "metadata": {},
     "output_type": "execute_result"
    }
   ],
   "source": [
    "df_features.columns"
   ]
  },
  {
   "cell_type": "markdown",
   "metadata": {},
   "source": [
    "### Standardize numerical features & create dummy variables for categorical features"
   ]
  },
  {
   "cell_type": "code",
   "execution_count": 318,
   "metadata": {},
   "outputs": [],
   "source": [
    "categorical_features = ['hotel_address_zip_code_5dig','hotel_chain']"
   ]
  },
  {
   "cell_type": "code",
   "execution_count": 319,
   "metadata": {},
   "outputs": [],
   "source": [
    "train_test_scaled_inputs = df_features.copy()\n",
    "\n",
    "#train_test_num_features = train_test_scaled_inputs.drop(categorical_features,axis=1)\n",
    "#no_scaling_features = features_list3#+features_list4\n",
    "#train_test_num_scaled_features = train_test_num_features.drop(no_scaling_features,axis=1)\n",
    "#train_test_num_scaled_features_col = train_test_num_scaled_features.columns.values\n",
    "#scaler = StandardScaler()\n",
    "#scaler.fit(train_test_num_scaled_features.values)\n",
    "#train_test_num_scaled_features = scaler.transform(train_test_num_scaled_features.values)\n",
    "#train_test_scaled_inputs[train_test_num_scaled_features_col] = train_test_num_scaled_features"
   ]
  },
  {
   "cell_type": "code",
   "execution_count": 320,
   "metadata": {},
   "outputs": [],
   "source": [
    "train_test_scaled_inputs = pd.get_dummies(train_test_scaled_inputs,columns=categorical_features,drop_first=True)"
   ]
  },
  {
   "cell_type": "markdown",
   "metadata": {},
   "source": [
    "### Train-validation split"
   ]
  },
  {
   "cell_type": "code",
   "execution_count": 344,
   "metadata": {},
   "outputs": [],
   "source": [
    "# 0.001\n",
    "x_train, x_val, y_train, y_val = train_test_split(train_test_scaled_inputs,df_target, test_size = 0.001, random_state = 42)"
   ]
  },
  {
   "cell_type": "markdown",
   "metadata": {},
   "source": [
    "### Random forest"
   ]
  },
  {
   "cell_type": "code",
   "execution_count": 288,
   "metadata": {},
   "outputs": [],
   "source": [
    "# rf = RandomForestRegressor(n_jobs=-1, random_state = 42, n_estimators=200, max_features=10)\n",
    "# rf.fit(x_train,y_train.values.ravel())"
   ]
  },
  {
   "cell_type": "code",
   "execution_count": 170,
   "metadata": {},
   "outputs": [],
   "source": [
    "# y_train_rf_pred = rf.predict(x_train)\n",
    "# y_val_rf_pred = rf.predict(x_val)"
   ]
  },
  {
   "cell_type": "code",
   "execution_count": 171,
   "metadata": {
    "scrolled": true
   },
   "outputs": [],
   "source": [
    "# R2_train=rf.score(x_train,y_train)\n",
    "# adj_R2_train=1-(1-R2_train)*(x_train.shape[0]-1)/(x_train.shape[0]-x_train.shape[1]-1)\n",
    "\n",
    "# R2_val=rf.score(x_val,y_val)\n",
    "# adj_R2_val=1-(1-R2_val)*(x_val.shape[0]-1)/(x_val.shape[0]-x_val.shape[1]-1)\n",
    "\n",
    "# print(R2_train)\n",
    "# print(adj_R2_train)\n",
    "# print()\n",
    "# print(R2_val)\n",
    "# print(adj_R2_val)"
   ]
  },
  {
   "cell_type": "code",
   "execution_count": 172,
   "metadata": {},
   "outputs": [],
   "source": [
    "# y_val[:10]"
   ]
  },
  {
   "cell_type": "code",
   "execution_count": 173,
   "metadata": {
    "scrolled": true
   },
   "outputs": [],
   "source": [
    "# y_val_rf_pred[:10]"
   ]
  },
  {
   "cell_type": "code",
   "execution_count": 174,
   "metadata": {},
   "outputs": [],
   "source": [
    "# plt.figure(figsize=(6,6))\n",
    "# plt.scatter(y_val, y_val_rf_pred, 10, marker='.', c='r')\n",
    "# plt.xlabel('Targets',size=14)\n",
    "# plt.ylabel('Predictions',size=14)\n",
    "# #plt.xlim(19.1,23.5)\n",
    "# #plt.ylim(19.1,23.5)\n",
    "# #_ = plt.plot([19.1,23.5],[19.1,23.5])\n",
    "# plt.show()"
   ]
  },
  {
   "cell_type": "markdown",
   "metadata": {},
   "source": [
    "### Linear regression"
   ]
  },
  {
   "cell_type": "code",
   "execution_count": 345,
   "metadata": {
    "scrolled": true
   },
   "outputs": [
    {
     "data": {
      "text/plain": [
       "LinearRegression(copy_X=True, fit_intercept=True, n_jobs=None, normalize=False)"
      ]
     },
     "execution_count": 345,
     "metadata": {},
     "output_type": "execute_result"
    }
   ],
   "source": [
    "reg = LinearRegression()\n",
    "reg.fit(x_train,y_train)"
   ]
  },
  {
   "cell_type": "code",
   "execution_count": 346,
   "metadata": {},
   "outputs": [],
   "source": [
    "#reg = SGDRegressor(penalty='elasticnet',l1_ratio=0.15,alpha=0.0001)\n",
    "#reg.fit(x_train,y_train['hotel_room_price_per_person_avg'].ravel())"
   ]
  },
  {
   "cell_type": "code",
   "execution_count": 347,
   "metadata": {},
   "outputs": [],
   "source": [
    "y_train_reg_pred = reg.predict(x_train)\n",
    "y_val_reg_pred = reg.predict(x_val)"
   ]
  },
  {
   "cell_type": "code",
   "execution_count": 348,
   "metadata": {},
   "outputs": [
    {
     "name": "stdout",
     "output_type": "stream",
     "text": [
      "0.7908314535608447\n",
      "0.7198450934842945\n",
      "\n",
      "nan\n",
      "nan\n"
     ]
    },
    {
     "name": "stderr",
     "output_type": "stream",
     "text": [
      "/home/roberto/anaconda3/envs/insight/lib/python3.8/site-packages/sklearn/metrics/_regression.py:582: UndefinedMetricWarning: R^2 score is not well-defined with less than two samples.\n",
      "  warnings.warn(msg, UndefinedMetricWarning)\n"
     ]
    }
   ],
   "source": [
    "R2_train=reg.score(x_train,y_train)\n",
    "adj_R2_train=1-(1-R2_train)*(x_train.shape[0]-1)/(x_train.shape[0]-x_train.shape[1]-1)\n",
    "\n",
    "R2_val=reg.score(x_val,y_val)\n",
    "adj_R2_val=1-(1-R2_val)*(x_val.shape[0]-1)/(x_val.shape[0]-x_val.shape[1]-1)\n",
    "\n",
    "print(R2_train)\n",
    "print(adj_R2_train)\n",
    "print()\n",
    "print(R2_val)\n",
    "print(adj_R2_val)"
   ]
  },
  {
   "cell_type": "code",
   "execution_count": 326,
   "metadata": {},
   "outputs": [],
   "source": [
    "#y_train_medium_class = y_train[(y_train['hotel_room_price_per_person_avg']>50.0) & ((y_train['hotel_room_price_per_person_avg']<150.0))]\n",
    "#medium_class_indexes = np.array(y_train_medium_class.index)\n",
    "#x_train_medium_class = x_train.loc[medium_class_indexes]"
   ]
  },
  {
   "cell_type": "code",
   "execution_count": 327,
   "metadata": {},
   "outputs": [],
   "source": [
    "#R2_train_mc=reg.score(x_train_medium_class,y_train_medium_class)\n",
    "#adj_R2_train_mc=1-(1-R2_train_mc)*(x_train_medium_class.shape[0]-1)/(x_train_medium_class.shape[0]-x_train_medium_class.shape[1]-1)\n",
    "\n",
    "#print(R2_train_mc)\n",
    "#print(adj_R2_train_mc)"
   ]
  },
  {
   "cell_type": "code",
   "execution_count": 335,
   "metadata": {},
   "outputs": [
    {
     "name": "stdout",
     "output_type": "stream",
     "text": [
      "intercept =  [42.34465868]\n"
     ]
    },
    {
     "data": {
      "text/html": [
       "<div>\n",
       "<style scoped>\n",
       "    .dataframe tbody tr th:only-of-type {\n",
       "        vertical-align: middle;\n",
       "    }\n",
       "\n",
       "    .dataframe tbody tr th {\n",
       "        vertical-align: top;\n",
       "    }\n",
       "\n",
       "    .dataframe thead th {\n",
       "        text-align: right;\n",
       "    }\n",
       "</style>\n",
       "<table border=\"1\" class=\"dataframe\">\n",
       "  <thead>\n",
       "    <tr style=\"text-align: right;\">\n",
       "      <th></th>\n",
       "      <th>Features</th>\n",
       "      <th>Weights</th>\n",
       "    </tr>\n",
       "  </thead>\n",
       "  <tbody>\n",
       "    <tr>\n",
       "      <th>0</th>\n",
       "      <td>hotel_stars</td>\n",
       "      <td>28.167453</td>\n",
       "    </tr>\n",
       "    <tr>\n",
       "      <th>1</th>\n",
       "      <td>hotel_overall_rating</td>\n",
       "      <td>-6.919809</td>\n",
       "    </tr>\n",
       "    <tr>\n",
       "      <th>2</th>\n",
       "      <td>hotel_cleanliness_rating</td>\n",
       "      <td>-15.422782</td>\n",
       "    </tr>\n",
       "    <tr>\n",
       "      <th>3</th>\n",
       "      <td>hotel_comfort_rating</td>\n",
       "      <td>25.378550</td>\n",
       "    </tr>\n",
       "    <tr>\n",
       "      <th>4</th>\n",
       "      <td>hotel_location_rating</td>\n",
       "      <td>1.160950</td>\n",
       "    </tr>\n",
       "    <tr>\n",
       "      <th>5</th>\n",
       "      <td>hotel_facilities_rating</td>\n",
       "      <td>19.200354</td>\n",
       "    </tr>\n",
       "    <tr>\n",
       "      <th>6</th>\n",
       "      <td>hotel_staff_rating</td>\n",
       "      <td>7.456110</td>\n",
       "    </tr>\n",
       "    <tr>\n",
       "      <th>7</th>\n",
       "      <td>hotel_value_rating</td>\n",
       "      <td>-30.000029</td>\n",
       "    </tr>\n",
       "    <tr>\n",
       "      <th>8</th>\n",
       "      <td>hotel_wifi_rating</td>\n",
       "      <td>0.882673</td>\n",
       "    </tr>\n",
       "    <tr>\n",
       "      <th>9</th>\n",
       "      <td>0_pc_neg</td>\n",
       "      <td>-0.375179</td>\n",
       "    </tr>\n",
       "    <tr>\n",
       "      <th>10</th>\n",
       "      <td>1_pc_neg</td>\n",
       "      <td>-0.536960</td>\n",
       "    </tr>\n",
       "    <tr>\n",
       "      <th>11</th>\n",
       "      <td>2_pc_neg</td>\n",
       "      <td>-0.444283</td>\n",
       "    </tr>\n",
       "    <tr>\n",
       "      <th>12</th>\n",
       "      <td>3_pc_neg</td>\n",
       "      <td>-0.622251</td>\n",
       "    </tr>\n",
       "    <tr>\n",
       "      <th>13</th>\n",
       "      <td>4_pc_neg</td>\n",
       "      <td>-0.284494</td>\n",
       "    </tr>\n",
       "    <tr>\n",
       "      <th>14</th>\n",
       "      <td>5_pc_neg</td>\n",
       "      <td>-0.860781</td>\n",
       "    </tr>\n",
       "    <tr>\n",
       "      <th>15</th>\n",
       "      <td>6_pc_neg</td>\n",
       "      <td>-0.001218</td>\n",
       "    </tr>\n",
       "    <tr>\n",
       "      <th>16</th>\n",
       "      <td>7_pc_neg</td>\n",
       "      <td>-0.537582</td>\n",
       "    </tr>\n",
       "    <tr>\n",
       "      <th>17</th>\n",
       "      <td>hotel_address_zip_code_5dig_10002</td>\n",
       "      <td>-15.511259</td>\n",
       "    </tr>\n",
       "    <tr>\n",
       "      <th>18</th>\n",
       "      <td>hotel_address_zip_code_5dig_10003</td>\n",
       "      <td>18.151746</td>\n",
       "    </tr>\n",
       "    <tr>\n",
       "      <th>19</th>\n",
       "      <td>hotel_address_zip_code_5dig_10004</td>\n",
       "      <td>46.111436</td>\n",
       "    </tr>\n",
       "    <tr>\n",
       "      <th>20</th>\n",
       "      <td>hotel_address_zip_code_5dig_10005</td>\n",
       "      <td>1.117435</td>\n",
       "    </tr>\n",
       "    <tr>\n",
       "      <th>21</th>\n",
       "      <td>hotel_address_zip_code_5dig_10006</td>\n",
       "      <td>2.150023</td>\n",
       "    </tr>\n",
       "    <tr>\n",
       "      <th>22</th>\n",
       "      <td>hotel_address_zip_code_5dig_10007</td>\n",
       "      <td>5.959772</td>\n",
       "    </tr>\n",
       "    <tr>\n",
       "      <th>23</th>\n",
       "      <td>hotel_address_zip_code_5dig_10010</td>\n",
       "      <td>23.187239</td>\n",
       "    </tr>\n",
       "    <tr>\n",
       "      <th>24</th>\n",
       "      <td>hotel_address_zip_code_5dig_10011</td>\n",
       "      <td>22.906253</td>\n",
       "    </tr>\n",
       "    <tr>\n",
       "      <th>25</th>\n",
       "      <td>hotel_address_zip_code_5dig_10012</td>\n",
       "      <td>172.430838</td>\n",
       "    </tr>\n",
       "    <tr>\n",
       "      <th>26</th>\n",
       "      <td>hotel_address_zip_code_5dig_10013</td>\n",
       "      <td>5.287610</td>\n",
       "    </tr>\n",
       "    <tr>\n",
       "      <th>27</th>\n",
       "      <td>hotel_address_zip_code_5dig_10014</td>\n",
       "      <td>23.620970</td>\n",
       "    </tr>\n",
       "    <tr>\n",
       "      <th>28</th>\n",
       "      <td>hotel_address_zip_code_5dig_10016</td>\n",
       "      <td>-2.220457</td>\n",
       "    </tr>\n",
       "    <tr>\n",
       "      <th>29</th>\n",
       "      <td>hotel_address_zip_code_5dig_10017</td>\n",
       "      <td>26.719510</td>\n",
       "    </tr>\n",
       "    <tr>\n",
       "      <th>30</th>\n",
       "      <td>hotel_address_zip_code_5dig_10018</td>\n",
       "      <td>2.375894</td>\n",
       "    </tr>\n",
       "    <tr>\n",
       "      <th>31</th>\n",
       "      <td>hotel_address_zip_code_5dig_10019</td>\n",
       "      <td>40.617723</td>\n",
       "    </tr>\n",
       "    <tr>\n",
       "      <th>32</th>\n",
       "      <td>hotel_address_zip_code_5dig_10022</td>\n",
       "      <td>34.188853</td>\n",
       "    </tr>\n",
       "    <tr>\n",
       "      <th>33</th>\n",
       "      <td>hotel_address_zip_code_5dig_10023</td>\n",
       "      <td>169.237186</td>\n",
       "    </tr>\n",
       "    <tr>\n",
       "      <th>34</th>\n",
       "      <td>hotel_address_zip_code_5dig_10024</td>\n",
       "      <td>-38.682661</td>\n",
       "    </tr>\n",
       "  </tbody>\n",
       "</table>\n",
       "</div>"
      ],
      "text/plain": [
       "                             Features     Weights\n",
       "0                         hotel_stars   28.167453\n",
       "1                hotel_overall_rating   -6.919809\n",
       "2            hotel_cleanliness_rating  -15.422782\n",
       "3                hotel_comfort_rating   25.378550\n",
       "4               hotel_location_rating    1.160950\n",
       "5             hotel_facilities_rating   19.200354\n",
       "6                  hotel_staff_rating    7.456110\n",
       "7                  hotel_value_rating  -30.000029\n",
       "8                   hotel_wifi_rating    0.882673\n",
       "9                            0_pc_neg   -0.375179\n",
       "10                           1_pc_neg   -0.536960\n",
       "11                           2_pc_neg   -0.444283\n",
       "12                           3_pc_neg   -0.622251\n",
       "13                           4_pc_neg   -0.284494\n",
       "14                           5_pc_neg   -0.860781\n",
       "15                           6_pc_neg   -0.001218\n",
       "16                           7_pc_neg   -0.537582\n",
       "17  hotel_address_zip_code_5dig_10002  -15.511259\n",
       "18  hotel_address_zip_code_5dig_10003   18.151746\n",
       "19  hotel_address_zip_code_5dig_10004   46.111436\n",
       "20  hotel_address_zip_code_5dig_10005    1.117435\n",
       "21  hotel_address_zip_code_5dig_10006    2.150023\n",
       "22  hotel_address_zip_code_5dig_10007    5.959772\n",
       "23  hotel_address_zip_code_5dig_10010   23.187239\n",
       "24  hotel_address_zip_code_5dig_10011   22.906253\n",
       "25  hotel_address_zip_code_5dig_10012  172.430838\n",
       "26  hotel_address_zip_code_5dig_10013    5.287610\n",
       "27  hotel_address_zip_code_5dig_10014   23.620970\n",
       "28  hotel_address_zip_code_5dig_10016   -2.220457\n",
       "29  hotel_address_zip_code_5dig_10017   26.719510\n",
       "30  hotel_address_zip_code_5dig_10018    2.375894\n",
       "31  hotel_address_zip_code_5dig_10019   40.617723\n",
       "32  hotel_address_zip_code_5dig_10022   34.188853\n",
       "33  hotel_address_zip_code_5dig_10023  169.237186\n",
       "34  hotel_address_zip_code_5dig_10024  -38.682661"
      ]
     },
     "execution_count": 335,
     "metadata": {},
     "output_type": "execute_result"
    }
   ],
   "source": [
    "# get intercept\n",
    "const=reg.intercept_\n",
    "print ('intercept = ',const)\n",
    "\n",
    "# get weights\n",
    "reg_summary = pd.DataFrame(train_test_scaled_inputs.columns.values, columns=['Features'])\n",
    "reg_summary['Weights'] = reg.coef_[0]\n",
    "reg_summary.loc[0:34]"
   ]
  },
  {
   "cell_type": "code",
   "execution_count": 244,
   "metadata": {},
   "outputs": [
    {
     "data": {
      "text/html": [
       "<div>\n",
       "<style scoped>\n",
       "    .dataframe tbody tr th:only-of-type {\n",
       "        vertical-align: middle;\n",
       "    }\n",
       "\n",
       "    .dataframe tbody tr th {\n",
       "        vertical-align: top;\n",
       "    }\n",
       "\n",
       "    .dataframe thead th {\n",
       "        text-align: right;\n",
       "    }\n",
       "</style>\n",
       "<table border=\"1\" class=\"dataframe\">\n",
       "  <thead>\n",
       "    <tr style=\"text-align: right;\">\n",
       "      <th></th>\n",
       "      <th>hotel_room_price_per_person_avg</th>\n",
       "    </tr>\n",
       "  </thead>\n",
       "  <tbody>\n",
       "  </tbody>\n",
       "</table>\n",
       "</div>"
      ],
      "text/plain": [
       "Empty DataFrame\n",
       "Columns: [hotel_room_price_per_person_avg]\n",
       "Index: []"
      ]
     },
     "execution_count": 244,
     "metadata": {},
     "output_type": "execute_result"
    }
   ],
   "source": [
    "y_val[50:60]"
   ]
  },
  {
   "cell_type": "code",
   "execution_count": 245,
   "metadata": {},
   "outputs": [
    {
     "data": {
      "text/plain": [
       "array([], shape=(0, 1), dtype=float64)"
      ]
     },
     "execution_count": 245,
     "metadata": {},
     "output_type": "execute_result"
    }
   ],
   "source": [
    "y_val_reg_pred[50:60]"
   ]
  },
  {
   "cell_type": "code",
   "execution_count": 247,
   "metadata": {},
   "outputs": [
    {
     "data": {
      "image/png": "[encoded data removed]",
      "text/plain": [
       "<Figure size 432x432 with 1 Axes>"
      ]
     },
     "metadata": {
      "needs_background": "light"
     },
     "output_type": "display_data"
    }
   ],
   "source": [
    "plt.figure(figsize=(6,6))\n",
    "plt.scatter(y_train, y_train_reg_pred, 10, marker='.', c='r')\n",
    "plt.xlabel('Targets',size=14)\n",
    "plt.ylabel('Predictions',size=14)\n",
    "plt.xlim(0.0,300.0)\n",
    "plt.ylim(0.0,300.0)\n",
    "_ = plt.plot([0.0,300.0],[0.0,300.0])\n",
    "plt.show()"
   ]
  },
  {
   "cell_type": "markdown",
   "metadata": {},
   "source": [
    "### Select hotels for which model works well"
   ]
  },
  {
   "cell_type": "code",
   "execution_count": 3121,
   "metadata": {},
   "outputs": [],
   "source": [
    "y_train_reg_pred_reshaped = y_train_reg_pred.reshape(-1)"
   ]
  },
  {
   "cell_type": "code",
   "execution_count": 3122,
   "metadata": {},
   "outputs": [],
   "source": [
    "y_train_array = np.array(y_train['hotel_room_price_per_person_avg'])\n",
    "y_train_index_vec = list(y_train.index)"
   ]
  },
  {
   "cell_type": "code",
   "execution_count": 3126,
   "metadata": {},
   "outputs": [],
   "source": [
    "subset_hotels_count_num=0\n",
    "subset_hotels_diff_vec=[]\n",
    "subset_hotels_price_vec=[]\n",
    "subset_hotels_index_vec=[]\n",
    "\n",
    "for idx in range(0,len(y_train_reg_pred_reshaped)):\n",
    "    percent_diff = (y_train_reg_pred_reshaped[idx]-y_train_array[idx])/y_train_array[idx]\n",
    "    subset_hotels_diff_vec.append(percent_diff)\n",
    "    if abs(percent_diff)<0.20:\n",
    "        subset_hotels_price_vec.append(y_train_array[idx])\n",
    "        subset_hotels_index_vec.append(y_train_index_vec[idx])\n",
    "        subset_hotels_count_num+=1"
   ]
  },
  {
   "cell_type": "markdown",
   "metadata": {},
   "source": [
    "### Try to figure out if the two groups are separable in the feature space"
   ]
  },
  {
   "cell_type": "code",
   "execution_count": 3127,
   "metadata": {},
   "outputs": [
    {
     "data": {
      "text/plain": [
       "0.9629601079349647"
      ]
     },
     "execution_count": 3127,
     "metadata": {},
     "output_type": "execute_result"
    }
   ],
   "source": [
    "reg.score(x_train.loc[subset_hotels_index_vec],y_train.loc[subset_hotels_index_vec])"
   ]
  },
  {
   "cell_type": "code",
   "execution_count": 3128,
   "metadata": {},
   "outputs": [],
   "source": [
    "prova_below=df_hotel_detailed_info_list_filtered_merged.loc[subset_hotels_index_vec]"
   ]
  },
  {
   "cell_type": "code",
   "execution_count": 3125,
   "metadata": {},
   "outputs": [],
   "source": [
    "prova_above=df_hotel_detailed_info_list_filtered_merged.loc[subset_hotels_index_vec]"
   ]
  },
  {
   "cell_type": "code",
   "execution_count": 1805,
   "metadata": {},
   "outputs": [],
   "source": [
    "# bins = np.linspace(0, 10, 100)\n",
    "# plt.hist(prova_below['hotel_stars'], bins, alpha=0.5, label='below')\n",
    "# plt.hist(prova_above['hotel_stars'], bins, alpha=0.5, label='above')\n",
    "# plt.legend()\n",
    "# plt.show()"
   ]
  },
  {
   "cell_type": "code",
   "execution_count": 1806,
   "metadata": {},
   "outputs": [],
   "source": [
    "# plt.scatter(x=prova_below['sentences_count_neg'], y=prova_below['hotel_stars'], c='r', s=5, label='below')\n",
    "# plt.scatter(x=prova_above['sentences_count_neg'], y=prova_above['hotel_stars'], c='b', s=5, label='above')\n",
    "# plt.legend()\n",
    "# plt.show()"
   ]
  },
  {
   "cell_type": "markdown",
   "metadata": {},
   "source": [
    "### Print subset of hotels to csv"
   ]
  },
  {
   "cell_type": "code",
   "execution_count": 1531,
   "metadata": {},
   "outputs": [],
   "source": [
    "#df_hotel_detailed_info_list_filtered_merged.loc[subset_hotels_index_vec].to_csv('./datasets/input_app/df_hotels.csv',index=False)"
   ]
  },
  {
   "cell_type": "markdown",
   "metadata": {},
   "source": [
    "### Pickle model"
   ]
  },
  {
   "cell_type": "code",
   "execution_count": 249,
   "metadata": {},
   "outputs": [],
   "source": [
    "regression_model_filename = 'price_regression_model.sav'\n",
    "pickle.dump(reg, open(regression_model_filename, 'wb'))"
   ]
  },
  {
   "cell_type": "markdown",
   "metadata": {},
   "source": [
    "### Write out needed parameters"
   ]
  },
  {
   "cell_type": "code",
   "execution_count": 250,
   "metadata": {},
   "outputs": [],
   "source": [
    "aux_info_1_filename = 'categorical_features.sav'\n",
    "pickle.dump(categorical_features, open(aux_info_1_filename, 'wb'))\n",
    "\n",
    "aux_info_2_filename = 'features_complete_list.sav'\n",
    "pickle.dump(features_complete_list, open(aux_info_2_filename, 'wb'))\n",
    "\n",
    "aux_info_3_filename = 'features_complete_list_dummies.sav'\n",
    "pickle.dump(train_test_scaled_inputs.columns.values, open(aux_info_3_filename, 'wb'))"
   ]
  },
  {
   "cell_type": "markdown",
   "metadata": {},
   "source": [
    "## Predictions by varing parameters"
   ]
  },
  {
   "cell_type": "code",
   "execution_count": 431,
   "metadata": {},
   "outputs": [],
   "source": [
    "input_datapoint = df_hotel_detailed_info_list_filtered_merged.iloc[[10]]\n",
    "input_datapoint.reset_index(drop=True,inplace=True)"
   ]
  },
  {
   "cell_type": "code",
   "execution_count": 432,
   "metadata": {},
   "outputs": [
    {
     "data": {
      "text/html": [
       "<div>\n",
       "<style scoped>\n",
       "    .dataframe tbody tr th:only-of-type {\n",
       "        vertical-align: middle;\n",
       "    }\n",
       "\n",
       "    .dataframe tbody tr th {\n",
       "        vertical-align: top;\n",
       "    }\n",
       "\n",
       "    .dataframe thead th {\n",
       "        text-align: right;\n",
       "    }\n",
       "</style>\n",
       "<table border=\"1\" class=\"dataframe\">\n",
       "  <thead>\n",
       "    <tr style=\"text-align: right;\">\n",
       "      <th></th>\n",
       "      <th>hotel_name</th>\n",
       "      <th>hotel_url</th>\n",
       "      <th>hotel_stars</th>\n",
       "      <th>hotel_address</th>\n",
       "      <th>hotel_overall_rating</th>\n",
       "      <th>hotel_rating_breakdown</th>\n",
       "      <th>hotel_room_name</th>\n",
       "      <th>hotel_room_capacity</th>\n",
       "      <th>hotel_room_price</th>\n",
       "      <th>hotel_address_zip_code</th>\n",
       "      <th>...</th>\n",
       "      <th>3_pc_pos</th>\n",
       "      <th>4_pc_pos</th>\n",
       "      <th>5_pc_pos</th>\n",
       "      <th>6_pc_pos</th>\n",
       "      <th>7_pc_pos</th>\n",
       "      <th>8_pc_pos</th>\n",
       "      <th>9_pc_pos</th>\n",
       "      <th>10_pc_pos</th>\n",
       "      <th>11_pc_pos</th>\n",
       "      <th>12_pc_pos</th>\n",
       "    </tr>\n",
       "  </thead>\n",
       "  <tbody>\n",
       "    <tr>\n",
       "      <th>0</th>\n",
       "      <td>Pavilion Grand Hotel</td>\n",
       "      <td>pavilion-grand.en-gb</td>\n",
       "      <td>4.0</td>\n",
       "      <td>30 Lake Avenue, Saratoga Springs, NY 12866, Un...</td>\n",
       "      <td>9.4</td>\n",
       "      <td>[['Cleanliness', '9.5'], ['Comfort', '9.6'], [...</td>\n",
       "      <td>Traditional King Bedroom</td>\n",
       "      <td>2.0</td>\n",
       "      <td>189.0</td>\n",
       "      <td>128</td>\n",
       "      <td>...</td>\n",
       "      <td>4.6875</td>\n",
       "      <td>1.5625</td>\n",
       "      <td>0.0</td>\n",
       "      <td>0.78125</td>\n",
       "      <td>0.78125</td>\n",
       "      <td>9.375</td>\n",
       "      <td>4.6875</td>\n",
       "      <td>0.78125</td>\n",
       "      <td>21.875</td>\n",
       "      <td>7.8125</td>\n",
       "    </tr>\n",
       "  </tbody>\n",
       "</table>\n",
       "<p>1 rows × 86 columns</p>\n",
       "</div>"
      ],
      "text/plain": [
       "             hotel_name             hotel_url  hotel_stars  \\\n",
       "0  Pavilion Grand Hotel  pavilion-grand.en-gb          4.0   \n",
       "\n",
       "                                       hotel_address  hotel_overall_rating  \\\n",
       "0  30 Lake Avenue, Saratoga Springs, NY 12866, Un...                   9.4   \n",
       "\n",
       "                              hotel_rating_breakdown  \\\n",
       "0  [['Cleanliness', '9.5'], ['Comfort', '9.6'], [...   \n",
       "\n",
       "            hotel_room_name  hotel_room_capacity  hotel_room_price  \\\n",
       "0  Traditional King Bedroom                  2.0             189.0   \n",
       "\n",
       "  hotel_address_zip_code  ...  3_pc_pos 4_pc_pos  5_pc_pos  6_pc_pos 7_pc_pos  \\\n",
       "0                    128  ...    4.6875   1.5625       0.0   0.78125  0.78125   \n",
       "\n",
       "   8_pc_pos  9_pc_pos  10_pc_pos  11_pc_pos  12_pc_pos  \n",
       "0     9.375    4.6875    0.78125     21.875     7.8125  \n",
       "\n",
       "[1 rows x 86 columns]"
      ]
     },
     "execution_count": 432,
     "metadata": {},
     "output_type": "execute_result"
    }
   ],
   "source": [
    "input_datapoint"
   ]
  },
  {
   "cell_type": "markdown",
   "metadata": {},
   "source": [
    "### Modify some columns"
   ]
  },
  {
   "cell_type": "code",
   "execution_count": 433,
   "metadata": {},
   "outputs": [],
   "source": [
    "#input_datapoint.at[0,'11_neg'] = 0.00\n",
    "#input_datapoint.at[0,'6_neg'] = 0.00"
   ]
  },
  {
   "cell_type": "markdown",
   "metadata": {},
   "source": [
    "### Scale and create dummy columns"
   ]
  },
  {
   "cell_type": "code",
   "execution_count": 434,
   "metadata": {},
   "outputs": [],
   "source": [
    "input_features = input_datapoint[features_complete_list]\n",
    "input_target = input_datapoint[['hotel_room_price_per_person_avg']]\n",
    "\n",
    "scaled_input = input_features.copy()\n",
    "\n",
    "#input_num_features = scaled_input.drop(categorical_features,axis=1)\n",
    "#no_scaling_features = features_list3#+features_list4\n",
    "#input_num_scaled_features = input_num_features.drop(no_scaling_features,axis=1)\n",
    "#input_num_scaled_features_col = input_num_scaled_features.columns.values\n",
    "#input_num_scaled_features = scaler.transform(input_num_scaled_features.values)\n",
    "#scaled_input[input_num_scaled_features_col] = input_num_scaled_features\n",
    "\n",
    "scaled_input = scaled_input.reindex(columns = train_test_scaled_inputs.columns, fill_value=0)\n",
    "for cat in categorical_features:\n",
    "    dummy_cat = cat+'_'+str(input_features[cat].values[0])\n",
    "    if dummy_cat in scaled_input.columns:\n",
    "        scaled_input.iloc[0, scaled_input.columns.get_loc(dummy_cat)] = 1"
   ]
  },
  {
   "cell_type": "markdown",
   "metadata": {},
   "source": [
    "### Get new prediction"
   ]
  },
  {
   "cell_type": "code",
   "execution_count": 435,
   "metadata": {},
   "outputs": [],
   "source": [
    "input_rf_pred = reg.predict(scaled_input)"
   ]
  },
  {
   "cell_type": "code",
   "execution_count": 436,
   "metadata": {},
   "outputs": [
    {
     "data": {
      "text/plain": [
       "array([[99.32788581]])"
      ]
     },
     "execution_count": 436,
     "metadata": {},
     "output_type": "execute_result"
    }
   ],
   "source": [
    "#### new prediction #####\n",
    "input_rf_pred"
   ]
  },
  {
   "cell_type": "code",
   "execution_count": 440,
   "metadata": {
    "scrolled": true
   },
   "outputs": [
    {
     "data": {
      "text/plain": [
       "array([[99.32788581]])"
      ]
     },
     "execution_count": 440,
     "metadata": {},
     "output_type": "execute_result"
    }
   ],
   "source": [
    "#### old prediction #####\n",
    "reg.predict(x_train.loc[[10]])"
   ]
  },
  {
   "cell_type": "code",
   "execution_count": 439,
   "metadata": {},
   "outputs": [
    {
     "data": {
      "text/html": [
       "<div>\n",
       "<style scoped>\n",
       "    .dataframe tbody tr th:only-of-type {\n",
       "        vertical-align: middle;\n",
       "    }\n",
       "\n",
       "    .dataframe tbody tr th {\n",
       "        vertical-align: top;\n",
       "    }\n",
       "\n",
       "    .dataframe thead th {\n",
       "        text-align: right;\n",
       "    }\n",
       "</style>\n",
       "<table border=\"1\" class=\"dataframe\">\n",
       "  <thead>\n",
       "    <tr style=\"text-align: right;\">\n",
       "      <th></th>\n",
       "      <th>hotel_room_price_per_person_avg</th>\n",
       "    </tr>\n",
       "  </thead>\n",
       "  <tbody>\n",
       "    <tr>\n",
       "      <th>10</th>\n",
       "      <td>92.166667</td>\n",
       "    </tr>\n",
       "  </tbody>\n",
       "</table>\n",
       "</div>"
      ],
      "text/plain": [
       "    hotel_room_price_per_person_avg\n",
       "10                        92.166667"
      ]
     },
     "execution_count": 439,
     "metadata": {},
     "output_type": "execute_result"
    }
   ],
   "source": [
    "#### truth #####\n",
    "y_train.loc[[10]]"
   ]
  },
  {
   "cell_type": "code",
   "execution_count": null,
   "metadata": {},
   "outputs": [],
   "source": []
  }
 ],
 "metadata": {
  "kernelspec": {
   "display_name": "Python 3",
   "language": "python",
   "name": "python3"
  },
  "language_info": {
   "codemirror_mode": {
    "name": "ipython",
    "version": 3
   },
   "file_extension": ".py",
   "mimetype": "text/x-python",
   "name": "python",
   "nbconvert_exporter": "python",
   "pygments_lexer": "ipython3",
   "version": "3.8.1"
  }
 },
 "nbformat": 4,
 "nbformat_minor": 4
}
