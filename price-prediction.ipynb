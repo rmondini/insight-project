{
 "cells": [
  {
   "cell_type": "markdown",
   "metadata": {},
   "source": [
    "### Import libraries"
   ]
  },
  {
   "cell_type": "code",
   "execution_count": 573,
   "metadata": {},
   "outputs": [],
   "source": [
    "import pandas as pd\n",
    "import numpy as np\n",
    "import matplotlib.pyplot as plt\n",
    "import seaborn as sns\n",
    "from sklearn.linear_model import LinearRegression,Lasso,Ridge,SGDRegressor\n",
    "from sklearn.model_selection import train_test_split\n",
    "from sklearn.preprocessing import StandardScaler\n",
    "from sklearn.metrics import r2_score,mean_squared_error\n",
    "import pickle"
   ]
  },
  {
   "cell_type": "markdown",
   "metadata": {},
   "source": [
    "### Define useful functions"
   ]
  },
  {
   "cell_type": "code",
   "execution_count": 1343,
   "metadata": {},
   "outputs": [],
   "source": [
    "def extract_zip_code(hotel_address):\n",
    "    address_tmp = hotel_address.split(',')[-2].strip(' ').split(' ')[-1][:3]\n",
    "    if address_tmp == 'NY1':\n",
    "        return hotel_address.split(',')[-2].strip(' ').split(' ')[-1][2:5]\n",
    "    else:\n",
    "        return address_tmp\n",
    "\n",
    "def extract_zip_code_5dig(hotel_address):\n",
    "    address_tmp = hotel_address.split(',')[-2].strip(' ').split(' ')[-1][:5]\n",
    "    if address_tmp == 'NY1':\n",
    "        return hotel_address.split(',')[-2].strip(' ').split(' ')[-1][2:7]\n",
    "    else:\n",
    "        return address_tmp\n",
    "    \n",
    "def extract_price(hotel_room_price):\n",
    "    room_price_tmp = hotel_room_price.strip('\\r').strip('US$')\n",
    "    if room_price_tmp == '':\n",
    "        return None\n",
    "    else:\n",
    "        room_price_tmp = room_price_tmp.replace(',' , '')\n",
    "        return float(room_price_tmp)\n",
    "    \n",
    "def extract_capacity(hotel_room_capacity):\n",
    "    if pd.isnull(hotel_room_capacity):\n",
    "        return None\n",
    "    else:\n",
    "        return int(hotel_room_capacity[-1])\n",
    "       \n",
    "def extract_hotel_stars(hotel_stars):\n",
    "    if hotel_stars in ['1 stars', '1-star hotel']:\n",
    "        return 1.0\n",
    "    elif hotel_stars in ['1.5 stars', '1.5 star hotel']:\n",
    "        return 1.5\n",
    "    elif hotel_stars in ['2 stars', '2-star hotel']:\n",
    "        return 2.0\n",
    "    elif hotel_stars in ['2.5 stars', '2.5 star hotel']:\n",
    "        return 2.5\n",
    "    elif hotel_stars in ['3 stars', '3-star hotel']:\n",
    "        return 3.0\n",
    "    elif hotel_stars in ['3.5 stars', '3.5 star hotel']:\n",
    "        return 3.5\n",
    "    elif hotel_stars in ['4 stars', '4-star hotel']:\n",
    "        return 4.0\n",
    "    elif hotel_stars in ['4.5 stars', '4.5 star hotel']:\n",
    "        return 4.5\n",
    "    elif hotel_stars in ['5 stars', '5-star hotel']:\n",
    "        return 5.0\n",
    "    else:\n",
    "        return None\n",
    "    \n",
    "def extract_cleanliness_rating(hotel_rating_breakdown):\n",
    "    item_tmp = hotel_rating_breakdown.strip('[]').split('], [')[0]\n",
    "    if item_tmp.split(',')[0]==\"'Cleanliness'\":\n",
    "        return float(item_tmp.split(',')[1].strip(' ').strip(\"''\"))\n",
    "    else:\n",
    "        return None\n",
    "    \n",
    "def extract_comfort_rating(hotel_rating_breakdown):\n",
    "    item_tmp = hotel_rating_breakdown.strip('[]').split('], [')[1]\n",
    "    if item_tmp.split(',')[0]==\"'Comfort'\":\n",
    "        return float(item_tmp.split(',')[1].strip(' ').strip(\"''\"))\n",
    "    else:\n",
    "        return None\n",
    "    \n",
    "def extract_location_rating(hotel_rating_breakdown):\n",
    "    item_tmp = hotel_rating_breakdown.strip('[]').split('], [')[2]\n",
    "    if item_tmp.split(',')[0]==\"'Location'\":\n",
    "        return float(item_tmp.split(',')[1].strip(' ').strip(\"''\"))\n",
    "    else:\n",
    "        return None\n",
    "    \n",
    "def extract_facilities_rating(hotel_rating_breakdown):\n",
    "    item_tmp = hotel_rating_breakdown.strip('[]').split('], [')[3]\n",
    "    if item_tmp.split(',')[0]==\"'Facilities'\":\n",
    "        return float(item_tmp.split(',')[1].strip(' ').strip(\"''\"))\n",
    "    else:\n",
    "        return None\n",
    "    \n",
    "def extract_staff_rating(hotel_rating_breakdown):\n",
    "    item_tmp = hotel_rating_breakdown.strip('[]').split('], [')[4]\n",
    "    if item_tmp.split(',')[0]==\"'Staff'\":\n",
    "        return float(item_tmp.split(',')[1].strip(' ').strip(\"''\"))\n",
    "    else:\n",
    "        return None\n",
    "    \n",
    "def extract_value_rating(hotel_rating_breakdown):\n",
    "    item_tmp = hotel_rating_breakdown.strip('[]').split('], [')[5]\n",
    "    if item_tmp.split(',')[0]==\"'Value for money'\":\n",
    "        return float(item_tmp.split(',')[1].strip(' ').strip(\"''\"))\n",
    "    else:\n",
    "        return None\n",
    "    \n",
    "def extract_wifi_rating(hotel_rating_breakdown):\n",
    "    item_tmp = hotel_rating_breakdown.strip('[]').split('], [')\n",
    "    if len(item_tmp)<7:\n",
    "        return None\n",
    "    elif item_tmp[6].split(',')[0]==\"'Free WiFi'\":\n",
    "        return float(item_tmp[6].split(',')[1].strip(' ').strip(\"''\"))\n",
    "    else:\n",
    "        return None\n",
    "    \n",
    "def display_info_hotel(df_hotels_item):\n",
    "    print('Hotel name: ',df_hotels_item['hotel_name'].values[0])\n",
    "    print('---------------------')\n",
    "    print('Negative mentions per topic: ')\n",
    "    print('(0) Room Comfort: ', str(int(df_hotels_item['0_neg'])))\n",
    "    print('(1) Staff: ', str(int(df_hotels_item['1_neg'])))\n",
    "    print('(2) Breakfast: ', str(int(df_hotels_item['2_neg'])))\n",
    "    print('(3) Facilities: ', str(int(df_hotels_item['3_neg'])))\n",
    "    print('(4) Location: ', str(int(df_hotels_item['4_neg'])))\n",
    "    print('(5) Bathroom: ', str(int(df_hotels_item['5_neg'])))\n",
    "    print('(6) Room Amenities: ', str(int(df_hotels_item['6_neg'])))\n",
    "    print('(7) Bed Quality: ', str(int(df_hotels_item['7_neg'])))\n",
    "    #print('Other/no main topic: ', str(int(df_hotels_item['-1_neg'])))\n",
    "    \n",
    "def change_topic_counts(df_hotel_item,counts_delta_vec): \n",
    "    df_hotel_item_cp = df_hotel_item.copy()\n",
    "    df_hotel_item_cp.reset_index(drop=True,inplace=True)\n",
    "    df_hotel_item_cp.at[0,'0_neg'] += counts_delta_vec[0]\n",
    "    df_hotel_item_cp.at[0,'1_neg'] += counts_delta_vec[1]\n",
    "    df_hotel_item_cp.at[0,'2_neg'] += counts_delta_vec[2]\n",
    "    df_hotel_item_cp.at[0,'3_neg'] += counts_delta_vec[3]\n",
    "    df_hotel_item_cp.at[0,'4_neg'] += counts_delta_vec[4]\n",
    "    df_hotel_item_cp.at[0,'5_neg'] += counts_delta_vec[5]\n",
    "    df_hotel_item_cp.at[0,'6_neg'] += counts_delta_vec[6]\n",
    "    df_hotel_item_cp.at[0,'7_neg'] += counts_delta_vec[7]\n",
    "    df_hotel_item_cp[[str(n)+'_pc_neg' for n in range(-1,8)]] = 100*df_hotel_item_cp[[str(n)+'_neg' for n in range(-1,8)]].div(df_hotel_item_cp.sentences_count_neg, axis=0)\n",
    "    return df_hotel_item_cp\n",
    "\n",
    "def get_price_prediction(model,cat_feat,feat_compl_list,feat_compl_list_dum,df_hotel_item):\n",
    "    input_features = df_hotel_item[feat_compl_list]\n",
    "    input_target = df_hotel_item[['hotel_room_price_per_person_avg']]\n",
    "\n",
    "    scaled_input = input_features.copy()\n",
    "    scaled_input = scaled_input.reindex(columns = feat_compl_list_dum, fill_value=0)\n",
    "    for cat in cat_feat:\n",
    "        dummy_cat = cat+'_'+str(input_features[cat].values[0])\n",
    "        if dummy_cat in scaled_input.columns:\n",
    "            scaled_input.iloc[0, scaled_input.columns.get_loc(dummy_cat)] = 1\n",
    "            \n",
    "    price_pred = model.predict(scaled_input)[0][0]\n",
    "    return price_pred\n",
    "\n",
    "def update_price(model,cat_feat,feat_compl_list,feat_compl_list_dum,df_hotel_item,counts_delta_vec):\n",
    "    # baseline price from model\n",
    "    baseline_price = get_price_prediction(model,cat_feat,feat_compl_list,feat_compl_list_dum,df_hotel_item)\n",
    "    # change negative mentions per topic\n",
    "    df_hotel_item_changed = change_topic_counts(df_hotel_item,counts_delta_vec)\n",
    "    # new price from model\n",
    "    new_price = get_price_prediction(model,cat_feat,feat_compl_list,feat_compl_list_dum,df_hotel_item_changed)\n",
    "    # per cent change\n",
    "    per_cent_change = 100*(new_price-baseline_price)/baseline_price\n",
    "    # return prices\n",
    "    return [baseline_price,new_price,per_cent_change]"
   ]
  },
  {
   "cell_type": "markdown",
   "metadata": {},
   "source": [
    "### Import datasets"
   ]
  },
  {
   "cell_type": "code",
   "execution_count": 1474,
   "metadata": {},
   "outputs": [],
   "source": [
    "# dataset of detailed info (room price, stars, ratings, location) for each hotel\n",
    "df_hotel_detailed_info_list = pd.read_csv('./datasets/sample0_nys_hotel_detailed_info_list.csv',lineterminator='\\n')\n",
    "df_hotel_detailed_info_list_2 = pd.read_csv('./datasets/sample1_nys_hotel_detailed_info_list.csv',lineterminator='\\n')\n",
    "df_hotel_detailed_info_list_3 = pd.read_csv('./datasets/sample2_nys_hotel_detailed_info_list.csv',lineterminator='\\n')"
   ]
  },
  {
   "cell_type": "code",
   "execution_count": 1475,
   "metadata": {},
   "outputs": [],
   "source": [
    "# dataset of number of negative mentions per topic for each hotel\n",
    "df_negative_sentences_by_topic_pt = pd.read_csv('./datasets/df_negative_sentences_by_topic_pt_we.csv',lineterminator='\\n')"
   ]
  },
  {
   "cell_type": "markdown",
   "metadata": {},
   "source": [
    "### Cleaning and pre-processing"
   ]
  },
  {
   "cell_type": "code",
   "execution_count": 1476,
   "metadata": {},
   "outputs": [],
   "source": [
    "# rename room price, room name, and room capacity columns\n",
    "df_hotel_detailed_info_list.rename(columns={'hotel_room_price\\r': 'hotel_room_price'},inplace=True)\n",
    "df_hotel_detailed_info_list_2.rename(columns={'hotel_room_price\\r': 'hotel_room_price_2','hotel_room_name':'hotel_room_name_2','hotel_room_capacity':'hotel_room_capacity_2'},inplace=True)\n",
    "df_hotel_detailed_info_list_3.rename(columns={'hotel_room_price\\r': 'hotel_room_price_3','hotel_room_name':'hotel_room_name_3','hotel_room_capacity':'hotel_room_capacity_3'},inplace=True)"
   ]
  },
  {
   "cell_type": "code",
   "execution_count": 1477,
   "metadata": {},
   "outputs": [],
   "source": [
    "# extract zip codes in both 3-digit and 5-digit formats\n",
    "df_hotel_detailed_info_list = df_hotel_detailed_info_list[~pd.isnull(df_hotel_detailed_info_list['hotel_address'])]\n",
    "df_hotel_detailed_info_list['hotel_address_zip_code'] = df_hotel_detailed_info_list['hotel_address'].apply(extract_zip_code)\n",
    "df_hotel_detailed_info_list['hotel_address_zip_code_5dig'] = df_hotel_detailed_info_list['hotel_address'].apply(extract_zip_code_5dig)"
   ]
  },
  {
   "cell_type": "code",
   "execution_count": 1478,
   "metadata": {},
   "outputs": [],
   "source": [
    "# extract room prices\n",
    "df_hotel_detailed_info_list['hotel_room_price'] = df_hotel_detailed_info_list['hotel_room_price'].apply(extract_price)\n",
    "df_hotel_detailed_info_list_2['hotel_room_price_2'] = df_hotel_detailed_info_list_2['hotel_room_price_2'].apply(extract_price)\n",
    "df_hotel_detailed_info_list_3['hotel_room_price_3'] = df_hotel_detailed_info_list_3['hotel_room_price_3'].apply(extract_price)"
   ]
  },
  {
   "cell_type": "code",
   "execution_count": 1479,
   "metadata": {},
   "outputs": [],
   "source": [
    "# merge dataframes with room prices 2 and 3 onto main dataframe\n",
    "df_hotel_detailed_info_list = df_hotel_detailed_info_list.merge(df_hotel_detailed_info_list_2[['hotel_url','hotel_room_price_2','hotel_room_name_2','hotel_room_capacity_2']],on='hotel_url')\n",
    "df_hotel_detailed_info_list = df_hotel_detailed_info_list.merge(df_hotel_detailed_info_list_3[['hotel_url','hotel_room_price_3','hotel_room_name_3','hotel_room_capacity_3']],on='hotel_url')"
   ]
  },
  {
   "cell_type": "code",
   "execution_count": 1480,
   "metadata": {},
   "outputs": [],
   "source": [
    "# extract room capacities\n",
    "df_hotel_detailed_info_list['hotel_room_capacity'] = df_hotel_detailed_info_list['hotel_room_capacity'].apply(extract_capacity)\n",
    "df_hotel_detailed_info_list['hotel_room_capacity_2'] = df_hotel_detailed_info_list['hotel_room_capacity_2'].apply(extract_capacity)\n",
    "df_hotel_detailed_info_list['hotel_room_capacity_3'] = df_hotel_detailed_info_list['hotel_room_capacity_3'].apply(extract_capacity)"
   ]
  },
  {
   "cell_type": "code",
   "execution_count": 1481,
   "metadata": {},
   "outputs": [],
   "source": [
    "# determine room prices per person\n",
    "df_hotel_detailed_info_list['hotel_room_price_per_person'] = df_hotel_detailed_info_list['hotel_room_price']/df_hotel_detailed_info_list['hotel_room_capacity']\n",
    "df_hotel_detailed_info_list['hotel_room_price_per_person_2'] = df_hotel_detailed_info_list['hotel_room_price_2']/df_hotel_detailed_info_list['hotel_room_capacity_2']\n",
    "df_hotel_detailed_info_list['hotel_room_price_per_person_3'] = df_hotel_detailed_info_list['hotel_room_price_3']/df_hotel_detailed_info_list['hotel_room_capacity_3']"
   ]
  },
  {
   "cell_type": "code",
   "execution_count": 1482,
   "metadata": {},
   "outputs": [],
   "source": [
    "# drop hotels without room prices\n",
    "df_hotel_detailed_info_list = df_hotel_detailed_info_list[~pd.isnull(df_hotel_detailed_info_list[['hotel_room_price_per_person','hotel_room_price_per_person_2','hotel_room_price_per_person_3']]).any(axis=1)]"
   ]
  },
  {
   "cell_type": "code",
   "execution_count": 1483,
   "metadata": {},
   "outputs": [],
   "source": [
    "# determine average room price per person for each hotel\n",
    "df_hotel_detailed_info_list['hotel_room_price_per_person_avg'] = df_hotel_detailed_info_list[['hotel_room_price_per_person','hotel_room_price_per_person_2','hotel_room_price_per_person_3']].mean(axis=1)"
   ]
  },
  {
   "cell_type": "code",
   "execution_count": 1484,
   "metadata": {},
   "outputs": [],
   "source": [
    "# drop hotels without average room price\n",
    "df_hotel_detailed_info_list = df_hotel_detailed_info_list[~pd.isnull(df_hotel_detailed_info_list['hotel_room_price_per_person_avg'])]"
   ]
  },
  {
   "cell_type": "code",
   "execution_count": 1486,
   "metadata": {},
   "outputs": [],
   "source": [
    "# extract aspect ratings\n",
    "df_hotel_detailed_info_list['hotel_cleanliness_rating'] = df_hotel_detailed_info_list['hotel_rating_breakdown'].apply(extract_cleanliness_rating)\n",
    "df_hotel_detailed_info_list['hotel_comfort_rating'] = df_hotel_detailed_info_list['hotel_rating_breakdown'].apply(extract_comfort_rating)\n",
    "df_hotel_detailed_info_list['hotel_location_rating'] = df_hotel_detailed_info_list['hotel_rating_breakdown'].apply(extract_location_rating)\n",
    "df_hotel_detailed_info_list['hotel_facilities_rating'] = df_hotel_detailed_info_list['hotel_rating_breakdown'].apply(extract_facilities_rating)\n",
    "df_hotel_detailed_info_list['hotel_staff_rating'] = df_hotel_detailed_info_list['hotel_rating_breakdown'].apply(extract_staff_rating)\n",
    "df_hotel_detailed_info_list['hotel_value_rating'] = df_hotel_detailed_info_list['hotel_rating_breakdown'].apply(extract_value_rating)\n",
    "df_hotel_detailed_info_list['hotel_wifi_rating'] = df_hotel_detailed_info_list['hotel_rating_breakdown'].apply(extract_wifi_rating)"
   ]
  },
  {
   "cell_type": "code",
   "execution_count": 1487,
   "metadata": {},
   "outputs": [],
   "source": [
    "# median imputation for wifi rating (only a few missing values)\n",
    "hotel_wifi_median = df_hotel_detailed_info_list['hotel_wifi_rating'].median()\n",
    "df_hotel_detailed_info_list['hotel_wifi_rating'].fillna(hotel_wifi_median,inplace=True)"
   ]
  },
  {
   "cell_type": "code",
   "execution_count": 1488,
   "metadata": {},
   "outputs": [],
   "source": [
    "# extract hotel stars\n",
    "df_hotel_detailed_info_list['hotel_stars'] = df_hotel_detailed_info_list['hotel_stars'].apply(extract_hotel_stars)"
   ]
  },
  {
   "cell_type": "markdown",
   "metadata": {},
   "source": [
    "### Create copy of dataframe"
   ]
  },
  {
   "cell_type": "code",
   "execution_count": 1489,
   "metadata": {},
   "outputs": [],
   "source": [
    "df_hotel_detailed_info_list_filtered = df_hotel_detailed_info_list.copy()"
   ]
  },
  {
   "cell_type": "markdown",
   "metadata": {},
   "source": [
    "### Remove hotels without stars (if any)"
   ]
  },
  {
   "cell_type": "code",
   "execution_count": 1490,
   "metadata": {},
   "outputs": [],
   "source": [
    "df_hotel_detailed_info_list_filtered = df_hotel_detailed_info_list_filtered[~pd.isnull(df_hotel_detailed_info_list_filtered['hotel_stars'])]"
   ]
  },
  {
   "cell_type": "markdown",
   "metadata": {},
   "source": [
    "### Determine avg room price and std by stars and location"
   ]
  },
  {
   "cell_type": "code",
   "execution_count": 1491,
   "metadata": {},
   "outputs": [],
   "source": [
    "df_hotel_detailed_info_list_filtered['hotel_room_price_per_person_avg_grouped_mean'] = df_hotel_detailed_info_list_filtered.groupby(['hotel_stars','hotel_address_zip_code_5dig']).transform('mean')['hotel_room_price_per_person_avg']\n",
    "df_hotel_detailed_info_list_filtered['hotel_room_price_per_person_avg_grouped_std'] = df_hotel_detailed_info_list_filtered.groupby(['hotel_stars','hotel_address_zip_code_5dig']).transform('std')['hotel_room_price_per_person_avg']\n",
    "#df_hotel_detailed_info_list_filtered = df_hotel_detailed_info_list_filtered[~pd.isnull(df_hotel_detailed_info_list_filtered['hotel_room_price_per_person_avg_grouped_std'])]"
   ]
  },
  {
   "cell_type": "code",
   "execution_count": 1493,
   "metadata": {},
   "outputs": [],
   "source": [
    "df_hotel_detailed_info_list_filtered['hotel_room_price_per_person_norm'] = df_hotel_detailed_info_list_filtered['hotel_room_price_per_person_avg']-df_hotel_detailed_info_list_filtered['hotel_room_price_per_person_avg_grouped_mean']\n",
    "df_hotel_detailed_info_list_filtered['hotel_room_price_per_person_norm'] = df_hotel_detailed_info_list_filtered['hotel_room_price_per_person_norm'].div(df_hotel_detailed_info_list_filtered['hotel_room_price_per_person_avg_grouped_std'], axis=0)"
   ]
  },
  {
   "cell_type": "code",
   "execution_count": 1494,
   "metadata": {},
   "outputs": [],
   "source": [
    "df_hotel_detailed_info_list_filtered['hotel_room_price_per_person_pc_change'] = df_hotel_detailed_info_list_filtered['hotel_room_price_per_person_avg']-df_hotel_detailed_info_list_filtered['hotel_room_price_per_person_avg_grouped_mean']\n",
    "df_hotel_detailed_info_list_filtered['hotel_room_price_per_person_pc_change'] = df_hotel_detailed_info_list_filtered['hotel_room_price_per_person_pc_change'].div(df_hotel_detailed_info_list_filtered['hotel_room_price_per_person_avg'], axis=0)\n",
    "#df_hotel_detailed_info_list_filtered = df_hotel_detailed_info_list_filtered[abs(df_hotel_detailed_info_list_filtered['hotel_room_price_per_person_pc_change'])<0.30]"
   ]
  },
  {
   "cell_type": "markdown",
   "metadata": {},
   "source": [
    "### Join with topic count dataframe"
   ]
  },
  {
   "cell_type": "code",
   "execution_count": 1496,
   "metadata": {},
   "outputs": [],
   "source": [
    "neg_columns_to_rename = {'-1':'-1_neg','0':'0_neg','1':'1_neg','2':'2_neg','3':'3_neg','4':'4_neg','5':'5_neg','6':'6_neg','7':'7_neg',\n",
    "                         '-1_pc':'-1_pc_neg','0_pc':'0_pc_neg','1_pc':'1_pc_neg','2_pc':'2_pc_neg','3_pc':'3_pc_neg','4_pc':'4_pc_neg','5_pc':'5_pc_neg','6_pc':'6_pc_neg','7_pc':'7_pc_neg',\n",
    "                         'sentences_count':'sentences_count_neg'}"
   ]
  },
  {
   "cell_type": "code",
   "execution_count": 1497,
   "metadata": {},
   "outputs": [],
   "source": [
    "df_negative_sentences_by_topic_pt.rename(columns=neg_columns_to_rename,inplace=True)"
   ]
  },
  {
   "cell_type": "code",
   "execution_count": 1498,
   "metadata": {},
   "outputs": [],
   "source": [
    "df_hotel_detailed_info_list_filtered_merged = df_hotel_detailed_info_list_filtered.merge(df_negative_sentences_by_topic_pt,on='hotel_url')"
   ]
  },
  {
   "cell_type": "markdown",
   "metadata": {},
   "source": [
    "### Remove hotels with zero topic counts across all topics (if any)"
   ]
  },
  {
   "cell_type": "code",
   "execution_count": 1499,
   "metadata": {},
   "outputs": [],
   "source": [
    "df_hotel_detailed_info_list_filtered_merged = df_hotel_detailed_info_list_filtered_merged[~(df_hotel_detailed_info_list_filtered_merged[['0_neg','1_neg','2_neg','3_neg','4_neg','5_neg','6_neg','7_neg']]==0.0).all(axis=1)]"
   ]
  },
  {
   "cell_type": "markdown",
   "metadata": {},
   "source": [
    "### Select topic features to include in feature set\n",
    "(and make them explicit percentages)"
   ]
  },
  {
   "cell_type": "code",
   "execution_count": 1500,
   "metadata": {},
   "outputs": [],
   "source": [
    "topic_features_list = ['0_pc_neg','1_pc_neg','2_pc_neg','3_pc_neg','4_pc_neg','5_pc_neg','6_pc_neg','7_pc_neg']\n",
    "#topic_features_list = ['0_neg','1_neg','2_neg','3_neg','4_neg','5_neg','6_neg','7_neg','sentences_count_neg']"
   ]
  },
  {
   "cell_type": "code",
   "execution_count": 1501,
   "metadata": {},
   "outputs": [],
   "source": [
    "df_hotel_detailed_info_list_filtered_merged[topic_features_list] = 100*df_hotel_detailed_info_list_filtered_merged[topic_features_list]"
   ]
  },
  {
   "cell_type": "markdown",
   "metadata": {},
   "source": [
    "### Print out complete dataset with unique names to csv for web app"
   ]
  },
  {
   "cell_type": "code",
   "execution_count": 1503,
   "metadata": {},
   "outputs": [],
   "source": [
    "df_hotels_unique_names = df_hotel_detailed_info_list_filtered_merged.copy()\n",
    "df_hotels_unique_names['hotel_unique_name'] = df_hotels_unique_names['hotel_name'] + ' (' + df_hotels_unique_names['hotel_address_zip_code_5dig'] + ')'\n",
    "df_hotels_unique_names.to_csv('./input_app/df_hotels_unique_names.csv',index=False)"
   ]
  },
  {
   "cell_type": "markdown",
   "metadata": {},
   "source": [
    "## Modeling"
   ]
  },
  {
   "cell_type": "markdown",
   "metadata": {},
   "source": [
    "### Create complete feature set and target"
   ]
  },
  {
   "cell_type": "code",
   "execution_count": 1553,
   "metadata": {},
   "outputs": [],
   "source": [
    "features_list1 = ['hotel_stars','hotel_overall_rating','hotel_address_zip_code_5dig']\n",
    "features_list2 = ['hotel_cleanliness_rating','hotel_value_rating','hotel_wifi_rating','hotel_comfort_rating','hotel_facilities_rating','hotel_location_rating','hotel_staff_rating']\n",
    "features_complete_list = features_list1+features_list2+topic_features_list\n",
    "\n",
    "df_features = df_hotel_detailed_info_list_filtered_merged[features_complete_list]\n",
    "df_target = df_hotel_detailed_info_list_filtered_merged[['hotel_room_price_per_person_avg']]"
   ]
  },
  {
   "cell_type": "code",
   "execution_count": 1554,
   "metadata": {},
   "outputs": [
    {
     "data": {
      "text/plain": [
       "Index(['hotel_stars', 'hotel_overall_rating', 'hotel_address_zip_code_5dig',\n",
       "       'hotel_cleanliness_rating', 'hotel_value_rating', 'hotel_wifi_rating',\n",
       "       'hotel_comfort_rating', 'hotel_facilities_rating',\n",
       "       'hotel_location_rating', 'hotel_staff_rating', '0_pc_neg', '1_pc_neg',\n",
       "       '2_pc_neg', '3_pc_neg', '4_pc_neg', '5_pc_neg', '6_pc_neg', '7_pc_neg'],\n",
       "      dtype='object')"
      ]
     },
     "execution_count": 1554,
     "metadata": {},
     "output_type": "execute_result"
    }
   ],
   "source": [
    "# checking that feature set is correct\n",
    "df_features.columns"
   ]
  },
  {
   "cell_type": "markdown",
   "metadata": {},
   "source": [
    "### One-hot encoding for categorical features\n",
    "(and standardization of numerical features if necessary)"
   ]
  },
  {
   "cell_type": "code",
   "execution_count": 1583,
   "metadata": {},
   "outputs": [],
   "source": [
    "categorical_features = ['hotel_address_zip_code_5dig']"
   ]
  },
  {
   "cell_type": "code",
   "execution_count": 1584,
   "metadata": {},
   "outputs": [],
   "source": [
    "train_test_scaled_inputs = df_features.copy()\n",
    "\n",
    "# train_test_num_features = train_test_scaled_inputs.drop(categorical_features,axis=1)\n",
    "# no_scaling_features = topic_features_list\n",
    "# train_test_num_scaled_features = train_test_num_features.drop(no_scaling_features,axis=1)\n",
    "# train_test_num_scaled_features_col = train_test_num_scaled_features.columns.values\n",
    "# scaler = StandardScaler()\n",
    "# scaler.fit(train_test_num_scaled_features.values)\n",
    "# train_test_num_scaled_features = scaler.transform(train_test_num_scaled_features.values)\n",
    "# train_test_scaled_inputs[train_test_num_scaled_features_col] = train_test_num_scaled_features"
   ]
  },
  {
   "cell_type": "code",
   "execution_count": 1585,
   "metadata": {},
   "outputs": [],
   "source": [
    "train_test_scaled_inputs = pd.get_dummies(train_test_scaled_inputs,columns=categorical_features,drop_first=True)"
   ]
  },
  {
   "cell_type": "markdown",
   "metadata": {},
   "source": [
    "### Train-validation split"
   ]
  },
  {
   "cell_type": "code",
   "execution_count": 1586,
   "metadata": {},
   "outputs": [],
   "source": [
    "# test_size=0.001 minimizes test set when training model for deployment\n",
    "x_train, x_val, y_train, y_val = train_test_split(train_test_scaled_inputs,df_target, test_size = 0.001, random_state = 42)"
   ]
  },
  {
   "cell_type": "markdown",
   "metadata": {},
   "source": [
    "### Linear regression"
   ]
  },
  {
   "cell_type": "code",
   "execution_count": 1587,
   "metadata": {
    "scrolled": true
   },
   "outputs": [
    {
     "data": {
      "text/plain": [
       "LinearRegression(copy_X=True, fit_intercept=True, n_jobs=None, normalize=False)"
      ]
     },
     "execution_count": 1587,
     "metadata": {},
     "output_type": "execute_result"
    }
   ],
   "source": [
    "reg = LinearRegression()\n",
    "reg.fit(x_train,y_train)"
   ]
  },
  {
   "cell_type": "code",
   "execution_count": 1588,
   "metadata": {},
   "outputs": [],
   "source": [
    "y_train_reg_pred = reg.predict(x_train)\n",
    "y_val_reg_pred = reg.predict(x_val)"
   ]
  },
  {
   "cell_type": "code",
   "execution_count": 1589,
   "metadata": {},
   "outputs": [
    {
     "name": "stdout",
     "output_type": "stream",
     "text": [
      "0.7906673866314896\n",
      "0.7281351203377013\n"
     ]
    }
   ],
   "source": [
    "R2_train=reg.score(x_train,y_train)\n",
    "adj_R2_train=1-(1-R2_train)*(x_train.shape[0]-1)/(x_train.shape[0]-x_train.shape[1]-1)\n",
    "\n",
    "#R2_val=reg.score(x_val,y_val)\n",
    "#adj_R2_val=1-(1-R2_val)*(x_val.shape[0]-1)/(x_val.shape[0]-x_val.shape[1]-1)\n",
    "\n",
    "print(R2_train)\n",
    "print(adj_R2_train)\n",
    "#print()\n",
    "#print(R2_val)\n",
    "#print(adj_R2_val)"
   ]
  },
  {
   "cell_type": "code",
   "execution_count": 1590,
   "metadata": {},
   "outputs": [],
   "source": [
    "#rmse_train = mean_squared_error(y_train,y_train_reg_pred,squared=False)\n",
    "#rmse_val = mean_squared_error(y_val,y_val_reg_pred,squared=False)"
   ]
  },
  {
   "cell_type": "code",
   "execution_count": 1591,
   "metadata": {},
   "outputs": [
    {
     "name": "stdout",
     "output_type": "stream",
     "text": [
      "intercept =  [68.36750524]\n"
     ]
    },
    {
     "data": {
      "text/html": [
       "<div>\n",
       "<style scoped>\n",
       "    .dataframe tbody tr th:only-of-type {\n",
       "        vertical-align: middle;\n",
       "    }\n",
       "\n",
       "    .dataframe tbody tr th {\n",
       "        vertical-align: top;\n",
       "    }\n",
       "\n",
       "    .dataframe thead th {\n",
       "        text-align: right;\n",
       "    }\n",
       "</style>\n",
       "<table border=\"1\" class=\"dataframe\">\n",
       "  <thead>\n",
       "    <tr style=\"text-align: right;\">\n",
       "      <th></th>\n",
       "      <th>Features</th>\n",
       "      <th>Weights</th>\n",
       "    </tr>\n",
       "  </thead>\n",
       "  <tbody>\n",
       "    <tr>\n",
       "      <th>0</th>\n",
       "      <td>hotel_stars</td>\n",
       "      <td>26.822914</td>\n",
       "    </tr>\n",
       "    <tr>\n",
       "      <th>1</th>\n",
       "      <td>hotel_overall_rating</td>\n",
       "      <td>-10.779470</td>\n",
       "    </tr>\n",
       "    <tr>\n",
       "      <th>2</th>\n",
       "      <td>hotel_cleanliness_rating</td>\n",
       "      <td>-14.752988</td>\n",
       "    </tr>\n",
       "    <tr>\n",
       "      <th>3</th>\n",
       "      <td>hotel_value_rating</td>\n",
       "      <td>-27.427301</td>\n",
       "    </tr>\n",
       "    <tr>\n",
       "      <th>4</th>\n",
       "      <td>hotel_wifi_rating</td>\n",
       "      <td>1.115646</td>\n",
       "    </tr>\n",
       "    <tr>\n",
       "      <th>5</th>\n",
       "      <td>hotel_comfort_rating</td>\n",
       "      <td>23.992888</td>\n",
       "    </tr>\n",
       "    <tr>\n",
       "      <th>6</th>\n",
       "      <td>hotel_facilities_rating</td>\n",
       "      <td>18.750589</td>\n",
       "    </tr>\n",
       "    <tr>\n",
       "      <th>7</th>\n",
       "      <td>hotel_location_rating</td>\n",
       "      <td>1.266847</td>\n",
       "    </tr>\n",
       "    <tr>\n",
       "      <th>8</th>\n",
       "      <td>hotel_staff_rating</td>\n",
       "      <td>9.586720</td>\n",
       "    </tr>\n",
       "    <tr>\n",
       "      <th>9</th>\n",
       "      <td>0_pc_neg</td>\n",
       "      <td>-0.784148</td>\n",
       "    </tr>\n",
       "    <tr>\n",
       "      <th>10</th>\n",
       "      <td>1_pc_neg</td>\n",
       "      <td>-0.486247</td>\n",
       "    </tr>\n",
       "    <tr>\n",
       "      <th>11</th>\n",
       "      <td>2_pc_neg</td>\n",
       "      <td>-0.663443</td>\n",
       "    </tr>\n",
       "    <tr>\n",
       "      <th>12</th>\n",
       "      <td>3_pc_neg</td>\n",
       "      <td>-0.338644</td>\n",
       "    </tr>\n",
       "    <tr>\n",
       "      <th>13</th>\n",
       "      <td>4_pc_neg</td>\n",
       "      <td>-0.977401</td>\n",
       "    </tr>\n",
       "    <tr>\n",
       "      <th>14</th>\n",
       "      <td>5_pc_neg</td>\n",
       "      <td>-1.153829</td>\n",
       "    </tr>\n",
       "    <tr>\n",
       "      <th>15</th>\n",
       "      <td>6_pc_neg</td>\n",
       "      <td>-0.051402</td>\n",
       "    </tr>\n",
       "    <tr>\n",
       "      <th>16</th>\n",
       "      <td>7_pc_neg</td>\n",
       "      <td>-0.901879</td>\n",
       "    </tr>\n",
       "  </tbody>\n",
       "</table>\n",
       "</div>"
      ],
      "text/plain": [
       "                    Features    Weights\n",
       "0                hotel_stars  26.822914\n",
       "1       hotel_overall_rating -10.779470\n",
       "2   hotel_cleanliness_rating -14.752988\n",
       "3         hotel_value_rating -27.427301\n",
       "4          hotel_wifi_rating   1.115646\n",
       "5       hotel_comfort_rating  23.992888\n",
       "6    hotel_facilities_rating  18.750589\n",
       "7      hotel_location_rating   1.266847\n",
       "8         hotel_staff_rating   9.586720\n",
       "9                   0_pc_neg  -0.784148\n",
       "10                  1_pc_neg  -0.486247\n",
       "11                  2_pc_neg  -0.663443\n",
       "12                  3_pc_neg  -0.338644\n",
       "13                  4_pc_neg  -0.977401\n",
       "14                  5_pc_neg  -1.153829\n",
       "15                  6_pc_neg  -0.051402\n",
       "16                  7_pc_neg  -0.901879"
      ]
     },
     "execution_count": 1591,
     "metadata": {},
     "output_type": "execute_result"
    }
   ],
   "source": [
    "# get intercept\n",
    "const=reg.intercept_\n",
    "print ('intercept = ',const)\n",
    "\n",
    "# get weights for numerical features\n",
    "reg_summary = pd.DataFrame(train_test_scaled_inputs.columns.values, columns=['Features'])\n",
    "reg_summary['Weights'] = reg.coef_[0]\n",
    "reg_summary.loc[0:16]"
   ]
  },
  {
   "cell_type": "code",
   "execution_count": 1592,
   "metadata": {},
   "outputs": [],
   "source": [
    "# plt.figure(figsize=(6,6))\n",
    "# plt.scatter(y_train, y_train_reg_pred, 10, marker='.', c='r')\n",
    "# plt.xlabel('Targets',size=14)\n",
    "# plt.ylabel('Predictions',size=14)\n",
    "# plt.xlim(0.0,300.0)\n",
    "# plt.ylim(0.0,300.0)\n",
    "# _ = plt.plot([0.0,300.0],[0.0,300.0])\n",
    "# plt.show()"
   ]
  },
  {
   "cell_type": "markdown",
   "metadata": {},
   "source": [
    "### Topic importance countplot"
   ]
  },
  {
   "cell_type": "code",
   "execution_count": 1593,
   "metadata": {},
   "outputs": [],
   "source": [
    "reg_topic_summary = reg_summary.loc[9:16].copy()\n",
    "reg_topic_summary.sort_values(by=['Weights'],inplace=True)\n",
    "reg_topic_summary.reset_index(drop=True,inplace=True)\n",
    "\n",
    "reg_topic_summary.replace('0_pc_neg','Room Comfort',inplace=True)\n",
    "reg_topic_summary.replace('1_pc_neg','Staff',inplace=True)\n",
    "reg_topic_summary.replace('2_pc_neg','Breakfast',inplace=True)\n",
    "reg_topic_summary.replace('3_pc_neg','Facilities',inplace=True)\n",
    "reg_topic_summary.replace('4_pc_neg','Location',inplace=True)\n",
    "reg_topic_summary.replace('5_pc_neg','Bathroom',inplace=True)\n",
    "reg_topic_summary.replace('6_pc_neg','Room Amenities',inplace=True)\n",
    "reg_topic_summary.replace('7_pc_neg','Bed Quality',inplace=True)"
   ]
  },
  {
   "cell_type": "code",
   "execution_count": 1594,
   "metadata": {},
   "outputs": [
    {
     "data": {
      "text/html": [
       "<div>\n",
       "<style scoped>\n",
       "    .dataframe tbody tr th:only-of-type {\n",
       "        vertical-align: middle;\n",
       "    }\n",
       "\n",
       "    .dataframe tbody tr th {\n",
       "        vertical-align: top;\n",
       "    }\n",
       "\n",
       "    .dataframe thead th {\n",
       "        text-align: right;\n",
       "    }\n",
       "</style>\n",
       "<table border=\"1\" class=\"dataframe\">\n",
       "  <thead>\n",
       "    <tr style=\"text-align: right;\">\n",
       "      <th></th>\n",
       "      <th>Features</th>\n",
       "      <th>Weights</th>\n",
       "    </tr>\n",
       "  </thead>\n",
       "  <tbody>\n",
       "    <tr>\n",
       "      <th>0</th>\n",
       "      <td>Bathroom</td>\n",
       "      <td>-1.153829</td>\n",
       "    </tr>\n",
       "    <tr>\n",
       "      <th>1</th>\n",
       "      <td>Location</td>\n",
       "      <td>-0.977401</td>\n",
       "    </tr>\n",
       "    <tr>\n",
       "      <th>2</th>\n",
       "      <td>Bed Quality</td>\n",
       "      <td>-0.901879</td>\n",
       "    </tr>\n",
       "    <tr>\n",
       "      <th>3</th>\n",
       "      <td>Room Comfort</td>\n",
       "      <td>-0.784148</td>\n",
       "    </tr>\n",
       "    <tr>\n",
       "      <th>4</th>\n",
       "      <td>Breakfast</td>\n",
       "      <td>-0.663443</td>\n",
       "    </tr>\n",
       "    <tr>\n",
       "      <th>5</th>\n",
       "      <td>Staff</td>\n",
       "      <td>-0.486247</td>\n",
       "    </tr>\n",
       "    <tr>\n",
       "      <th>6</th>\n",
       "      <td>Facilities</td>\n",
       "      <td>-0.338644</td>\n",
       "    </tr>\n",
       "    <tr>\n",
       "      <th>7</th>\n",
       "      <td>Room Amenities</td>\n",
       "      <td>-0.051402</td>\n",
       "    </tr>\n",
       "  </tbody>\n",
       "</table>\n",
       "</div>"
      ],
      "text/plain": [
       "         Features   Weights\n",
       "0        Bathroom -1.153829\n",
       "1        Location -0.977401\n",
       "2     Bed Quality -0.901879\n",
       "3    Room Comfort -0.784148\n",
       "4       Breakfast -0.663443\n",
       "5           Staff -0.486247\n",
       "6      Facilities -0.338644\n",
       "7  Room Amenities -0.051402"
      ]
     },
     "execution_count": 1594,
     "metadata": {},
     "output_type": "execute_result"
    }
   ],
   "source": [
    "reg_topic_summary"
   ]
  },
  {
   "cell_type": "code",
   "execution_count": 1595,
   "metadata": {},
   "outputs": [
    {
     "data": {
      "image/png": "[encoded data removed]",
      "text/plain": [
       "<Figure size 360x504 with 1 Axes>"
      ]
     },
     "metadata": {
      "needs_background": "light"
     },
     "output_type": "display_data"
    }
   ],
   "source": [
    "fig,ax = plt.subplots(figsize=(5,7))\n",
    "ax.barh(reg_topic_summary.index, reg_topic_summary['Weights'])\n",
    "ax.set_yticks(reg_topic_summary.index)\n",
    "ax.set_yticklabels(reg_topic_summary['Features'],fontdict={'fontsize':12})\n",
    "ax.invert_yaxis()\n",
    "ax.set_xlim(-1.35,0)\n",
    "ax.invert_xaxis()\n",
    "ax.set_xlabel('Coefficient',fontdict={'fontsize':12})\n",
    "\n",
    "for i,v in enumerate(reg_topic_summary['Weights']):\n",
    "    plt.text(v-0.015, i, str(round(v, 2)), color='black', va=\"center\", fontsize=12)\n",
    "    \n",
    "plt.show()"
   ]
  },
  {
   "cell_type": "markdown",
   "metadata": {},
   "source": [
    "### Feature importance countplot"
   ]
  },
  {
   "cell_type": "code",
   "execution_count": 1596,
   "metadata": {},
   "outputs": [],
   "source": [
    "reg_hotel_feats_summary = reg_summary.loc[0:8].copy()\n",
    "reg_hotel_feats_summary.sort_values(by=['Weights'],ascending=False,inplace=True)\n",
    "reg_hotel_feats_summary.reset_index(drop=True,inplace=True)\n",
    "\n",
    "reg_hotel_feats_summary.replace('hotel_stars','Stars',inplace=True)\n",
    "reg_hotel_feats_summary.replace('hotel_comfort_rating','Comfort Rating',inplace=True)\n",
    "reg_hotel_feats_summary.replace('hotel_facilities_rating','Facilities Rating',inplace=True)\n",
    "reg_hotel_feats_summary.replace('hotel_staff_rating','Staff Rating',inplace=True)\n",
    "reg_hotel_feats_summary.replace('hotel_wifi_rating','WiFi Rating',inplace=True)\n",
    "reg_hotel_feats_summary.replace('hotel_location_rating','Location Rating',inplace=True)\n",
    "reg_hotel_feats_summary.replace('hotel_cleanliness_rating','Cleanliness Rating',inplace=True)\n",
    "reg_hotel_feats_summary.replace('hotel_value_rating','Value Rating',inplace=True)\n",
    "reg_hotel_feats_summary.replace('hotel_overall_rating','Overall Rating',inplace=True)"
   ]
  },
  {
   "cell_type": "code",
   "execution_count": 1597,
   "metadata": {},
   "outputs": [
    {
     "data": {
      "text/html": [
       "<div>\n",
       "<style scoped>\n",
       "    .dataframe tbody tr th:only-of-type {\n",
       "        vertical-align: middle;\n",
       "    }\n",
       "\n",
       "    .dataframe tbody tr th {\n",
       "        vertical-align: top;\n",
       "    }\n",
       "\n",
       "    .dataframe thead th {\n",
       "        text-align: right;\n",
       "    }\n",
       "</style>\n",
       "<table border=\"1\" class=\"dataframe\">\n",
       "  <thead>\n",
       "    <tr style=\"text-align: right;\">\n",
       "      <th></th>\n",
       "      <th>Features</th>\n",
       "      <th>Weights</th>\n",
       "    </tr>\n",
       "  </thead>\n",
       "  <tbody>\n",
       "    <tr>\n",
       "      <th>0</th>\n",
       "      <td>Stars</td>\n",
       "      <td>26.822914</td>\n",
       "    </tr>\n",
       "    <tr>\n",
       "      <th>1</th>\n",
       "      <td>Comfort Rating</td>\n",
       "      <td>23.992888</td>\n",
       "    </tr>\n",
       "    <tr>\n",
       "      <th>2</th>\n",
       "      <td>Facilities Rating</td>\n",
       "      <td>18.750589</td>\n",
       "    </tr>\n",
       "    <tr>\n",
       "      <th>3</th>\n",
       "      <td>Staff Rating</td>\n",
       "      <td>9.586720</td>\n",
       "    </tr>\n",
       "    <tr>\n",
       "      <th>4</th>\n",
       "      <td>Location Rating</td>\n",
       "      <td>1.266847</td>\n",
       "    </tr>\n",
       "    <tr>\n",
       "      <th>5</th>\n",
       "      <td>WiFi Rating</td>\n",
       "      <td>1.115646</td>\n",
       "    </tr>\n",
       "    <tr>\n",
       "      <th>6</th>\n",
       "      <td>Overall Rating</td>\n",
       "      <td>-10.779470</td>\n",
       "    </tr>\n",
       "    <tr>\n",
       "      <th>7</th>\n",
       "      <td>Cleanliness Rating</td>\n",
       "      <td>-14.752988</td>\n",
       "    </tr>\n",
       "    <tr>\n",
       "      <th>8</th>\n",
       "      <td>Value Rating</td>\n",
       "      <td>-27.427301</td>\n",
       "    </tr>\n",
       "  </tbody>\n",
       "</table>\n",
       "</div>"
      ],
      "text/plain": [
       "             Features    Weights\n",
       "0               Stars  26.822914\n",
       "1      Comfort Rating  23.992888\n",
       "2   Facilities Rating  18.750589\n",
       "3        Staff Rating   9.586720\n",
       "4     Location Rating   1.266847\n",
       "5         WiFi Rating   1.115646\n",
       "6      Overall Rating -10.779470\n",
       "7  Cleanliness Rating -14.752988\n",
       "8        Value Rating -27.427301"
      ]
     },
     "execution_count": 1597,
     "metadata": {},
     "output_type": "execute_result"
    }
   ],
   "source": [
    "reg_hotel_feats_summary"
   ]
  },
  {
   "cell_type": "code",
   "execution_count": 1598,
   "metadata": {},
   "outputs": [
    {
     "data": {
      "image/png": "[encoded data removed]",
      "text/plain": [
       "<Figure size 288x432 with 1 Axes>"
      ]
     },
     "metadata": {
      "needs_background": "light"
     },
     "output_type": "display_data"
    }
   ],
   "source": [
    "fig,ax = plt.subplots(figsize=(4,6))\n",
    "ax.barh(reg_hotel_feats_summary.index, reg_hotel_feats_summary['Weights'])\n",
    "ax.set_yticks(reg_hotel_feats_summary.index)\n",
    "ax.set_yticklabels(reg_hotel_feats_summary['Features'])\n",
    "ax.invert_yaxis()\n",
    "ax.set_xlim(-50,45)\n",
    "ax.set_xlabel('Coefficient')\n",
    "\n",
    "for i,v in enumerate(reg_hotel_feats_summary['Weights']):\n",
    "    if v>0:\n",
    "        plt.text(v+0.75, i, str(round(v, 2)), color='black', va=\"center\", fontsize=10)\n",
    "    else:\n",
    "        plt.text(1.15*v-12, i, str(round(v, 2)), color='black', va=\"center\", fontsize=10)        \n",
    "    \n",
    "plt.show()"
   ]
  },
  {
   "cell_type": "markdown",
   "metadata": {},
   "source": [
    "### Location importance countplot"
   ]
  },
  {
   "cell_type": "code",
   "execution_count": 1599,
   "metadata": {},
   "outputs": [],
   "source": [
    "reg_location_summary = reg_summary.loc[17:186].copy()\n",
    "reg_location_summary.sort_values(by=['Weights'],ascending=False,inplace=True)\n",
    "reg_location_summary.reset_index(drop=True,inplace=True)\n",
    "reg_top_location_summary = reg_location_summary.loc[0:4].copy()\n",
    "reg_bottom_location_summary = reg_location_summary.loc[165:].copy()\n",
    "\n",
    "reg_top_location_summary.replace('hotel_address_zip_code_5dig_10065','10065',inplace=True)\n",
    "reg_top_location_summary.replace('hotel_address_zip_code_5dig_10012','10012',inplace=True)\n",
    "reg_top_location_summary.replace('hotel_address_zip_code_5dig_10023','10023',inplace=True)\n",
    "reg_top_location_summary.replace('hotel_address_zip_code_5dig_10004','10004',inplace=True)\n",
    "reg_top_location_summary.replace('hotel_address_zip_code_5dig_11944','11944',inplace=True)\n",
    "\n",
    "reg_bottom_location_summary.reset_index(drop=True,inplace=True)\n",
    "reg_bottom_location_summary.replace('hotel_address_zip_code_5dig_13209','13209',inplace=True)\n",
    "reg_bottom_location_summary.replace('hotel_address_zip_code_5dig_13820','13820',inplace=True)\n",
    "reg_bottom_location_summary.replace('hotel_address_zip_code_5dig_14625','14625',inplace=True)\n",
    "reg_bottom_location_summary.replace('hotel_address_zip_code_5dig_11788','11788',inplace=True)\n",
    "reg_bottom_location_summary.replace('hotel_address_zip_code_5dig_13090','13090',inplace=True)"
   ]
  },
  {
   "cell_type": "code",
   "execution_count": 1600,
   "metadata": {},
   "outputs": [
    {
     "data": {
      "image/png": "[encoded data removed]",
      "text/plain": [
       "<Figure size 432x288 with 1 Axes>"
      ]
     },
     "metadata": {
      "needs_background": "light"
     },
     "output_type": "display_data"
    }
   ],
   "source": [
    "fig,ax = plt.subplots(figsize=(6,4))\n",
    "ax.barh(reg_top_location_summary.index, reg_top_location_summary['Weights'])\n",
    "ax.set_yticks(reg_top_location_summary.index)\n",
    "ax.set_yticklabels(reg_top_location_summary['Features'])\n",
    "ax.invert_yaxis()\n",
    "ax.set_xlim(0,350)\n",
    "ax.set_xlabel('Coefficient')\n",
    "ax.set_ylabel('Zip code')\n",
    "\n",
    "for i,v in enumerate(reg_top_location_summary['Weights']):\n",
    "    plt.text(v+3, i, str(round(v, 2)), color='black', va=\"center\")\n",
    "    \n",
    "plt.show()"
   ]
  },
  {
   "cell_type": "code",
   "execution_count": 1601,
   "metadata": {},
   "outputs": [
    {
     "data": {
      "image/png": "[encoded data removed]",
      "text/plain": [
       "<Figure size 432x288 with 1 Axes>"
      ]
     },
     "metadata": {
      "needs_background": "light"
     },
     "output_type": "display_data"
    }
   ],
   "source": [
    "fig,ax = plt.subplots(figsize=(6,4))\n",
    "ax.barh(reg_bottom_location_summary.index, reg_bottom_location_summary['Weights'])\n",
    "ax.set_yticks(reg_bottom_location_summary.index)\n",
    "ax.set_yticklabels(reg_bottom_location_summary['Features'])\n",
    "ax.invert_yaxis()\n",
    "ax.set_xlim(-105,0)\n",
    "ax.invert_xaxis()\n",
    "ax.set_xlabel('Coefficient')\n",
    "ax.set_ylabel('Zip code')\n",
    "\n",
    "for i,v in enumerate(reg_bottom_location_summary['Weights']):\n",
    "    plt.text(v-1.5, i, str(round(v, 2)), color='black', va=\"center\")\n",
    "    \n",
    "plt.show()"
   ]
  },
  {
   "cell_type": "markdown",
   "metadata": {},
   "source": [
    "### Pickle model"
   ]
  },
  {
   "cell_type": "code",
   "execution_count": 1524,
   "metadata": {},
   "outputs": [],
   "source": [
    "regression_model_filename = './input_app/price_regression_model.sav'\n",
    "pickle.dump(reg, open(regression_model_filename, 'wb'))"
   ]
  },
  {
   "cell_type": "markdown",
   "metadata": {},
   "source": [
    "### Pickle additional parameters"
   ]
  },
  {
   "cell_type": "code",
   "execution_count": 1525,
   "metadata": {},
   "outputs": [],
   "source": [
    "aux_info_1_filename = './input_app/categorical_features.sav'\n",
    "pickle.dump(categorical_features, open(aux_info_1_filename, 'wb'))\n",
    "\n",
    "aux_info_2_filename = './input_app/features_complete_list.sav'\n",
    "pickle.dump(features_complete_list, open(aux_info_2_filename, 'wb'))\n",
    "\n",
    "aux_info_3_filename = './input_app/features_complete_list_dummies.sav'\n",
    "pickle.dump(train_test_scaled_inputs.columns.values, open(aux_info_3_filename, 'wb'))"
   ]
  },
  {
   "cell_type": "markdown",
   "metadata": {},
   "source": [
    "## Predictions by varing parameters\n",
    "(testing the web app output)"
   ]
  },
  {
   "cell_type": "markdown",
   "metadata": {},
   "source": [
    "### Import pickled files"
   ]
  },
  {
   "cell_type": "code",
   "execution_count": 1526,
   "metadata": {},
   "outputs": [],
   "source": [
    "reg_model = pickle.load(open('./input_app/price_regression_model.sav','rb'))\n",
    "cat_feats = pickle.load(open('./input_app/categorical_features.sav','rb'))\n",
    "feats_compl_list = pickle.load(open('./input_app/features_complete_list.sav','rb'))\n",
    "feats_compl_list_dummies = pickle.load(open('./input_app/features_complete_list_dummies.sav','rb'))"
   ]
  },
  {
   "cell_type": "markdown",
   "metadata": {},
   "source": [
    "### Input and test"
   ]
  },
  {
   "cell_type": "code",
   "execution_count": 1527,
   "metadata": {},
   "outputs": [],
   "source": [
    "input_hotel = df_hotels_unique_names[df_hotels_unique_names['hotel_unique_name']=='Ace Hotel New York (10001)']"
   ]
  },
  {
   "cell_type": "code",
   "execution_count": 1528,
   "metadata": {},
   "outputs": [
    {
     "name": "stdout",
     "output_type": "stream",
     "text": [
      "Hotel name:  Ace Hotel New York\n",
      "---------------------\n",
      "Negative mentions per topic: \n",
      "(0) Room Comfort:  36\n",
      "(1) Staff:  17\n",
      "(2) Breakfast:  15\n",
      "(3) Facilities:  12\n",
      "(4) Location:  15\n",
      "(5) Bathroom:  34\n",
      "(6) Room Amenities:  109\n",
      "(7) Bed Quality:  26\n"
     ]
    }
   ],
   "source": [
    "display_info_hotel(input_hotel)"
   ]
  },
  {
   "cell_type": "code",
   "execution_count": 1529,
   "metadata": {},
   "outputs": [],
   "source": [
    "counts_delta_vec = [0,0,0,0,0,-34,0,0]\n",
    "test_output = update_price(reg_model,cat_feats,feats_compl_list,feats_compl_list_dummies,input_hotel,counts_delta_vec)"
   ]
  },
  {
   "cell_type": "code",
   "execution_count": 1530,
   "metadata": {},
   "outputs": [
    {
     "data": {
      "text/plain": [
       "[167.84656136694883, 179.31737209652778, 6.834105290069823]"
      ]
     },
     "execution_count": 1530,
     "metadata": {},
     "output_type": "execute_result"
    }
   ],
   "source": [
    "# original price, new price, % change\n",
    "test_output"
   ]
  },
  {
   "cell_type": "code",
   "execution_count": null,
   "metadata": {},
   "outputs": [],
   "source": []
  }
 ],
 "metadata": {
  "kernelspec": {
   "display_name": "Python 3",
   "language": "python",
   "name": "python3"
  },
  "language_info": {
   "codemirror_mode": {
    "name": "ipython",
    "version": 3
   },
   "file_extension": ".py",
   "mimetype": "text/x-python",
   "name": "python",
   "nbconvert_exporter": "python",
   "pygments_lexer": "ipython3",
   "version": "3.8.1"
  }
 },
 "nbformat": 4,
 "nbformat_minor": 4
}
