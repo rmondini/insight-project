{
 "cells": [
  {
   "cell_type": "markdown",
   "metadata": {},
   "source": [
    "### Import libraries"
   ]
  },
  {
   "cell_type": "code",
   "execution_count": 1,
   "metadata": {},
   "outputs": [],
   "source": [
    "import pandas as pd\n",
    "import numpy as np\n",
    "import requests\n",
    "import csv\n",
    "from bs4 import BeautifulSoup"
   ]
  },
  {
   "cell_type": "markdown",
   "metadata": {},
   "source": [
    "### Functions to scrape info from booking.com"
   ]
  },
  {
   "cell_type": "code",
   "execution_count": 2,
   "metadata": {},
   "outputs": [],
   "source": [
    "def extract_review_body(review_query):\n",
    "    if review_query != None:\n",
    "        return review_query.find(\"span\", itemprop=\"reviewBody\").get_text()\n",
    "    else:\n",
    "        return None\n",
    "\n",
    "def extract_review_staydate(review_query):\n",
    "    if review_query != None:\n",
    "        return review_query.get_text().strip('\\n').strip('Stayed in ')\n",
    "    else:\n",
    "        return None\n",
    "    \n",
    "def remove_emojis(review_str):\n",
    "    if review_str != None:\n",
    "        return review_str.encode('ascii','ignore').decode('ascii')\n",
    "    else:\n",
    "        return review_str\n",
    "\n",
    "def extract_hotel_stars(hotel_query):\n",
    "    if hotel_query != None:\n",
    "        if hotel_query.find(class_='invisible_spoken') != None:\n",
    "            return hotel_query.find(class_='invisible_spoken').get_text().strip('\\n')\n",
    "        else:\n",
    "            return None\n",
    "    else:\n",
    "        return None \n",
    "    \n",
    "def extract_hotel_feature(hotel_query):\n",
    "    if hotel_query != None:\n",
    "        return hotel_query.get_text().strip('\\n')\n",
    "    else:\n",
    "        return None    \n",
    "\n",
    "def extract_hotel_category_list(hotel_query):\n",
    "    if hotel_query != None:\n",
    "        return hotel_query.find_all(class_='review_score_name')\n",
    "    else:\n",
    "        return None  \n",
    "\n",
    "def extract_hotel_value_list(hotel_query):\n",
    "    if hotel_query != None:\n",
    "        return hotel_query.find_all(class_='review_score_value')\n",
    "    else:\n",
    "        return None\n",
    "    \n",
    "def build_rating_breakdown_list(cat_list,value_list):\n",
    "    breakdown_list = []\n",
    "    if cat_list != None:\n",
    "        for idx in range(len(cat_list)):\n",
    "            breakdown_list.append([cat_list[idx].get_text(),value_list[idx].get_text()])\n",
    "    return breakdown_list"
   ]
  },
  {
   "cell_type": "markdown",
   "metadata": {},
   "source": [
    "### Specify user agent"
   ]
  },
  {
   "cell_type": "code",
   "execution_count": 3,
   "metadata": {},
   "outputs": [],
   "source": [
    "# the user needs to change the line below to their own agent\n",
    "headers = {'User-Agent': 'Mozilla/5.0 (X11; Linux x86_64) AppleWebKit/537.36 (KHTML, like Gecko) Chrome/80.0.3987.149 Safari/537.36'}"
   ]
  },
  {
   "cell_type": "markdown",
   "metadata": {},
   "source": [
    "### Get names and urls of hotels in NYS"
   ]
  },
  {
   "cell_type": "code",
   "execution_count": null,
   "metadata": {},
   "outputs": [],
   "source": [
    "next_page=True\n",
    "ip=1\n",
    "hotel_results_offset=0\n",
    "hotel_info_list = []\n",
    "while next_page:    \n",
    "    url= 'http://www.booking.com/reviews/region/new-york-state.html?offset='+str(hotel_results_offset)+'&'\n",
    "    response = requests.get(url,headers=headers)\n",
    "    hotel_info = BeautifulSoup(response.text, 'html.parser')\n",
    "    hotel_info_page = hotel_info.find_all(class_=['rlp-main-hotel','li'])\n",
    "    hotel_info_list.extend(hotel_info_page)\n",
    "    ip+=1\n",
    "    hotel_results_offset+=30\n",
    "    if hotel_info_page==[]:\n",
    "        next_page=False"
   ]
  },
  {
   "cell_type": "code",
   "execution_count": null,
   "metadata": {},
   "outputs": [],
   "source": [
    "nys_hotel_info_list_csvname = './datasets/nys_hotel_info_list.csv'\n",
    "\n",
    "with open(nys_hotel_info_list_csvname, 'w', newline='', encoding=\"UTF-8\") as f:\n",
    "    writer = csv.writer(f)\n",
    "    writer.writerow(['hotel_name','hotel_url'])\n",
    "    \n",
    "    for hotel_info_item in hotel_info_list:   \n",
    "        hotel_name = hotel_info_item.find(class_ = 'rlp-main-hotel__hotel-name-link').get_text()\n",
    "        hotel_url = hotel_info_item.find(class_ = 'rlp-main-hotel__hotel-name-link')['href'].split('.html?')[0]\n",
    "        writer.writerow([hotel_name,hotel_url])"
   ]
  },
  {
   "cell_type": "markdown",
   "metadata": {},
   "source": [
    "### Get reviews of hotels in NYS"
   ]
  },
  {
   "cell_type": "code",
   "execution_count": 4,
   "metadata": {
    "scrolled": true
   },
   "outputs": [],
   "source": [
    "nys_hotel_info_list_csvname = './datasets/nys_hotel_info_list.csv'\n",
    "df_nys_hotel_info_list = pd.read_csv(nys_hotel_info_list_csvname)"
   ]
  },
  {
   "cell_type": "code",
   "execution_count": 5,
   "metadata": {},
   "outputs": [],
   "source": [
    "nys_hotel_reviews_list_csvname = './datasets/sample0_nys_hotel_reviews_list.csv'\n",
    "\n",
    "with open(nys_hotel_reviews_list_csvname, 'w', newline='', encoding=\"UTF-8\") as f:\n",
    "    writer = csv.writer(f)\n",
    "    writer.writerow(['hotel_name','hotel_url','review_date','review_item_user_review_count',\n",
    "                     'review_score_badge','review_item_header_content','review_info_tag','review_staydate',\n",
    "                     'review_pos','review_neg'])\n",
    "    \n",
    "    for idx,hotel_url_item in enumerate(df_nys_hotel_info_list['hotel_url']):\n",
    "\n",
    "        next_page=True\n",
    "        ip=1\n",
    "        hotel_reviews_list = []\n",
    "        while next_page:\n",
    "            url= 'http://www.booking.com/reviews/us/hotel/'+hotel_url_item.split('/hotel/us/')[1]+'.html?page='+str(ip)+';r_lang=en'\n",
    "            response = requests.get(url,headers=headers)\n",
    "            hotel_reviews = BeautifulSoup(response.text, 'html.parser')\n",
    "            hotel_reviews_page = hotel_reviews.find_all(class_=['review_item','li'])\n",
    "            hotel_reviews_list.extend(hotel_reviews_page)\n",
    "            ip+=1\n",
    "            if hotel_reviews_page==[]:\n",
    "                next_page=False\n",
    "            \n",
    "        for hotel_reviews_item in hotel_reviews_list:   \n",
    "            review_date = hotel_reviews_item.find(class_ = 'review_item_date').get_text().strip('\\n').strip('Reviewed: ')\n",
    "            review_item_user_review_count = hotel_reviews_item.find(class_ = 'review_item_user_review_count').get_text().strip('\\n')\n",
    "            review_score_badge = hotel_reviews_item.find(class_ = 'review-score-badge').get_text().strip('\\\"')\n",
    "            review_item_header_content = hotel_reviews_item.find(class_ = 'review_item_header_content').get_text().strip('\\n').replace('\\u201c','').replace('\\u201d','')\n",
    "            review_info_tag = [tag.get_text().strip('\\n')[2:] for tag in hotel_reviews_item.find_all(class_=['review_info_tag','li'])]\n",
    "            review_staydate = extract_review_staydate(hotel_reviews_item.find(class_ = 'review_staydate'))\n",
    "            review_pos = remove_emojis(extract_review_body(hotel_reviews_item.find(class_ = 'review_pos')))\n",
    "            review_neg = remove_emojis(extract_review_body(hotel_reviews_item.find(class_ = 'review_neg')))\n",
    "        \n",
    "            writer.writerow([df_nys_hotel_info_list['hotel_name'][idx],hotel_url_item.split('/hotel/us/')[1],review_date,\n",
    "                             review_item_user_review_count,review_score_badge,review_item_header_content,\n",
    "                             review_info_tag,review_staydate,review_pos,review_neg])"
   ]
  },
  {
   "cell_type": "markdown",
   "metadata": {},
   "source": [
    "### Get detailed info of hotels in NYS (stars, location, room price, etc)\n",
    "I obtain hotel room prices on three different days and save that information in three different files."
   ]
  },
  {
   "cell_type": "code",
   "execution_count": 10,
   "metadata": {},
   "outputs": [],
   "source": [
    "# the user needs to execute this cell three times (changing n_sample to 0,1,2 respectively)\n",
    "n_sample=0\n",
    "\n",
    "nys_hotel_detailed_info_list_csvname = './datasets/sample' + str(n_sample) + '_nys_hotel_detailed_info_list.csv'\n",
    "    \n",
    "with open(nys_hotel_detailed_info_list_csvname, 'w', newline='', encoding=\"UTF-8\") as f:\n",
    "    writer = csv.writer(f)\n",
    "    writer.writerow(['hotel_name','hotel_url','hotel_stars','hotel_address',\n",
    "                     'hotel_overall_rating','hotel_rating_breakdown','hotel_room_name','hotel_room_capacity','hotel_room_price'])\n",
    "    \n",
    "    for idx,hotel_url_item in enumerate(df_nys_hotel_info_list['hotel_url']):\n",
    "        \n",
    "        # the user can change these dates if necessary\n",
    "        if n_sample==0:\n",
    "            url_date_part = 'checkin=2020-09-15;checkout=2020-09-16'\n",
    "        elif n_sample==1:\n",
    "            url_date_part = 'checkin=2020-10-13;checkout=2020-10-14'            \n",
    "        else:\n",
    "            url_date_part = 'checkin=2020-11-03;checkout=2020-11-04'\n",
    "        \n",
    "        url= 'http://www.booking.com'+ hotel_url_item +'.html?' + url_date_part\n",
    "        response = requests.get(url,headers=headers)\n",
    "        hotel_info = BeautifulSoup(response.text, 'html.parser')\n",
    "        \n",
    "        hotel_stars = extract_hotel_stars(hotel_info.find(class_='hp__hotel_ratings'))\n",
    "        hotel_address = extract_hotel_feature(hotel_info.find(class_='hp_address_subtitle js-hp_address_subtitle jq_tooltip'))\n",
    "        hotel_room_name = extract_hotel_feature(hotel_info.find(class_='hprt-roomtype-icon-link'))\n",
    "        hotel_room_capacity = extract_hotel_feature(hotel_info.find(class_='c-occupancy-icons hprt-occupancy-occupancy-info'))\n",
    "        hotel_room_price = extract_hotel_feature(hotel_info.find(class_='bui-price-display__value prco-text-nowrap-helper prco-font16-helper'))\n",
    "        \n",
    "        url= 'http://www.booking.com/reviews/us/hotel/'+hotel_url_item.split('/hotel/us/')[1]+'.html'\n",
    "        response = requests.get(url,headers=headers)\n",
    "        hotel_info = BeautifulSoup(response.text, 'html.parser')\n",
    "        \n",
    "        hotel_overall_rating = extract_hotel_feature(hotel_info.find(class_='review-score-badge'))\n",
    "        hotel_rating_breakdown_category_list = extract_hotel_category_list(hotel_info.find(class_='review_score_breakdown_list'))\n",
    "        hotel_rating_breakdown_value_list = extract_hotel_value_list(hotel_info.find(class_='review_score_breakdown_list'))\n",
    "        hotel_rating_breakdown = build_rating_breakdown_list(hotel_rating_breakdown_category_list,hotel_rating_breakdown_value_list)\n",
    "        \n",
    "        writer.writerow([df_nys_hotel_info_list['hotel_name'][idx],hotel_url_item.split('/hotel/us/')[1],hotel_stars,hotel_address,\n",
    "                         hotel_overall_rating,hotel_rating_breakdown,hotel_room_name,hotel_room_capacity,\n",
    "                         hotel_room_price])"
   ]
  },
  {
   "cell_type": "code",
   "execution_count": null,
   "metadata": {},
   "outputs": [],
   "source": []
  }
 ],
 "metadata": {
  "kernelspec": {
   "display_name": "Python 3",
   "language": "python",
   "name": "python3"
  },
  "language_info": {
   "codemirror_mode": {
    "name": "ipython",
    "version": 3
   },
   "file_extension": ".py",
   "mimetype": "text/x-python",
   "name": "python",
   "nbconvert_exporter": "python",
   "pygments_lexer": "ipython3",
   "version": "3.8.1"
  }
 },
 "nbformat": 4,
 "nbformat_minor": 4
}
