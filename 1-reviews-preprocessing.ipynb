{
 "cells": [
  {
   "cell_type": "markdown",
   "metadata": {},
   "source": [
    "### Import libraries"
   ]
  },
  {
   "cell_type": "code",
   "execution_count": 1,
   "metadata": {},
   "outputs": [],
   "source": [
    "import pandas as pd\n",
    "import numpy as np\n",
    "import csv\n",
    "import nltk.data\n",
    "import string"
   ]
  },
  {
   "cell_type": "markdown",
   "metadata": {},
   "source": [
    "### Define useful functions"
   ]
  },
  {
   "cell_type": "code",
   "execution_count": 2,
   "metadata": {},
   "outputs": [],
   "source": [
    "def remove_new_line(review_item):\n",
    "    if pd.isnull(review_item):\n",
    "        return np.nan\n",
    "    else:\n",
    "        return review_item.replace('\\n', '. ').replace('\\r', '. ')\n",
    "    \n",
    "def split_reviews(review_item):\n",
    "    if pd.isnull(review_item):\n",
    "        return np.nan\n",
    "    else:\n",
    "        return tokenizer.tokenize(review_item)\n",
    "    \n",
    "def text_process_prelim(review_sentence):\n",
    "    review_sentence_str = str(review_sentence)\n",
    "    nopunc = [char for char in review_sentence_str if char not in string.punctuation]\n",
    "    nopunc = ''.join(nopunc)\n",
    "    \n",
    "    if nopunc == '':\n",
    "        return np.nan\n",
    "    else:\n",
    "        return nopunc"
   ]
  },
  {
   "cell_type": "markdown",
   "metadata": {},
   "source": [
    "### Import complete dataset of all reviews"
   ]
  },
  {
   "cell_type": "code",
   "execution_count": 3,
   "metadata": {},
   "outputs": [],
   "source": [
    "df_complete  = pd.read_csv('./datasets/sample0_nys_hotel_reviews_list.csv')"
   ]
  },
  {
   "cell_type": "markdown",
   "metadata": {},
   "source": [
    "### Replace '\\n' and '\\r' in review sentences"
   ]
  },
  {
   "cell_type": "code",
   "execution_count": 4,
   "metadata": {},
   "outputs": [],
   "source": [
    "df_complete['review_pos'] = df_complete['review_pos'].apply(remove_new_line)\n",
    "df_complete['review_neg'] = df_complete['review_neg'].apply(remove_new_line)"
   ]
  },
  {
   "cell_type": "markdown",
   "metadata": {},
   "source": [
    "### Split reviews into sentences"
   ]
  },
  {
   "cell_type": "code",
   "execution_count": 5,
   "metadata": {},
   "outputs": [],
   "source": [
    "tokenizer = nltk.data.load('tokenizers/punkt/english.pickle')"
   ]
  },
  {
   "cell_type": "code",
   "execution_count": 6,
   "metadata": {},
   "outputs": [],
   "source": [
    "df_complete['review_pos_split']=df_complete['review_pos'].apply(split_reviews)\n",
    "df_complete['review_neg_split']=df_complete['review_neg'].apply(split_reviews)"
   ]
  },
  {
   "cell_type": "markdown",
   "metadata": {},
   "source": [
    "### Create a new data point for each sentence"
   ]
  },
  {
   "cell_type": "code",
   "execution_count": 7,
   "metadata": {},
   "outputs": [
    {
     "name": "stderr",
     "output_type": "stream",
     "text": [
      "<ipython-input-7-8f04e4fe7ae0>:1: DeprecationWarning: The default dtype for empty Series will be 'object' instead of 'float64' in a future version. Specify a dtype explicitly to silence this warning.\n",
      "  df_complete_pos_col = df_complete.apply(lambda x: pd.Series(x['review_pos_split']),axis=1).stack().reset_index(level=1, drop=True)\n"
     ]
    }
   ],
   "source": [
    "df_complete_pos_col = df_complete.apply(lambda x: pd.Series(x['review_pos_split']),axis=1).stack().reset_index(level=1, drop=True)\n",
    "df_complete_pos_col.name = 'review_pos_sentence'\n",
    "\n",
    "df_complete_pos = df_complete.copy()\n",
    "df_complete_pos.drop('review_pos_split', axis=1, inplace=True)\n",
    "df_complete_pos = df_complete_pos.join(df_complete_pos_col)"
   ]
  },
  {
   "cell_type": "code",
   "execution_count": 8,
   "metadata": {},
   "outputs": [
    {
     "name": "stderr",
     "output_type": "stream",
     "text": [
      "<ipython-input-8-25017e125086>:1: DeprecationWarning: The default dtype for empty Series will be 'object' instead of 'float64' in a future version. Specify a dtype explicitly to silence this warning.\n",
      "  df_complete_neg_col = df_complete.apply(lambda x: pd.Series(x['review_neg_split']),axis=1).stack().reset_index(level=1, drop=True)\n"
     ]
    }
   ],
   "source": [
    "df_complete_neg_col = df_complete.apply(lambda x: pd.Series(x['review_neg_split']),axis=1).stack().reset_index(level=1, drop=True)\n",
    "df_complete_neg_col.name = 'review_neg_sentence'\n",
    "\n",
    "df_complete_neg = df_complete.copy()\n",
    "df_complete_neg.drop('review_neg_split', axis=1, inplace=True)\n",
    "df_complete_neg = df_complete_neg.join(df_complete_neg_col)"
   ]
  },
  {
   "cell_type": "markdown",
   "metadata": {},
   "source": [
    "### Clean up dataframes by removing unneeded columns and adding label column"
   ]
  },
  {
   "cell_type": "code",
   "execution_count": 9,
   "metadata": {},
   "outputs": [],
   "source": [
    "df_complete_pos.drop(['review_pos','review_neg','review_neg_split'], axis=1, inplace=True)\n",
    "df_complete_pos['review_label']=1"
   ]
  },
  {
   "cell_type": "code",
   "execution_count": 10,
   "metadata": {},
   "outputs": [],
   "source": [
    "df_complete_neg.drop(['review_pos','review_neg','review_pos_split'], axis=1, inplace=True)\n",
    "df_complete_neg['review_label']=0"
   ]
  },
  {
   "cell_type": "markdown",
   "metadata": {},
   "source": [
    "### Remove reviews without text"
   ]
  },
  {
   "cell_type": "code",
   "execution_count": 11,
   "metadata": {},
   "outputs": [],
   "source": [
    "df_complete_pos = df_complete_pos[~pd.isnull(df_complete_pos['review_pos_sentence'])]"
   ]
  },
  {
   "cell_type": "code",
   "execution_count": 12,
   "metadata": {},
   "outputs": [],
   "source": [
    "df_complete_neg = df_complete_neg[~pd.isnull(df_complete_neg['review_neg_sentence'])]"
   ]
  },
  {
   "cell_type": "markdown",
   "metadata": {},
   "source": [
    "### Merge dataframes"
   ]
  },
  {
   "cell_type": "code",
   "execution_count": 13,
   "metadata": {},
   "outputs": [],
   "source": [
    "df_complete_pos.rename(columns={'review_pos_sentence': 'review_sentence'},inplace=True)\n",
    "df_complete_neg.rename(columns={'review_neg_sentence': 'review_sentence'},inplace=True)"
   ]
  },
  {
   "cell_type": "code",
   "execution_count": 14,
   "metadata": {},
   "outputs": [],
   "source": [
    "df_preprocessed = pd.concat([df_complete_pos,df_complete_neg],ignore_index=True)"
   ]
  },
  {
   "cell_type": "markdown",
   "metadata": {},
   "source": [
    "### Remove 'Everything' and 'Nothing' reviews"
   ]
  },
  {
   "cell_type": "code",
   "execution_count": 15,
   "metadata": {},
   "outputs": [],
   "source": [
    "filter_remove_oneliner_1 = (df_preprocessed['review_sentence']=='Everything.') | (df_preprocessed['review_sentence']=='everything.') | (df_preprocessed['review_sentence']=='Everything') | (df_preprocessed['review_sentence']=='everything') | (df_preprocessed['review_sentence']=='Nothing.') | (df_preprocessed['review_sentence']=='nothing.') | (df_preprocessed['review_sentence']=='Nothing') | (df_preprocessed['review_sentence']=='nothing')\n",
    "df_preprocessed = df_preprocessed[~filter_remove_oneliner_1]\n",
    "\n",
    "filter_remove_oneliner_2 = (df_preprocessed['review_sentence']=='None.') | (df_preprocessed['review_sentence']=='none.') | (df_preprocessed['review_sentence']=='None') | (df_preprocessed['review_sentence']=='none') | (df_preprocessed['review_sentence']=='All.') | (df_preprocessed['review_sentence']=='all.') | (df_preprocessed['review_sentence']=='All') | (df_preprocessed['review_sentence']=='all')\n",
    "df_preprocessed = df_preprocessed[~filter_remove_oneliner_2]\n",
    "\n",
    "filter_remove_oneliner_3 = (df_preprocessed['review_sentence']=='N/A.') | (df_preprocessed['review_sentence']=='N/A') | (df_preprocessed['review_sentence']=='n/a.') | (df_preprocessed['review_sentence']=='n/a') | (df_preprocessed['review_sentence']=='NA.') | (df_preprocessed['review_sentence']=='na.') | (df_preprocessed['review_sentence']=='NA') | (df_preprocessed['review_sentence']=='na') | (df_preprocessed['review_sentence']=='Na') | (df_preprocessed['review_sentence']=='Na.') | (df_preprocessed['review_sentence']=='N/a.')\n",
    "df_preprocessed = df_preprocessed[~filter_remove_oneliner_3]"
   ]
  },
  {
   "cell_type": "markdown",
   "metadata": {},
   "source": [
    "### Replace '\\n','\\r' with '.' from header content for readability"
   ]
  },
  {
   "cell_type": "code",
   "execution_count": 16,
   "metadata": {},
   "outputs": [],
   "source": [
    "df_preprocessed['review_item_header_content'] = df_preprocessed['review_item_header_content'].apply(lambda x:str(x).replace('\\n', '. ').replace('\\r', '. '))"
   ]
  },
  {
   "cell_type": "markdown",
   "metadata": {},
   "source": [
    "### Remove punctuation"
   ]
  },
  {
   "cell_type": "code",
   "execution_count": 17,
   "metadata": {},
   "outputs": [],
   "source": [
    "df_preprocessed['review_sentence'] = df_preprocessed['review_sentence'].apply(text_process_prelim)"
   ]
  },
  {
   "cell_type": "code",
   "execution_count": 18,
   "metadata": {},
   "outputs": [],
   "source": [
    "df_preprocessed['review_item_header_content'] = df_preprocessed['review_item_header_content'].apply(text_process_prelim)"
   ]
  },
  {
   "cell_type": "markdown",
   "metadata": {},
   "source": [
    "### Remove reviews that are now empty"
   ]
  },
  {
   "cell_type": "code",
   "execution_count": 19,
   "metadata": {},
   "outputs": [],
   "source": [
    "df_preprocessed = df_preprocessed[~pd.isnull(df_preprocessed['review_sentence'])]"
   ]
  },
  {
   "cell_type": "code",
   "execution_count": 20,
   "metadata": {},
   "outputs": [
    {
     "data": {
      "text/plain": [
       "491198"
      ]
     },
     "execution_count": 20,
     "metadata": {},
     "output_type": "execute_result"
    }
   ],
   "source": [
    "len(df_preprocessed)"
   ]
  },
  {
   "cell_type": "markdown",
   "metadata": {},
   "source": [
    "### Create 'review_topic' column and set it to NaN"
   ]
  },
  {
   "cell_type": "code",
   "execution_count": 21,
   "metadata": {},
   "outputs": [],
   "source": [
    "df_preprocessed['review_topic'] = np.nan"
   ]
  },
  {
   "cell_type": "markdown",
   "metadata": {},
   "source": [
    "### Write out negative review sentences to csv file"
   ]
  },
  {
   "cell_type": "code",
   "execution_count": 22,
   "metadata": {},
   "outputs": [],
   "source": [
    "df_preprocessed_neg_sentences = df_preprocessed[df_preprocessed['review_label']==0]\n",
    "df_preprocessed_neg_sentences.to_csv('./datasets/df_negative_sentences.csv',index=False)"
   ]
  },
  {
   "cell_type": "markdown",
   "metadata": {},
   "source": [
    "### Write out positive review sentences to csv file"
   ]
  },
  {
   "cell_type": "code",
   "execution_count": 23,
   "metadata": {},
   "outputs": [],
   "source": [
    "df_preprocessed_pos_sentences = df_preprocessed[df_preprocessed['review_label']==1]\n",
    "df_preprocessed_pos_sentences.to_csv('./datasets/df_positive_sentences.csv',index=False)"
   ]
  },
  {
   "cell_type": "code",
   "execution_count": null,
   "metadata": {},
   "outputs": [],
   "source": []
  }
 ],
 "metadata": {
  "kernelspec": {
   "display_name": "Python 3",
   "language": "python",
   "name": "python3"
  },
  "language_info": {
   "codemirror_mode": {
    "name": "ipython",
    "version": 3
   },
   "file_extension": ".py",
   "mimetype": "text/x-python",
   "name": "python",
   "nbconvert_exporter": "python",
   "pygments_lexer": "ipython3",
   "version": "3.8.1"
  }
 },
 "nbformat": 4,
 "nbformat_minor": 4
}
