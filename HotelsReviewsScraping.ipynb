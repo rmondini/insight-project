{
 "cells": [
  {
   "cell_type": "markdown",
   "metadata": {},
   "source": [
    "### Import libraries"
   ]
  },
  {
   "cell_type": "code",
   "execution_count": 47,
   "metadata": {},
   "outputs": [],
   "source": [
    "import pandas as pd\n",
    "import numpy as np\n",
    "import requests\n",
    "import lxml.html as lh\n",
    "import csv\n",
    "from bs4 import BeautifulSoup\n",
    "from textblob import TextBlob"
   ]
  },
  {
   "cell_type": "markdown",
   "metadata": {},
   "source": [
    "### Define useful functions"
   ]
  },
  {
   "cell_type": "code",
   "execution_count": 65,
   "metadata": {},
   "outputs": [],
   "source": [
    "def extract_review_body(review_query):\n",
    "#     if review_query != None:\n",
    "#         review_text_tmp = review_query.get_text().replace('\\n','.')\n",
    "#         if len(review_text_tmp)<15:\n",
    "#             return None\n",
    "#         else:\n",
    "#             if TextBlob(review_text_tmp[:15]).detect_language()=='en':\n",
    "#                 return review_text_tmp\n",
    "#             else:\n",
    "#                 return None\n",
    "#     else:\n",
    "#         return None\n",
    "    if review_query != None:\n",
    "        return review_query.get_text().replace('\\n','.')\n",
    "    else:\n",
    "        return None\n",
    "\n",
    "def extract_review_staydate(review_query):\n",
    "    if review_query != None:\n",
    "        return review_query.get_text().strip('\\n').strip('Check-in ')\n",
    "    else:\n",
    "        return None\n",
    "    \n",
    "def de_emojify(inputString):\n",
    "    if inputString!=None:\n",
    "        return inputString.encode('ascii', 'ignore').decode('ascii')\n",
    "    else:\n",
    "        return inputString"
   ]
  },
  {
   "cell_type": "code",
   "execution_count": 41,
   "metadata": {},
   "outputs": [],
   "source": [
    "def get_reviews_input_hotel(input_url):\n",
    "    \n",
    "    input_hotel_reviews_list_csvname = './datasets/input/input_hotel_reviews_list.csv'\n",
    "\n",
    "    with open(input_hotel_reviews_list_csvname, 'w', newline='', encoding=\"UTF-8\") as f:\n",
    "        writer = csv.writer(f)\n",
    "        writer.writerow(['hotel_name','hotel_category_scores',\n",
    "                     'review_score_badge','review_item_header_content','review_info_tag','review_staydate',\n",
    "                     'review_body'])\n",
    "    \n",
    "        next_page=True\n",
    "        ip=1\n",
    "        hotel_reviews_list = []\n",
    "        while next_page:\n",
    "            url= input_url + '-tr-p' + str(ip) + '/?applyEmbargo=true&amp;reviewTab=brand-reviews'\n",
    "            response = requests.get(url,headers=headers)\n",
    "            hotel_reviews = BeautifulSoup(response.text, 'html.parser')\n",
    "            \n",
    "            if ip==1:\n",
    "                hotel_category_scores_list_html = hotel_reviews.find_all(class_='category')\n",
    "                hotel_category_scores_list = []\n",
    "                for item in hotel_category_scores_list_html:\n",
    "                    hotel_category_scores_list.append([item.find(class_='category-name').get_text(),item.find(class_='category-score').get_text()])\n",
    "            \n",
    "            hotel_reviews_page = hotel_reviews.find_all(class_=['review-card'])\n",
    "            hotel_reviews_list.extend(hotel_reviews_page)\n",
    "            ip+=1\n",
    "            if hotel_reviews_page==[]:\n",
    "                next_page=False\n",
    "                \n",
    "        for hotel_reviews_item in hotel_reviews_list:\n",
    "       \n",
    "            review_score_badge = hotel_reviews_item.find(class_ = 'rating-score').get_text()\n",
    "            review_item_header_content = hotel_reviews_item.find(class_ = 'rating-badge').get_text().strip('\\n')\n",
    "            review_staydate = extract_review_staydate(hotel_reviews_item.find(class_ = 'date'))            \n",
    "            review_body = de_emojify(extract_review_body(hotel_reviews_item.find(class_ = 'expandable-content description')))            \n",
    "            review_info_tag = hotel_reviews_item.find(class_='trip-type-nights').get_text()\n",
    "            \n",
    "            writer.writerow([input_url.split('hotels.com/')[1],hotel_category_scores_list,review_score_badge,\n",
    "                             review_item_header_content,review_info_tag,review_staydate,review_body]) "
   ]
  },
  {
   "cell_type": "code",
   "execution_count": 42,
   "metadata": {},
   "outputs": [],
   "source": [
    "def get_info_input_hotel(input_url):\n",
    "    input_hotel_info_csvname = './datasets/input/input_hotel_info.csv'\n",
    "\n",
    "    with open(input_hotel_info_csvname, 'w', newline='', encoding=\"UTF-8\") as f:\n",
    "        writer = csv.writer(f)\n",
    "        writer.writerow(['hotel_name','hotel_name_full','hotel_stars','hotel_address',\n",
    "                     'hotel_overall_rating','hotel_room_name','hotel_room_price'])\n",
    "    \n",
    "        url= input_url + '/?q-check-out=2020-09-17&q-check-in=2020-09-16'\n",
    "        response = requests.get(url,headers=headers)\n",
    "        hotel_info = BeautifulSoup(response.text, 'html.parser')\n",
    "    \n",
    "        hotel_name_full = hotel_info.find(class_='vcard').get_text()\n",
    "        hotel_stars = hotel_info.find(class_='star-rating-text widget-star-rating-overlay widget-tooltip widget-tooltip-responsive widget-tooltip-ignore-touch').get_text()\n",
    "        hotel_address = hotel_info.find(class_='postal-addr').get_text()\n",
    "        hotel_overall_rating = hotel_info.find(class_='rating good').get_text()\n",
    "        hotel_room_name = hotel_info.find(class_='room-name').get_text()\n",
    "        hotel_room_price = hotel_info.find(class_='current-price').get_text()\n",
    "    \n",
    "        writer.writerow([input_url.split('hotels.com/')[1],hotel_name_full,hotel_stars,\n",
    "                         hotel_address,hotel_overall_rating,hotel_room_name,hotel_room_price])"
   ]
  },
  {
   "cell_type": "markdown",
   "metadata": {},
   "source": [
    "### Specify user agent"
   ]
  },
  {
   "cell_type": "code",
   "execution_count": 3,
   "metadata": {},
   "outputs": [],
   "source": [
    "headers = {'User-Agent': 'Mozilla/5.0 (X11; Linux x86_64) AppleWebKit/537.36 (KHTML, like Gecko) Chrome/80.0.3987.149 Safari/537.36'}"
   ]
  },
  {
   "cell_type": "markdown",
   "metadata": {},
   "source": [
    "### User input"
   ]
  },
  {
   "cell_type": "code",
   "execution_count": 43,
   "metadata": {},
   "outputs": [],
   "source": [
    "input_url = 'https://www.hotels.com/ho127108'"
   ]
  },
  {
   "cell_type": "markdown",
   "metadata": {},
   "source": [
    "### Get reviews of input hotel"
   ]
  },
  {
   "cell_type": "code",
   "execution_count": 66,
   "metadata": {},
   "outputs": [],
   "source": [
    "get_reviews_input_hotel(input_url)"
   ]
  },
  {
   "cell_type": "markdown",
   "metadata": {},
   "source": [
    "### Get info of input hotel"
   ]
  },
  {
   "cell_type": "code",
   "execution_count": 45,
   "metadata": {},
   "outputs": [],
   "source": [
    "get_info_input_hotel(input_url)"
   ]
  },
  {
   "cell_type": "code",
   "execution_count": null,
   "metadata": {},
   "outputs": [],
   "source": []
  }
 ],
 "metadata": {
  "kernelspec": {
   "display_name": "Python 3",
   "language": "python",
   "name": "python3"
  },
  "language_info": {
   "codemirror_mode": {
    "name": "ipython",
    "version": 3
   },
   "file_extension": ".py",
   "mimetype": "text/x-python",
   "name": "python",
   "nbconvert_exporter": "python",
   "pygments_lexer": "ipython3",
   "version": "3.8.1"
  }
 },
 "nbformat": 4,
 "nbformat_minor": 4
}
