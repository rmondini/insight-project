{
 "cells": [
  {
   "cell_type": "markdown",
   "metadata": {},
   "source": [
    "### Import libraries"
   ]
  },
  {
   "cell_type": "code",
   "execution_count": 1,
   "metadata": {},
   "outputs": [],
   "source": [
    "import pandas as pd\n",
    "import numpy as np\n",
    "import matplotlib.pyplot as plt\n",
    "import seaborn as sns\n",
    "import csv\n",
    "import nltk.data\n",
    "import string\n",
    "from sklearn.feature_extraction.text import CountVectorizer,TfidfTransformer\n",
    "from sklearn.naive_bayes import MultinomialNB\n",
    "from sklearn.metrics import confusion_matrix,classification_report\n",
    "from sklearn.model_selection import train_test_split\n",
    "from sklearn.pipeline import Pipeline"
   ]
  },
  {
   "cell_type": "markdown",
   "metadata": {},
   "source": [
    "### Define useful functions"
   ]
  },
  {
   "cell_type": "code",
   "execution_count": 12,
   "metadata": {},
   "outputs": [],
   "source": [
    "def text_process(review_sentence):\n",
    "    return [word.lower() for word in review_sentence.split()]"
   ]
  },
  {
   "cell_type": "markdown",
   "metadata": {},
   "source": [
    "### Import dataset"
   ]
  },
  {
   "cell_type": "code",
   "execution_count": 50,
   "metadata": {},
   "outputs": [],
   "source": [
    "df_negative_sentences_tagged = pd.read_csv('./datasets/df_negative_sentences_part1_tagged.csv',lineterminator='\\n')"
   ]
  },
  {
   "cell_type": "markdown",
   "metadata": {},
   "source": [
    "### Drop NaN for review_topic"
   ]
  },
  {
   "cell_type": "code",
   "execution_count": 51,
   "metadata": {},
   "outputs": [],
   "source": [
    "df_negative_sentences_tagged_subset = df_negative_sentences_tagged[df_negative_sentences_tagged['review_topic'].notna()]"
   ]
  },
  {
   "cell_type": "code",
   "execution_count": 52,
   "metadata": {},
   "outputs": [
    {
     "data": {
      "text/html": [
       "<div>\n",
       "<style scoped>\n",
       "    .dataframe tbody tr th:only-of-type {\n",
       "        vertical-align: middle;\n",
       "    }\n",
       "\n",
       "    .dataframe tbody tr th {\n",
       "        vertical-align: top;\n",
       "    }\n",
       "\n",
       "    .dataframe thead tr th {\n",
       "        text-align: left;\n",
       "    }\n",
       "\n",
       "    .dataframe thead tr:last-of-type th {\n",
       "        text-align: right;\n",
       "    }\n",
       "</style>\n",
       "<table border=\"1\" class=\"dataframe\">\n",
       "  <thead>\n",
       "    <tr>\n",
       "      <th></th>\n",
       "      <th colspan=\"8\" halign=\"left\">review_score_badge</th>\n",
       "      <th colspan=\"8\" halign=\"left\">review_label</th>\n",
       "    </tr>\n",
       "    <tr>\n",
       "      <th></th>\n",
       "      <th>count</th>\n",
       "      <th>mean</th>\n",
       "      <th>std</th>\n",
       "      <th>min</th>\n",
       "      <th>25%</th>\n",
       "      <th>50%</th>\n",
       "      <th>75%</th>\n",
       "      <th>max</th>\n",
       "      <th>count</th>\n",
       "      <th>mean</th>\n",
       "      <th>std</th>\n",
       "      <th>min</th>\n",
       "      <th>25%</th>\n",
       "      <th>50%</th>\n",
       "      <th>75%</th>\n",
       "      <th>max</th>\n",
       "    </tr>\n",
       "    <tr>\n",
       "      <th>review_topic</th>\n",
       "      <th></th>\n",
       "      <th></th>\n",
       "      <th></th>\n",
       "      <th></th>\n",
       "      <th></th>\n",
       "      <th></th>\n",
       "      <th></th>\n",
       "      <th></th>\n",
       "      <th></th>\n",
       "      <th></th>\n",
       "      <th></th>\n",
       "      <th></th>\n",
       "      <th></th>\n",
       "      <th></th>\n",
       "      <th></th>\n",
       "      <th></th>\n",
       "    </tr>\n",
       "  </thead>\n",
       "  <tbody>\n",
       "    <tr>\n",
       "      <th>AH</th>\n",
       "      <td>10.0</td>\n",
       "      <td>8.070000</td>\n",
       "      <td>1.369550</td>\n",
       "      <td>6.7</td>\n",
       "      <td>6.70</td>\n",
       "      <td>8.15</td>\n",
       "      <td>8.80</td>\n",
       "      <td>10.0</td>\n",
       "      <td>10.0</td>\n",
       "      <td>0.0</td>\n",
       "      <td>0.0</td>\n",
       "      <td>0.0</td>\n",
       "      <td>0.0</td>\n",
       "      <td>0.0</td>\n",
       "      <td>0.0</td>\n",
       "      <td>0.0</td>\n",
       "    </tr>\n",
       "    <tr>\n",
       "      <th>B</th>\n",
       "      <td>20.0</td>\n",
       "      <td>7.970000</td>\n",
       "      <td>1.388714</td>\n",
       "      <td>5.0</td>\n",
       "      <td>7.10</td>\n",
       "      <td>7.50</td>\n",
       "      <td>9.05</td>\n",
       "      <td>10.0</td>\n",
       "      <td>20.0</td>\n",
       "      <td>0.0</td>\n",
       "      <td>0.0</td>\n",
       "      <td>0.0</td>\n",
       "      <td>0.0</td>\n",
       "      <td>0.0</td>\n",
       "      <td>0.0</td>\n",
       "      <td>0.0</td>\n",
       "    </tr>\n",
       "    <tr>\n",
       "      <th>BF</th>\n",
       "      <td>22.0</td>\n",
       "      <td>8.204545</td>\n",
       "      <td>1.248419</td>\n",
       "      <td>5.4</td>\n",
       "      <td>7.50</td>\n",
       "      <td>8.00</td>\n",
       "      <td>9.00</td>\n",
       "      <td>10.0</td>\n",
       "      <td>22.0</td>\n",
       "      <td>0.0</td>\n",
       "      <td>0.0</td>\n",
       "      <td>0.0</td>\n",
       "      <td>0.0</td>\n",
       "      <td>0.0</td>\n",
       "      <td>0.0</td>\n",
       "      <td>0.0</td>\n",
       "    </tr>\n",
       "    <tr>\n",
       "      <th>F</th>\n",
       "      <td>11.0</td>\n",
       "      <td>8.309091</td>\n",
       "      <td>0.897167</td>\n",
       "      <td>7.1</td>\n",
       "      <td>7.95</td>\n",
       "      <td>8.30</td>\n",
       "      <td>8.55</td>\n",
       "      <td>10.0</td>\n",
       "      <td>11.0</td>\n",
       "      <td>0.0</td>\n",
       "      <td>0.0</td>\n",
       "      <td>0.0</td>\n",
       "      <td>0.0</td>\n",
       "      <td>0.0</td>\n",
       "      <td>0.0</td>\n",
       "      <td>0.0</td>\n",
       "    </tr>\n",
       "    <tr>\n",
       "      <th>H</th>\n",
       "      <td>29.0</td>\n",
       "      <td>8.134483</td>\n",
       "      <td>1.682531</td>\n",
       "      <td>2.5</td>\n",
       "      <td>7.50</td>\n",
       "      <td>8.00</td>\n",
       "      <td>9.20</td>\n",
       "      <td>10.0</td>\n",
       "      <td>29.0</td>\n",
       "      <td>0.0</td>\n",
       "      <td>0.0</td>\n",
       "      <td>0.0</td>\n",
       "      <td>0.0</td>\n",
       "      <td>0.0</td>\n",
       "      <td>0.0</td>\n",
       "      <td>0.0</td>\n",
       "    </tr>\n",
       "    <tr>\n",
       "      <th>L</th>\n",
       "      <td>8.0</td>\n",
       "      <td>8.200000</td>\n",
       "      <td>1.351190</td>\n",
       "      <td>5.4</td>\n",
       "      <td>7.50</td>\n",
       "      <td>8.80</td>\n",
       "      <td>9.00</td>\n",
       "      <td>9.6</td>\n",
       "      <td>8.0</td>\n",
       "      <td>0.0</td>\n",
       "      <td>0.0</td>\n",
       "      <td>0.0</td>\n",
       "      <td>0.0</td>\n",
       "      <td>0.0</td>\n",
       "      <td>0.0</td>\n",
       "      <td>0.0</td>\n",
       "    </tr>\n",
       "    <tr>\n",
       "      <th>N</th>\n",
       "      <td>23.0</td>\n",
       "      <td>7.752174</td>\n",
       "      <td>1.518932</td>\n",
       "      <td>5.0</td>\n",
       "      <td>6.70</td>\n",
       "      <td>7.50</td>\n",
       "      <td>9.10</td>\n",
       "      <td>10.0</td>\n",
       "      <td>23.0</td>\n",
       "      <td>0.0</td>\n",
       "      <td>0.0</td>\n",
       "      <td>0.0</td>\n",
       "      <td>0.0</td>\n",
       "      <td>0.0</td>\n",
       "      <td>0.0</td>\n",
       "      <td>0.0</td>\n",
       "    </tr>\n",
       "    <tr>\n",
       "      <th>O</th>\n",
       "      <td>39.0</td>\n",
       "      <td>9.115385</td>\n",
       "      <td>1.406851</td>\n",
       "      <td>2.5</td>\n",
       "      <td>8.55</td>\n",
       "      <td>10.00</td>\n",
       "      <td>10.00</td>\n",
       "      <td>10.0</td>\n",
       "      <td>39.0</td>\n",
       "      <td>0.0</td>\n",
       "      <td>0.0</td>\n",
       "      <td>0.0</td>\n",
       "      <td>0.0</td>\n",
       "      <td>0.0</td>\n",
       "      <td>0.0</td>\n",
       "      <td>0.0</td>\n",
       "    </tr>\n",
       "    <tr>\n",
       "      <th>P</th>\n",
       "      <td>4.0</td>\n",
       "      <td>9.200000</td>\n",
       "      <td>0.864099</td>\n",
       "      <td>8.0</td>\n",
       "      <td>8.90</td>\n",
       "      <td>9.40</td>\n",
       "      <td>9.70</td>\n",
       "      <td>10.0</td>\n",
       "      <td>4.0</td>\n",
       "      <td>0.0</td>\n",
       "      <td>0.0</td>\n",
       "      <td>0.0</td>\n",
       "      <td>0.0</td>\n",
       "      <td>0.0</td>\n",
       "      <td>0.0</td>\n",
       "      <td>0.0</td>\n",
       "    </tr>\n",
       "    <tr>\n",
       "      <th>R</th>\n",
       "      <td>42.0</td>\n",
       "      <td>7.904762</td>\n",
       "      <td>1.703075</td>\n",
       "      <td>2.5</td>\n",
       "      <td>7.10</td>\n",
       "      <td>8.15</td>\n",
       "      <td>9.15</td>\n",
       "      <td>10.0</td>\n",
       "      <td>42.0</td>\n",
       "      <td>0.0</td>\n",
       "      <td>0.0</td>\n",
       "      <td>0.0</td>\n",
       "      <td>0.0</td>\n",
       "      <td>0.0</td>\n",
       "      <td>0.0</td>\n",
       "      <td>0.0</td>\n",
       "    </tr>\n",
       "    <tr>\n",
       "      <th>SM</th>\n",
       "      <td>5.0</td>\n",
       "      <td>8.900000</td>\n",
       "      <td>1.523155</td>\n",
       "      <td>6.3</td>\n",
       "      <td>9.00</td>\n",
       "      <td>9.20</td>\n",
       "      <td>10.00</td>\n",
       "      <td>10.0</td>\n",
       "      <td>5.0</td>\n",
       "      <td>0.0</td>\n",
       "      <td>0.0</td>\n",
       "      <td>0.0</td>\n",
       "      <td>0.0</td>\n",
       "      <td>0.0</td>\n",
       "      <td>0.0</td>\n",
       "      <td>0.0</td>\n",
       "    </tr>\n",
       "    <tr>\n",
       "      <th>ST</th>\n",
       "      <td>7.0</td>\n",
       "      <td>7.728571</td>\n",
       "      <td>0.558911</td>\n",
       "      <td>7.1</td>\n",
       "      <td>7.30</td>\n",
       "      <td>7.50</td>\n",
       "      <td>8.30</td>\n",
       "      <td>8.3</td>\n",
       "      <td>7.0</td>\n",
       "      <td>0.0</td>\n",
       "      <td>0.0</td>\n",
       "      <td>0.0</td>\n",
       "      <td>0.0</td>\n",
       "      <td>0.0</td>\n",
       "      <td>0.0</td>\n",
       "      <td>0.0</td>\n",
       "    </tr>\n",
       "    <tr>\n",
       "      <th>WF</th>\n",
       "      <td>1.0</td>\n",
       "      <td>6.700000</td>\n",
       "      <td>NaN</td>\n",
       "      <td>6.7</td>\n",
       "      <td>6.70</td>\n",
       "      <td>6.70</td>\n",
       "      <td>6.70</td>\n",
       "      <td>6.7</td>\n",
       "      <td>1.0</td>\n",
       "      <td>0.0</td>\n",
       "      <td>NaN</td>\n",
       "      <td>0.0</td>\n",
       "      <td>0.0</td>\n",
       "      <td>0.0</td>\n",
       "      <td>0.0</td>\n",
       "      <td>0.0</td>\n",
       "    </tr>\n",
       "  </tbody>\n",
       "</table>\n",
       "</div>"
      ],
      "text/plain": [
       "             review_score_badge                                               \\\n",
       "                          count      mean       std  min   25%    50%    75%   \n",
       "review_topic                                                                   \n",
       "AH                         10.0  8.070000  1.369550  6.7  6.70   8.15   8.80   \n",
       "B                          20.0  7.970000  1.388714  5.0  7.10   7.50   9.05   \n",
       "BF                         22.0  8.204545  1.248419  5.4  7.50   8.00   9.00   \n",
       "F                          11.0  8.309091  0.897167  7.1  7.95   8.30   8.55   \n",
       "H                          29.0  8.134483  1.682531  2.5  7.50   8.00   9.20   \n",
       "L                           8.0  8.200000  1.351190  5.4  7.50   8.80   9.00   \n",
       "N                          23.0  7.752174  1.518932  5.0  6.70   7.50   9.10   \n",
       "O                          39.0  9.115385  1.406851  2.5  8.55  10.00  10.00   \n",
       "P                           4.0  9.200000  0.864099  8.0  8.90   9.40   9.70   \n",
       "R                          42.0  7.904762  1.703075  2.5  7.10   8.15   9.15   \n",
       "SM                          5.0  8.900000  1.523155  6.3  9.00   9.20  10.00   \n",
       "ST                          7.0  7.728571  0.558911  7.1  7.30   7.50   8.30   \n",
       "WF                          1.0  6.700000       NaN  6.7  6.70   6.70   6.70   \n",
       "\n",
       "                   review_label                                     \n",
       "               max        count mean  std  min  25%  50%  75%  max  \n",
       "review_topic                                                        \n",
       "AH            10.0         10.0  0.0  0.0  0.0  0.0  0.0  0.0  0.0  \n",
       "B             10.0         20.0  0.0  0.0  0.0  0.0  0.0  0.0  0.0  \n",
       "BF            10.0         22.0  0.0  0.0  0.0  0.0  0.0  0.0  0.0  \n",
       "F             10.0         11.0  0.0  0.0  0.0  0.0  0.0  0.0  0.0  \n",
       "H             10.0         29.0  0.0  0.0  0.0  0.0  0.0  0.0  0.0  \n",
       "L              9.6          8.0  0.0  0.0  0.0  0.0  0.0  0.0  0.0  \n",
       "N             10.0         23.0  0.0  0.0  0.0  0.0  0.0  0.0  0.0  \n",
       "O             10.0         39.0  0.0  0.0  0.0  0.0  0.0  0.0  0.0  \n",
       "P             10.0          4.0  0.0  0.0  0.0  0.0  0.0  0.0  0.0  \n",
       "R             10.0         42.0  0.0  0.0  0.0  0.0  0.0  0.0  0.0  \n",
       "SM            10.0          5.0  0.0  0.0  0.0  0.0  0.0  0.0  0.0  \n",
       "ST             8.3          7.0  0.0  0.0  0.0  0.0  0.0  0.0  0.0  \n",
       "WF             6.7          1.0  0.0  NaN  0.0  0.0  0.0  0.0  0.0  "
      ]
     },
     "execution_count": 52,
     "metadata": {},
     "output_type": "execute_result"
    }
   ],
   "source": [
    "df_negative_sentences_tagged_subset.groupby('review_topic').describe()"
   ]
  },
  {
   "cell_type": "markdown",
   "metadata": {},
   "source": [
    "# Modeling"
   ]
  },
  {
   "cell_type": "markdown",
   "metadata": {},
   "source": [
    "## Create model pipeline: Vectorization (BoW), TF-IDF, Naive Bayes Classifier"
   ]
  },
  {
   "cell_type": "code",
   "execution_count": 60,
   "metadata": {},
   "outputs": [],
   "source": [
    "model_pipeline = Pipeline([\n",
    "    ('bow', CountVectorizer(analyzer=text_process)),  # strings to token integer counts\n",
    "    #('tfidf', TfidfTransformer()),  # integer counts to weighted TF-IDF scores\n",
    "    ('classifier', MultinomialNB())  # train on TF-IDF vectors w/ Naive Bayes classifier\n",
    "])"
   ]
  },
  {
   "cell_type": "markdown",
   "metadata": {},
   "source": [
    "## Train-validation split"
   ]
  },
  {
   "cell_type": "code",
   "execution_count": 61,
   "metadata": {},
   "outputs": [],
   "source": [
    "df_features = df_negative_sentences_tagged_subset.drop('review_topic', axis=1)"
   ]
  },
  {
   "cell_type": "code",
   "execution_count": 62,
   "metadata": {},
   "outputs": [],
   "source": [
    "df_train, df_valid, label_train, label_valid = train_test_split(df_features, df_negative_sentences_tagged_subset['review_topic'], test_size=0.2)"
   ]
  },
  {
   "cell_type": "markdown",
   "metadata": {},
   "source": [
    "## Train model"
   ]
  },
  {
   "cell_type": "code",
   "execution_count": 63,
   "metadata": {},
   "outputs": [
    {
     "data": {
      "text/plain": [
       "Pipeline(memory=None,\n",
       "         steps=[('bow',\n",
       "                 CountVectorizer(analyzer=<function text_process at 0x7f09db9c5040>,\n",
       "                                 binary=False, decode_error='strict',\n",
       "                                 dtype=<class 'numpy.int64'>, encoding='utf-8',\n",
       "                                 input='content', lowercase=True, max_df=1.0,\n",
       "                                 max_features=None, min_df=1,\n",
       "                                 ngram_range=(1, 1), preprocessor=None,\n",
       "                                 stop_words=None, strip_accents=None,\n",
       "                                 token_pattern='(?u)\\\\b\\\\w\\\\w+\\\\b',\n",
       "                                 tokenizer=None, vocabulary=None)),\n",
       "                ('classifier',\n",
       "                 MultinomialNB(alpha=1.0, class_prior=None, fit_prior=True))],\n",
       "         verbose=False)"
      ]
     },
     "execution_count": 63,
     "metadata": {},
     "output_type": "execute_result"
    }
   ],
   "source": [
    "model_pipeline.fit(df_train['review_sentence'],label_train)"
   ]
  },
  {
   "cell_type": "markdown",
   "metadata": {},
   "source": [
    "## Validate model"
   ]
  },
  {
   "cell_type": "code",
   "execution_count": 64,
   "metadata": {},
   "outputs": [],
   "source": [
    "predictions = model_pipeline.predict(df_valid['review_sentence'])"
   ]
  },
  {
   "cell_type": "markdown",
   "metadata": {},
   "source": [
    "## Print classification report"
   ]
  },
  {
   "cell_type": "code",
   "execution_count": 65,
   "metadata": {},
   "outputs": [
    {
     "name": "stdout",
     "output_type": "stream",
     "text": [
      "              precision    recall  f1-score   support\n",
      "\n",
      "          AH       0.00      0.00      0.00         2\n",
      "           B       0.00      0.00      0.00         2\n",
      "          BF       0.00      0.00      0.00         5\n",
      "           F       0.00      0.00      0.00         2\n",
      "           H       0.00      0.00      0.00         2\n",
      "           L       0.00      0.00      0.00         1\n",
      "           N       0.33      0.25      0.29         4\n",
      "           O       0.71      0.56      0.63         9\n",
      "           P       0.00      0.00      0.00         2\n",
      "           R       0.41      0.85      0.55        13\n",
      "          SM       0.00      0.00      0.00         1\n",
      "          ST       0.00      0.00      0.00         2\n",
      "\n",
      "    accuracy                           0.38        45\n",
      "   macro avg       0.12      0.14      0.12        45\n",
      "weighted avg       0.29      0.38      0.31        45\n",
      "\n"
     ]
    },
    {
     "name": "stderr",
     "output_type": "stream",
     "text": [
      "/home/roberto/anaconda3/envs/insight/lib/python3.8/site-packages/sklearn/metrics/_classification.py:1272: UndefinedMetricWarning: Precision and F-score are ill-defined and being set to 0.0 in labels with no predicted samples. Use `zero_division` parameter to control this behavior.\n",
      "  _warn_prf(average, modifier, msg_start, len(result))\n"
     ]
    }
   ],
   "source": [
    "print(classification_report(label_valid,predictions))"
   ]
  },
  {
   "cell_type": "markdown",
   "metadata": {},
   "source": [
    "## Print confusion matrix"
   ]
  },
  {
   "cell_type": "code",
   "execution_count": 66,
   "metadata": {},
   "outputs": [],
   "source": [
    "valid_cm = confusion_matrix(label_valid,predictions)"
   ]
  },
  {
   "cell_type": "code",
   "execution_count": 67,
   "metadata": {},
   "outputs": [
    {
     "data": {
      "text/plain": [
       "array([[ 0,  0,  0,  0,  0,  0,  0,  0,  0,  2,  0,  0],\n",
       "       [ 0,  0,  0,  0,  1,  0,  0,  0,  0,  1,  0,  0],\n",
       "       [ 0,  0,  0,  0,  0,  0,  0,  1,  0,  4,  0,  0],\n",
       "       [ 0,  1,  0,  0,  0,  0,  0,  0,  0,  1,  0,  0],\n",
       "       [ 0,  0,  0,  0,  0,  0,  0,  1,  0,  1,  0,  0],\n",
       "       [ 0,  1,  0,  0,  0,  0,  0,  0,  0,  0,  0,  0],\n",
       "       [ 0,  0,  0,  0,  0,  0,  1,  0,  0,  3,  0,  0],\n",
       "       [ 0,  0,  0,  0,  2,  0,  0,  5,  0,  2,  0,  0],\n",
       "       [ 0,  0,  0,  0,  0,  0,  1,  0,  0,  1,  0,  0],\n",
       "       [ 0,  0,  0,  0,  2,  0,  0,  0,  0, 11,  0,  0],\n",
       "       [ 0,  0,  0,  0,  0,  0,  1,  0,  0,  0,  0,  0],\n",
       "       [ 0,  0,  1,  0,  0,  0,  0,  0,  0,  1,  0,  0]])"
      ]
     },
     "execution_count": 67,
     "metadata": {},
     "output_type": "execute_result"
    }
   ],
   "source": [
    "valid_cm"
   ]
  },
  {
   "cell_type": "code",
   "execution_count": null,
   "metadata": {},
   "outputs": [],
   "source": []
  },
  {
   "cell_type": "code",
   "execution_count": null,
   "metadata": {},
   "outputs": [],
   "source": []
  },
  {
   "cell_type": "code",
   "execution_count": null,
   "metadata": {},
   "outputs": [],
   "source": []
  },
  {
   "cell_type": "code",
   "execution_count": null,
   "metadata": {},
   "outputs": [],
   "source": []
  },
  {
   "cell_type": "code",
   "execution_count": null,
   "metadata": {},
   "outputs": [],
   "source": []
  },
  {
   "cell_type": "code",
   "execution_count": null,
   "metadata": {},
   "outputs": [],
   "source": []
  }
 ],
 "metadata": {
  "kernelspec": {
   "display_name": "Python 3",
   "language": "python",
   "name": "python3"
  },
  "language_info": {
   "codemirror_mode": {
    "name": "ipython",
    "version": 3
   },
   "file_extension": ".py",
   "mimetype": "text/x-python",
   "name": "python",
   "nbconvert_exporter": "python",
   "pygments_lexer": "ipython3",
   "version": "3.8.1"
  }
 },
 "nbformat": 4,
 "nbformat_minor": 4
}
