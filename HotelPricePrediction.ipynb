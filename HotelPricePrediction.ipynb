{
 "cells": [
  {
   "cell_type": "markdown",
   "metadata": {},
   "source": [
    "### Import libraries"
   ]
  },
  {
   "cell_type": "code",
   "execution_count": 48,
   "metadata": {},
   "outputs": [],
   "source": [
    "import pandas as pd\n",
    "import numpy as np\n",
    "import pickle"
   ]
  },
  {
   "cell_type": "markdown",
   "metadata": {},
   "source": [
    "### Define useful functions"
   ]
  },
  {
   "cell_type": "code",
   "execution_count": 336,
   "metadata": {},
   "outputs": [],
   "source": [
    "def extract_zip_code(hotel_address):\n",
    "    address_tmp = hotel_address.split(',')[-2].strip(' ').split(' ')[-1][:5]\n",
    "    if address_tmp == 'NY1':\n",
    "        return hotel_address.split(',')[-2].strip(' ').split(' ')[-1][2:7]\n",
    "    else:\n",
    "        return address_tmp"
   ]
  },
  {
   "cell_type": "code",
   "execution_count": 298,
   "metadata": {},
   "outputs": [],
   "source": [
    "def display_info_hotel(df_hotels_item):\n",
    "    \n",
    "    print('Hotel name: ',df_hotels_item['hotel_name'].values[0])\n",
    "    print('---------------------')\n",
    "    print('Negative mentions per topic: ')\n",
    "    print('(0)  Noise/Smell/AC-Heat: ', str(int(df_hotels_item['0_neg'])))\n",
    "    print('(1)  Staff/Check-in/out: ', str(int(df_hotels_item['1_neg'])))\n",
    "    print('(2)  Breakfast: ', str(int(df_hotels_item['2_neg'])))\n",
    "    print('(3)  Facilities: ', str(int(df_hotels_item['3_neg'])))\n",
    "    #print('(4)  Parking: ', str(int(df_hotels_item['4_neg'])))\n",
    "    #print('(5)  Smell: ', str(int(df_hotels_item['5_neg'])))\n",
    "    #print('(6)  AC/Heat: ', str(int(df_hotels_item['6_neg'])))\n",
    "    #print('(7)  Wi-Fi: ', str(int(df_hotels_item['7_neg'])))\n",
    "    print('(4)  Location: ', str(int(df_hotels_item['4_neg'])))\n",
    "    #print('(9)  Check-in/Check-out: ', str(int(df_hotels_item['9_neg'])))\n",
    "    print('(5) Bathroom: ', str(int(df_hotels_item['5_neg'])))\n",
    "    print('(6) Room amenities: ', str(int(df_hotels_item['6_neg'])))\n",
    "    print('(7) Bed: ', str(int(df_hotels_item['7_neg'])))\n",
    "    #print('Other/no topic: ', str(int(df_hotels_item['-1_neg'])))\n",
    "    \n",
    "def change_topic_counts(df_hotel_item,counts_delta_vec):\n",
    "    \n",
    "    df_hotel_item_cp = df_hotel_item.copy()\n",
    "    df_hotel_item_cp.reset_index(drop=True,inplace=True)\n",
    "    df_hotel_item_cp.at[0,'0_neg'] += counts_delta_vec[0]\n",
    "    df_hotel_item_cp.at[0,'1_neg'] += counts_delta_vec[1]\n",
    "    df_hotel_item_cp.at[0,'2_neg'] += counts_delta_vec[2]\n",
    "    df_hotel_item_cp.at[0,'3_neg'] += counts_delta_vec[3]\n",
    "    df_hotel_item_cp.at[0,'4_neg'] += counts_delta_vec[4]\n",
    "    df_hotel_item_cp.at[0,'5_neg'] += counts_delta_vec[5]\n",
    "    df_hotel_item_cp.at[0,'6_neg'] += counts_delta_vec[6]\n",
    "    df_hotel_item_cp.at[0,'7_neg'] += counts_delta_vec[7]\n",
    "    #df_hotel_item_cp.at[0,'8_neg'] += counts_delta_vec[8]\n",
    "    #df_hotel_item_cp.at[0,'9_neg'] += counts_delta_vec[9]\n",
    "    #df_hotel_item_cp.at[0,'10_neg'] += counts_delta_vec[10]\n",
    "    #df_hotel_item_cp.at[0,'11_neg'] += counts_delta_vec[11]\n",
    "    #df_hotel_item_cp.at[0,'12_neg'] += counts_delta_vec[12]\n",
    "    #df_hotel_item_cp.at[0,'sentences_count_neg'] +=sum(counts_delta_vec)\n",
    "    df_hotel_item_cp[[str(n)+'_pc_neg' for n in range(-1,8)]] = 100*df_hotel_item_cp[[str(n)+'_neg' for n in range(-1,8)]].div(df_hotel_item_cp.sentences_count_neg, axis=0)\n",
    "    \n",
    "    #display_info_hotel(df_hotel_item_cp)\n",
    "    return df_hotel_item_cp\n",
    "\n",
    "def get_price_prediction(model,cat_feat,feat_compl_list,feat_compl_list_dum,df_hotel_item):\n",
    "    \n",
    "    input_features = df_hotel_item[feat_compl_list]\n",
    "    input_target = df_hotel_item[['hotel_room_price_per_person_avg']]\n",
    "\n",
    "    scaled_input = input_features.copy()\n",
    "    scaled_input = scaled_input.reindex(columns = feat_compl_list_dum, fill_value=0)\n",
    "    for cat in cat_feat:\n",
    "        dummy_cat = cat+'_'+str(input_features[cat].values[0])\n",
    "        if dummy_cat in scaled_input.columns:\n",
    "            scaled_input.iloc[0, scaled_input.columns.get_loc(dummy_cat)] = 1\n",
    "            \n",
    "    price_pred = model.predict(scaled_input)[0][0]\n",
    "    #print('Price prediction :',str(round(price_pred,1)))\n",
    "    return price_pred\n",
    "    \n",
    "def update_price(model,cat_feat,feat_compl_list,feat_compl_list_dum,df_hotel_item,counts_delta_vec):\n",
    "    \n",
    "    # baseline price from model\n",
    "    baseline_price = get_price_prediction(model,cat_feat,feat_compl_list,feat_compl_list_dum,df_hotel_item)\n",
    "    \n",
    "    # change negative mentions per topic\n",
    "    df_hotel_item_changed = change_topic_counts(df_hotel_item,counts_delta_vec)\n",
    "    \n",
    "    # new price from model\n",
    "    new_price = get_price_prediction(model,cat_feat,feat_compl_list,feat_compl_list_dum,df_hotel_item_changed)\n",
    "    \n",
    "    # per cent change\n",
    "    per_cent_change = 100*(new_price-baseline_price)/baseline_price\n",
    "    \n",
    "    return [baseline_price,new_price,per_cent_change]"
   ]
  },
  {
   "cell_type": "markdown",
   "metadata": {},
   "source": [
    "### Import dataset"
   ]
  },
  {
   "cell_type": "code",
   "execution_count": 418,
   "metadata": {},
   "outputs": [],
   "source": [
    "df_hotels = pd.read_csv('./datasets/input_app/df_hotels.csv')"
   ]
  },
  {
   "cell_type": "markdown",
   "metadata": {},
   "source": [
    "### Create dataset with unique names for app"
   ]
  },
  {
   "cell_type": "code",
   "execution_count": 419,
   "metadata": {},
   "outputs": [],
   "source": [
    "df_hotels_unique_names = df_hotels.copy()"
   ]
  },
  {
   "cell_type": "code",
   "execution_count": 420,
   "metadata": {},
   "outputs": [],
   "source": [
    "df_hotels_unique_names['hotel_zip_code'] = df_hotels_unique_names['hotel_address'].apply(extract_zip_code)"
   ]
  },
  {
   "cell_type": "code",
   "execution_count": 421,
   "metadata": {},
   "outputs": [],
   "source": [
    "df_hotels_unique_names['hotel_unique_name'] = df_hotels_unique_names['hotel_name'] + ' (' + df_hotels_unique_names['hotel_zip_code'] + ')'"
   ]
  },
  {
   "cell_type": "code",
   "execution_count": 422,
   "metadata": {},
   "outputs": [],
   "source": [
    "df_hotels_unique_names.to_csv('./datasets/input_app/df_hotels_unique_names.csv',index=Fals"
   ]
  },
  {
   "cell_type": "markdown",
   "metadata": {},
   "source": [
    "### Import regression model and aux files"
   ]
  },
  {
   "cell_type": "code",
   "execution_count": 424,
   "metadata": {},
   "outputs": [],
   "source": [
    "reg = pickle.load(open('price_regression_model.sav','rb'))\n",
    "categorical_features = pickle.load(open('categorical_features.sav','rb'))\n",
    "features_complete_list = pickle.load(open('features_complete_list.sav','rb'))\n",
    "features_complete_list_dummies = pickle.load(open('features_complete_list_dummies.sav','rb'))"
   ]
  },
  {
   "cell_type": "markdown",
   "metadata": {},
   "source": [
    "### Input and test"
   ]
  },
  {
   "cell_type": "code",
   "execution_count": 432,
   "metadata": {},
   "outputs": [],
   "source": [
    "input_hotel = df_hotels[df_hotels['hotel_name']=='Buffalo Grand Hotel']"
   ]
  },
  {
   "cell_type": "code",
   "execution_count": 433,
   "metadata": {},
   "outputs": [
    {
     "name": "stdout",
     "output_type": "stream",
     "text": [
      "Hotel name:  Buffalo Grand Hotel\n",
      "---------------------\n",
      "Negative mentions per topic: \n",
      "(0)  Noise/Smell/AC-Heat:  14\n",
      "(1)  Staff/Check-in/out:  34\n",
      "(2)  Breakfast:  30\n",
      "(3)  Facilities:  46\n",
      "(4)  Location:  32\n",
      "(5) Bathroom:  53\n",
      "(6) Room amenities:  129\n",
      "(7) Bed:  48\n"
     ]
    }
   ],
   "source": [
    "display_info_hotel(input_hotel)"
   ]
  },
  {
   "cell_type": "code",
   "execution_count": 437,
   "metadata": {},
   "outputs": [],
   "source": [
    "counts_delta_vec = [0,0,0,-46,0,0,0,0]\n",
    "test_output = update_price(reg,categorical_features,features_complete_list,features_complete_list_dummies,input_hotel,counts_delta_vec)"
   ]
  },
  {
   "cell_type": "code",
   "execution_count": 438,
   "metadata": {},
   "outputs": [
    {
     "data": {
      "text/plain": [
       "[64.37007636661016, 67.90071356352766, 5.484904471464783]"
      ]
     },
     "execution_count": 438,
     "metadata": {},
     "output_type": "execute_result"
    }
   ],
   "source": [
    "# original price, new price, % change\n",
    "test_output"
   ]
  },
  {
   "cell_type": "code",
   "execution_count": 436,
   "metadata": {},
   "outputs": [
    {
     "data": {
      "text/plain": [
       "573    71.5\n",
       "Name: hotel_room_price_per_person_avg, dtype: float64"
      ]
     },
     "execution_count": 436,
     "metadata": {},
     "output_type": "execute_result"
    }
   ],
   "source": [
    "input_hotel['hotel_room_price_per_person_avg']"
   ]
  },
  {
   "cell_type": "code",
   "execution_count": null,
   "metadata": {},
   "outputs": [],
   "source": []
  },
  {
   "cell_type": "code",
   "execution_count": null,
   "metadata": {},
   "outputs": [],
   "source": []
  }
 ],
 "metadata": {
  "kernelspec": {
   "display_name": "Python 3",
   "language": "python",
   "name": "python3"
  },
  "language_info": {
   "codemirror_mode": {
    "name": "ipython",
    "version": 3
   },
   "file_extension": ".py",
   "mimetype": "text/x-python",
   "name": "python",
   "nbconvert_exporter": "python",
   "pygments_lexer": "ipython3",
   "version": "3.8.1"
  }
 },
 "nbformat": 4,
 "nbformat_minor": 4
}
